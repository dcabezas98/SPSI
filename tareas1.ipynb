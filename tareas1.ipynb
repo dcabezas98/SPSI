{
 "cells": [
  {
   "cell_type": "code",
   "execution_count": 214,
   "metadata": {},
   "outputs": [],
   "source": [
    "from math import sqrt\n",
    "import numpy as np\n",
    "import unicodedata\n",
    "import random\n",
    "import string"
   ]
  },
  {
   "cell_type": "markdown",
   "metadata": {},
   "source": [
    "# Tarea 1: Exponenciación rápida"
   ]
  },
  {
   "cell_type": "markdown",
   "metadata": {},
   "source": [
    "### a)"
   ]
  },
  {
   "cell_type": "code",
   "execution_count": 28,
   "metadata": {},
   "outputs": [],
   "source": [
    "def e(a,b):\n",
    "    if b==0:\n",
    "        return 1\n",
    "    if b>0 and b%2==0:\n",
    "        return e(a*a,b/2)\n",
    "    if b>0 and b%2==1:\n",
    "        return e(a*a,(b-1)/2)*a"
   ]
  },
  {
   "cell_type": "code",
   "execution_count": 32,
   "metadata": {},
   "outputs": [
    {
     "name": "stdout",
     "output_type": "stream",
     "text": [
      "8 1\n"
     ]
    }
   ],
   "source": [
    "print(e(2,3),e(0,0))"
   ]
  },
  {
   "cell_type": "markdown",
   "metadata": {},
   "source": [
    "### b)"
   ]
  },
  {
   "cell_type": "code",
   "execution_count": 4,
   "metadata": {},
   "outputs": [],
   "source": [
    "def e(a,b):\n",
    "    if b==0:\n",
    "        return 1\n",
    "    if b%2==0:\n",
    "        return e(a*a,b/2)\n",
    "    if b>0 and b%2==1:\n",
    "        return e(a*a,(b-1)/2)*a\n",
    "    if b<0 and b%2==1:\n",
    "        return e(a*a,(b+1)/2)/a"
   ]
  },
  {
   "cell_type": "code",
   "execution_count": 17,
   "metadata": {},
   "outputs": [
    {
     "name": "stdout",
     "output_type": "stream",
     "text": [
      "0.1111111111111111 0.25 -0.3333333333333333\n",
      "8 1\n"
     ]
    }
   ],
   "source": [
    "print(e(-3,-2),e(2,-2),e(-3,-1))"
   ]
  },
  {
   "cell_type": "markdown",
   "metadata": {},
   "source": [
    "### c)"
   ]
  },
  {
   "cell_type": "code",
   "execution_count": 32,
   "metadata": {},
   "outputs": [],
   "source": [
    "def e(a,b,n):\n",
    "    if b==0:\n",
    "        return 1\n",
    "    if b>0 and b%2==0:\n",
    "        return e(a*a%n,b/2,n)\n",
    "    if b>0 and b%2==1:\n",
    "        return e(a*a%n,(b-1)/2,n)*a%n\n",
    "    ### TODO: cuando b es negativo, podríamos elevar el inverso, ¿y si no existe inverso?\n",
    "    if b<0 b%2==0:\n",
    "        return e(a*a,b/2)\n",
    "    if b<0 and b%2==1:\n",
    "        return e(a*a%n,(b+1)/2,n)/a"
   ]
  },
  {
   "cell_type": "code",
   "execution_count": 40,
   "metadata": {},
   "outputs": [
    {
     "data": {
      "text/plain": [
       "0.3333333333333333"
      ]
     },
     "execution_count": 40,
     "metadata": {},
     "output_type": "execute_result"
    }
   ],
   "source": [
    "e(-3,-2,6)"
   ]
  },
  {
   "cell_type": "markdown",
   "metadata": {},
   "source": [
    "# Tarea 2: Criptosistema de Vigenère"
   ]
  },
  {
   "cell_type": "code",
   "execution_count": 137,
   "metadata": {},
   "outputs": [],
   "source": [
    "def normalize(c):\n",
    "    return unicodedata.normalize(\"NFD\",c)[0]\n",
    "\n",
    "def encode(cadena):\n",
    "    cadena=cadena.upper().replace('Ñ','GN')\n",
    "    cadena=''.join(normalize(c) for c in cadena if c.isalnum())\n",
    "    return cadena"
   ]
  },
  {
   "cell_type": "code",
   "execution_count": 292,
   "metadata": {},
   "outputs": [],
   "source": [
    "class Vigenere:\n",
    "    \n",
    "    def __init__(self,alphabet,key=None,keyLen=None):\n",
    "        self.A=alphabet\n",
    "        self.n=len(alphabet)\n",
    "        \n",
    "        self.value=dict(zip(self.A,range(self.n)))\n",
    "        self.character={v:k for k,v in self.value.items()}\n",
    "        \n",
    "        if key==None:\n",
    "            if keyLen==None:\n",
    "                keyLen=10\n",
    "            self.key=''.join(random.choice(self.A) for _ in range(keyLen))\n",
    "        else:\n",
    "            self.key=key\n",
    "            \n",
    "    def getValue(self,c):\n",
    "        return self.value[c]\n",
    "    \n",
    "    def getCharacter(self,v):\n",
    "        return self.character[v]\n",
    "            \n",
    "    def keyToLength(self, length):\n",
    "        return (self.key * (int(length/len(self.key))+1))[:length]\n",
    "            \n",
    "    def cipher(self,msg):\n",
    "        k=self.keyToLength(len(msg))\n",
    "        msg_values=list(map(self.getValue,msg))\n",
    "        key_values=list(map(self.getValue,k))\n",
    "        result=[(msg_values[i]+key_values[i])%self.n for i in range(len(msg))]\n",
    "        return ''.join((map(self.getCharacter,result)))\n",
    "        \n",
    "    def decipher(self, msg):\n",
    "        k=self.keyToLength(len(msg))\n",
    "        msg_values=list(map(self.getValue,msg))\n",
    "        key_values=list(map(self.getValue,k))\n",
    "        result=[(msg_values[i]-key_values[i])%self.n for i in range(len(msg))]\n",
    "        return ''.join((map(self.getCharacter,result)))"
   ]
  },
  {
   "cell_type": "code",
   "execution_count": 162,
   "metadata": {},
   "outputs": [],
   "source": [
    "alphabet=string.ascii_uppercase+string.digits"
   ]
  },
  {
   "cell_type": "code",
   "execution_count": 293,
   "metadata": {},
   "outputs": [],
   "source": [
    "#vig = Vigenere(alphabet,'CLAVEMUYSECRETA')\n",
    "vig = Vigenere(alphabet)"
   ]
  },
  {
   "cell_type": "code",
   "execution_count": 294,
   "metadata": {},
   "outputs": [
    {
     "data": {
      "text/plain": [
       "'ELSECRETOSEPROTEGEASIMISMOMICONSTRASEGNADELWIFIES123456'"
      ]
     },
     "execution_count": 294,
     "metadata": {},
     "output_type": "execute_result"
    }
   ],
   "source": [
    "msg=encode('el secreto se protege a sí mismo. Mi constraseña del WI-FI es 123456')\n",
    "msg"
   ]
  },
  {
   "cell_type": "code",
   "execution_count": 295,
   "metadata": {
    "scrolled": true
   },
   "outputs": [
    {
     "data": {
      "text/plain": [
       "'FNLPD431ZXFRKZUR5MLXJOB3N1BQNTOUM2B53OYFEGE7JS7M3635XG7'"
      ]
     },
     "execution_count": 295,
     "metadata": {},
     "output_type": "execute_result"
    }
   ],
   "source": [
    "cifrado=vig.cipher(msg)\n",
    "cifrado"
   ]
  },
  {
   "cell_type": "code",
   "execution_count": 296,
   "metadata": {},
   "outputs": [
    {
     "data": {
      "text/plain": [
       "'ELSECRETOSEPROTEGEASIMISMOMICONSTRASEGNADELWIFIES123456'"
      ]
     },
     "execution_count": 296,
     "metadata": {},
     "output_type": "execute_result"
    }
   ],
   "source": [
    "vig.decipher(cifrado)"
   ]
  },
  {
   "cell_type": "markdown",
   "metadata": {},
   "source": [
    "# Tareas 3 y 4: Rompiendo el criptosistema de Vigenère"
   ]
  },
  {
   "cell_type": "markdown",
   "metadata": {},
   "source": [
    "Vamos a poner un ejemplo del ataque al criptosistema de Vigenère usando el texto del ejercicio 4.\n",
    "El ataque se basa en la obtención de la clave por el siguiente procedimiento:\n",
    "- Primero se averigua su longitud, TODO\n",
    "Nos aprovechamos de que la clave se repite hasta ocupar la longitud del texto a cifrar\n",
    "https://github.com/ichantzaras/creamcrackerz"
   ]
  },
  {
   "cell_type": "code",
   "execution_count": 422,
   "metadata": {},
   "outputs": [],
   "source": [
    "text=\"\"\"UECWKDVLOTTVACKTPVGEZQMDAMRNPDDUXLBUICAMRHOECBHSPQLVIWO\n",
    "FFEAILPNTESMLDRUURIFAEQTTPXADWIAWLACCRPBHSRZIVQWOFROGTT\n",
    "NNXEVIVIBPDTTGAHVIACLAYKGJIEQHGECMESNNOCTHSGGNVWTQHKBPR\n",
    "HMVUOYWLIAFIRIGDBOEBQLIGWARQHNLOISQKEPEIDVXXNETPAXNZGDX\n",
    "WWEYQCTIGONNGJVHSQGEATHSYGSDVVOAQCXLHSPQMDMETRTMDUXTEQQ\n",
    "JMFAEEAAIMEZREGIMUECICBXRVQRSMENNWTXTNSRNBPZHMRVRDYNECG\n",
    "SPMEAVTENXKEQKCTTHSPCMQQHSQGTXMFPBGLWQZRBOEIZHQHGRTOBSG\n",
    "TATTZRNFOSMLEDWESIWDRNAPBFOFHEGIXLFVOGUZLNUSRCRAZGZRTTA\n",
    "YFEHKHMCQNTZLENPUCKBAYCICUBNRPCXIWEYCSIMFPRUTPLXSYCBGCC\n",
    "UYCQJMWIEKGTUBRHVATTLEKVACBXQHGPDZEANNTJZTDRNSDTFEVPDXK\n",
    "TMVNAIQMUQNOHKKOAQMTBKOFSUTUXPRTMXBXNPCLRCEAEOIAWGGVVUS\n",
    "GIOEWLIQFOZKSPVMEBLOHLXDVCYSMGOPJEFCXMRUIGDXNCCRPMLCEWT\n",
    "PZMOQQSAWLPHPTDAWEYJOGQSOAVERCTNQQEAVTUGKLJAXMRTGTIEAFW\n",
    "PTZYIPKESMEAFCGJILSBPLDABNFVRJUXNGQSWIUIGWAAMLDRNNPDXGN\n",
    "PTTGLUHUOBMXSPQNDKBDBTEECLECGRDPTYBVRDATQHKQJMKEFROCLXN\n",
    "FKNSCWANNAHXTRGKCJTTRRUEMQZEAEIPAWEYPAJBBLHUEHMVUNFRPVM\n",
    "EDWEKMHRREOGZBDBROGCGANIUYIBNZQVXTGORUUCUTNBOEIZHEFWNBI\n",
    "GOZGTGWXNRHERBHPHGSIWXNPQMJVBCNEIDVVOAGLPONAPWYPXKEFKOC\n",
    "MQTRTIDZBNQKCPLTTNOBXMGLNRRDNNNQKDPLTLNSUTAXMNPTXMGEZKA\n",
    "EIKAGQ\"\"\"\n",
    "text=encode(text)"
   ]
  },
  {
   "cell_type": "markdown",
   "metadata": {},
   "source": [
    "Primero encontramos las sequencias de caracteres que se repiten en el texto"
   ]
  },
  {
   "cell_type": "code",
   "execution_count": 423,
   "metadata": {},
   "outputs": [],
   "source": [
    "# Encuentra secuencias de caracteres que se repiten dos o más veces, así como las posiciones en las que aparecen\n",
    "def repeated_seq_pos(text, seq_len):\n",
    "    seq_pos = {}  # Guardaremos en un diccionario todas las secuencias y las posiciones en las que aparecen\n",
    "    for i, char in enumerate(text): # Recorremos el texto\n",
    "        next_seq = text[i:i+seq_len] # Tomamos cada posible secuencia de seq_len caracteres\n",
    "        if next_seq in seq_pos.keys(): # Si la secuencia ya había ocurrido, añadimos la nueva posición\n",
    "            seq_pos[next_seq].append(i)\n",
    "        else: # Si no había ocurrido, añadimos su primera ocurrencia\n",
    "            seq_pos[next_seq] = [i]\n",
    "    repeated = list(filter(lambda x: len(seq_pos[x]) >= 2, seq_pos)) # Nos quedamos con las secuencias que tienen 2 o más ocurrencias\n",
    "    rep_seq_pos = [(seq, seq_pos[seq]) for seq in repeated]\n",
    "    return rep_seq_pos"
   ]
  },
  {
   "cell_type": "code",
   "execution_count": 424,
   "metadata": {
    "scrolled": false
   },
   "outputs": [
    {
     "data": {
      "text/plain": [
       "[('UEC', [0, 292]),\n",
       " ('VAC', [11, 518]),\n",
       " ('GEZ', [18, 1040]),\n",
       " ('QMD', [21, 259])]"
      ]
     },
     "execution_count": 424,
     "metadata": {},
     "output_type": "execute_result"
    }
   ],
   "source": [
    "secuencias=repeated_seq_pos(text,3)\n",
    "secuencias[:4]"
   ]
  },
  {
   "cell_type": "markdown",
   "metadata": {},
   "source": [
    "Ahora calculamos las diferencias (el espacio) entre las posiciones de las ocurrencias.\n",
    "Si una secuencia se repite, es probable que lo haga tras un múltiplo de la longitud de la clave."
   ]
  },
  {
   "cell_type": "code",
   "execution_count": 425,
   "metadata": {},
   "outputs": [],
   "source": [
    "# Devuelve una lista con las diferencias entre las posiciones de las ocurrencias\n",
    "def get_spacings(positions):\n",
    "    return [positions[i+1] - positions[i] for i in range(len(positions)-1)]"
   ]
  },
  {
   "cell_type": "code",
   "execution_count": 426,
   "metadata": {},
   "outputs": [
    {
     "data": {
      "text/plain": [
       "[('UEC', [292]), ('VAC', [507]), ('GEZ', [1022]), ('QMD', [238])]"
      ]
     },
     "execution_count": 426,
     "metadata": {},
     "output_type": "execute_result"
    }
   ],
   "source": [
    "seq_espacios = {}\n",
    "for seq, positions in secuencias:\n",
    "    seq_espacios[seq] = get_spacings(positions)\n",
    "[(k,v) for k,v in seq_espacios.items()][:4]"
   ]
  },
  {
   "cell_type": "markdown",
   "metadata": {},
   "source": [
    "Ahora hallamos los divisores propios de esas diferencias."
   ]
  },
  {
   "cell_type": "code",
   "execution_count": 427,
   "metadata": {},
   "outputs": [],
   "source": [
    "def get_factors(number):\n",
    "    factors = set()\n",
    "    for i in range(1, int(sqrt(number))+1):\n",
    "        if number % i == 0:\n",
    "            factors.add(i)\n",
    "            factors.add(number//i)\n",
    "    return sorted(factors)"
   ]
  },
  {
   "cell_type": "code",
   "execution_count": 428,
   "metadata": {},
   "outputs": [
    {
     "data": {
      "text/plain": [
       "[[1, 2, 4, 73, 146, 292],\n",
       " [1, 3, 13, 39, 169, 507],\n",
       " [1, 2, 7, 14, 73, 146, 511, 1022],\n",
       " [1, 2, 7, 14, 17, 34, 119, 238]]"
      ]
     },
     "execution_count": 428,
     "metadata": {},
     "output_type": "execute_result"
    }
   ],
   "source": [
    "factor_lists = []\n",
    "for espacios in seq_espacios.values():\n",
    "    for espacio in espacios:\n",
    "        factor_lists.append(get_factors(number=espacio))\n",
    "factor_lists[:4]"
   ]
  },
  {
   "cell_type": "markdown",
   "metadata": {},
   "source": [
    "Los candidatos a ser la longitud de clave dividiran a la mayoría de los espacios entre ocurrencias de cada secuencia"
   ]
  },
  {
   "cell_type": "code",
   "execution_count": 429,
   "metadata": {},
   "outputs": [],
   "source": [
    "def candidate_key_lengths(factor_lists, max_key_len):\n",
    "    # Unimos todos los factores en una lista\n",
    "    all_factors = [factor_lists[lst][fac] for lst in range(len(factor_lists)) for fac in range(len(factor_lists[lst]))]\n",
    "    # Excluimos los mayores que la longitud máxima de clave\n",
    "    candidate_lengths = list(filter(lambda x:  x <= max_key_len, all_factors))\n",
    "    # Los ordenamos según el número de veces que aparecen\n",
    "    sorted_candidates = sorted(set(candidate_lengths), key=lambda x: all_factors.count(x), reverse=True)\n",
    "    return sorted_candidates"
   ]
  },
  {
   "cell_type": "code",
   "execution_count": 430,
   "metadata": {},
   "outputs": [
    {
     "data": {
      "text/plain": [
       "[1, 7, 3, 2, 14, 5, 4, 9, 6, 13, 15, 8, 17, 10, 11, 12, 16, 19, 20, 18]"
      ]
     },
     "execution_count": 430,
     "metadata": {},
     "output_type": "execute_result"
    }
   ],
   "source": [
    "ckl = candidate_key_lengths(factor_lists=factor_lists, max_key_len=20)\n",
    "ckl"
   ]
  },
  {
   "cell_type": "markdown",
   "metadata": {},
   "source": [
    "Obviamente el 1 es el factor que más se repite, el 7 es nuestro principal candidato a ser la longitud de la clave.\n",
    "\n",
    "Dividimos el texto en bloques de longitud 7."
   ]
  },
  {
   "cell_type": "code",
   "execution_count": 431,
   "metadata": {},
   "outputs": [],
   "source": [
    "keyLen=7"
   ]
  },
  {
   "cell_type": "code",
   "execution_count": 432,
   "metadata": {},
   "outputs": [],
   "source": [
    "def get_blocks(text, size):\n",
    "    blocks = [text[i:i+size] for i in range(0, len(text)-size, size)]\n",
    "    return blocks"
   ]
  },
  {
   "cell_type": "code",
   "execution_count": 433,
   "metadata": {
    "scrolled": true
   },
   "outputs": [
    {
     "name": "stdout",
     "output_type": "stream",
     "text": [
      "['UECWKDV', 'LOTTVAC', 'KTPVGEZ', 'QMDAMRN', 'PDDUXLB', 'UICAMRH', 'OECBHSP', 'QLVIWOF', 'FEAILPN', 'TESMLDR', 'UURIFAE', 'QTTPXAD', 'WIAWLAC', 'CRPBHSR', 'ZIVQWOF', 'ROGTTNN', 'XEVIVIB', 'PDTTGAH', 'VIACLAY', 'KGJIEQH', 'GECMESN', 'NOCTHSG', 'GNVWTQH', 'KBPRHMV', 'UOYWLIA', 'FIRIGDB', 'OEBQLIG', 'WARQHNL', 'OISQKEP', 'EIDVXXN', 'ETPAXNZ', 'GDXWWEY', 'QCTIGON', 'NGJVHSQ', 'GEATHSY', 'GSDVVOA', 'QCXLHSP', 'QMDMETR', 'TMDUXTE', 'QQJMFAE', 'EAAIMEZ', 'REGIMUE', 'CICBXRV', 'QRSMENN', 'WTXTNSR', 'NBPZHMR', 'VRDYNEC', 'GSPMEAV', 'TENXKEQ', 'KCTTHSP', 'CMQQHSQ', 'GTXMFPB', 'GLWQZRB', 'OEIZHQH', 'GRTOBSG', 'TATTZRN', 'FOSMLED', 'WESIWDR', 'NAPBFOF', 'HEGIXLF', 'VOGUZLN', 'USRCRAZ', 'GZRTTAY', 'FEHKHMC', 'QNTZLEN', 'PUCKBAY', 'CICUBNR', 'PCXIWEY', 'CSIMFPR', 'UTPLXSY', 'CBGCCUY', 'CQJMWIE', 'KGTUBRH', 'VATTLEK', 'VACBXQH', 'GPDZEAN', 'NTJZTDR', 'NSDTFEV', 'PDXKTMV', 'NAIQMUQ', 'NOHKKOA', 'QMTBKOF', 'SUTUXPR', 'TMXBXNP', 'CLRCEAE', 'OIAWGGV', 'VUSGIOE', 'WLIQFOZ', 'KSPVMEB', 'LOHLXDV', 'CYSMGOP', 'JEFCXMR', 'UIGDXNC', 'CRPMLCE', 'WTPZMOQ', 'QSAWLPH', 'PTDAWEY', 'JOGQSOA', 'VERCTNQ', 'QEAVTUG', 'KLJAXMR', 'TGTIEAF', 'WPTZYIP', 'KESMEAF', 'CGJILSB', 'PLDABNF', 'VRJUXNG', 'QSWIUIG', 'WAAMLDR', 'NNPDXGN', 'PTTGLUH', 'UOBMXSP', 'QNDKBDB', 'TEECLEC', 'GRDPTYB', 'VRDATQH', 'KQJMKEF', 'ROCLXNF', 'KNSCWAN', 'NAHXTRG', 'KCJTTRR', 'UEMQZEA', 'EIPAWEY', 'PAJBBLH', 'UEHMVUN', 'FRPVMED', 'WEKMHRR', 'EOGZBDB', 'ROGCGAN', 'IUYIBNZ', 'QVXTGOR', 'UUCUTNB', 'OEIZHEF', 'WNBIGOZ', 'GTGWXNR', 'HERBHPH', 'GSIWXNP', 'QMJVBCN', 'EIDVVOA', 'GLPONAP', 'WYPXKEF', 'KOCMQTR', 'TIDZBNQ', 'KCPLTTN', 'OBXMGLN', 'RRDNNNQ', 'KDPLTLN', 'SUTAXMN', 'PTXMGEZ', 'KAEIKAG']\n"
     ]
    }
   ],
   "source": [
    "blocks=get_blocks(text,keyLen)\n",
    "print(blocks)"
   ]
  },
  {
   "cell_type": "markdown",
   "metadata": {},
   "source": [
    "Agrupamos ahora por columnas, cada columna contiene las letras a las que se le suma la misma letra de la clave"
   ]
  },
  {
   "cell_type": "code",
   "execution_count": 434,
   "metadata": {},
   "outputs": [],
   "source": [
    "def get_columns(text_blocks):\n",
    "    group_size = len(text_blocks[0])\n",
    "    columns = []\n",
    "    for letter_count in range(group_size):\n",
    "        column = ''\n",
    "        for group_count in range(len(text_blocks)):\n",
    "            column += text_blocks[group_count][letter_count]\n",
    "        columns.append(column)\n",
    "    return columns"
   ]
  },
  {
   "cell_type": "code",
   "execution_count": 435,
   "metadata": {
    "scrolled": true
   },
   "outputs": [
    {
     "data": {
      "text/plain": [
       "['ULKQPUOQFTUQWCZRXPVKGNGKUFOWOEEGQNGGQQTQERCQWNVGTKCGGOGTFWNHVUGFQPCPCUCCKVVGNNPNNQSTCOVWKLCJUCWQPJVQKTWKCPVQWNPUQTGVKRKNKUEPUFWERIQUOWGHGQEGWKTKORKSPK',\n",
       " 'EOTMDIELEEUTIRIOEDIGEONBOIEAIITDCGESCMMQAEIRTBRSECMTLERAOEAEOSZENUICSTBQGAAPTSDAOMUMLIULSOYEIRTSTOEELGPEGLRSANTONERRQONACEIAEREOOUVUENTESMILYOICBRDUTA',\n",
       " 'CTPDDCCVASRTAPVGVTAJCCVPYRBRSDPXTJADXDDJAGCSXPDPNTQXWITTSSPGGRRHTCCXIPGJTTCDJDXIHTTXRASIPHSFGPPADGRAJTTSJDJWAPTBDEDDJCSHJMPJHPKGGYXCIBGRIJDPPCDPXDPTXE',\n",
       " 'WTVAUABIIMIPWBQTITCIMTWRWIQQQVAWIVTVLMUMIIBMTZYMXTQMQZOTMIBIUCTKZKUIMLCMUTBZZTKQKBUBCWGQVLMCDMZWAQCVAIZMIAUIMDGMKCPAMLCXTQABMVMZCITUZIWBWVVOXMZLMNLAMI',\n",
       " 'KVGMXMHWLLFXLHWTVGLEEHTHLGLHKXXWGHHVHEXFMMXENHNEKHHFZHBZLWFXZRTHLBBWFXCWBLXETFTMKKXXEGIFMXGXXLMLWSTTXEYELBXULXLXBLTTKXWTTZWBVMHBGBGTHGXHXBVNKQBTGNTXGK',\n",
       " 'DAERLRSOPDAAASONIAAQSSQMIDINEXNEOSSOSTTAEURNSMEAESSPRQSREDOLLAAMEANEPSUIREQADEMUOOPNAGOOEDOMNCOPEONUMAIASNNIDGUSDEYQENARREELUERDANONEONPNCOAETNTLNLMEA',\n",
       " 'VCZNBHPFNREDCRFNBHYHNGHVABGLPNZYNQYAPREEZEVNRRCVQPQBBHGNDRFFNZYCNYRYRYYEHKHNRVVQAFRPEVEZBVPRCEQHYAQGRFPFBFGGRNHPBCBHFFNGRAYHNDRBNZRBFZRHPNAPFRQNNQNNZG']"
      ]
     },
     "execution_count": 435,
     "metadata": {},
     "output_type": "execute_result"
    }
   ],
   "source": [
    "columns=get_columns(blocks)\n",
    "columns"
   ]
  },
  {
   "cell_type": "code",
   "execution_count": 436,
   "metadata": {},
   "outputs": [],
   "source": [
    "# Desplaza una cadena sumandole la misma cantidad a cada caracter\n",
    "def shift(text, amount):\n",
    "    shifted = ''\n",
    "    letters = string.ascii_uppercase\n",
    "    for letter in text:\n",
    "        shifted += letters[(letters.index(letter)+amount) % len(letters)]\n",
    "    return shifted"
   ]
  },
  {
   "cell_type": "code",
   "execution_count": 437,
   "metadata": {},
   "outputs": [],
   "source": [
    "def corr(a,b):\n",
    "    s=0\n",
    "    for letter in string.ascii_uppercase:\n",
    "        s+=a.count(letter)*b.count(letter)\n",
    "    return s/(len(a)*len(b))"
   ]
  },
  {
   "cell_type": "code",
   "execution_count": 438,
   "metadata": {},
   "outputs": [],
   "source": [
    "mutIndCo={}\n",
    "for i in range(keyLen):\n",
    "    for j in range(i+1,keyLen):\n",
    "        for sigma in range(26):\n",
    "            mutIndCo[(i,j,sigma)]=corr(columns[i],shift(columns[j],sigma))"
   ]
  },
  {
   "cell_type": "code",
   "execution_count": 439,
   "metadata": {
    "scrolled": true
   },
   "outputs": [
    {
     "data": {
      "text/plain": [
       "{(0, 1, 0): 0.035111111111111114,\n",
       " (0, 1, 1): 0.03693333333333333,\n",
       " (0, 1, 2): 0.06848888888888889,\n",
       " (0, 1, 3): 0.038622222222222224,\n",
       " (0, 1, 4): 0.03546666666666667,\n",
       " (0, 1, 5): 0.03475555555555555,\n",
       " (0, 1, 6): 0.04391111111111111,\n",
       " (0, 1, 7): 0.030355555555555556,\n",
       " (0, 1, 8): 0.037333333333333336,\n",
       " (0, 1, 9): 0.036444444444444446,\n",
       " (0, 1, 10): 0.03542222222222222,\n",
       " (0, 1, 11): 0.03746666666666667,\n",
       " (0, 1, 12): 0.04351111111111111,\n",
       " (0, 1, 13): 0.03986666666666667,\n",
       " (0, 1, 14): 0.04008888888888889,\n",
       " (0, 1, 15): 0.03528888888888889,\n",
       " (0, 1, 16): 0.042977777777777774,\n",
       " (0, 1, 17): 0.03902222222222222,\n",
       " (0, 1, 18): 0.04195555555555556,\n",
       " (0, 1, 19): 0.03244444444444444,\n",
       " (0, 1, 20): 0.03591111111111111,\n",
       " (0, 1, 21): 0.028844444444444443,\n",
       " (0, 1, 22): 0.04208888888888889,\n",
       " (0, 1, 23): 0.029955555555555555,\n",
       " (0, 1, 24): 0.045733333333333334,\n",
       " (0, 1, 25): 0.032,\n",
       " (0, 2, 0): 0.03617777777777778,\n",
       " (0, 2, 1): 0.04448888888888889,\n",
       " (0, 2, 2): 0.037866666666666667,\n",
       " (0, 2, 3): 0.03875555555555556,\n",
       " (0, 2, 4): 0.0428,\n",
       " (0, 2, 5): 0.03311111111111111,\n",
       " (0, 2, 6): 0.030577777777777777,\n",
       " (0, 2, 7): 0.04608888888888889,\n",
       " (0, 2, 8): 0.029111111111111112,\n",
       " (0, 2, 9): 0.032933333333333335,\n",
       " (0, 2, 10): 0.037333333333333336,\n",
       " (0, 2, 11): 0.035777777777777776,\n",
       " (0, 2, 12): 0.03431111111111111,\n",
       " (0, 2, 13): 0.06804444444444445,\n",
       " (0, 2, 14): 0.039377777777777775,\n",
       " (0, 2, 15): 0.034355555555555556,\n",
       " (0, 2, 16): 0.03431111111111111,\n",
       " (0, 2, 17): 0.04591111111111111,\n",
       " (0, 2, 18): 0.0348,\n",
       " (0, 2, 19): 0.041777777777777775,\n",
       " (0, 2, 20): 0.03191111111111111,\n",
       " (0, 2, 21): 0.037644444444444446,\n",
       " (0, 2, 22): 0.03591111111111111,\n",
       " (0, 2, 23): 0.038,\n",
       " (0, 2, 24): 0.03995555555555556,\n",
       " (0, 2, 25): 0.03866666666666667,\n",
       " (0, 3, 0): 0.0368,\n",
       " (0, 3, 1): 0.03582222222222222,\n",
       " (0, 3, 2): 0.04173333333333333,\n",
       " (0, 3, 3): 0.03831111111111111,\n",
       " (0, 3, 4): 0.038933333333333334,\n",
       " (0, 3, 5): 0.03897777777777778,\n",
       " (0, 3, 6): 0.03426666666666667,\n",
       " (0, 3, 7): 0.03613333333333334,\n",
       " (0, 3, 8): 0.04368888888888889,\n",
       " (0, 3, 9): 0.03991111111111111,\n",
       " (0, 3, 10): 0.03728888888888889,\n",
       " (0, 3, 11): 0.037644444444444446,\n",
       " (0, 3, 12): 0.035555555555555556,\n",
       " (0, 3, 13): 0.0352,\n",
       " (0, 3, 14): 0.040577777777777775,\n",
       " (0, 3, 15): 0.029955555555555555,\n",
       " (0, 3, 16): 0.04226666666666667,\n",
       " (0, 3, 17): 0.035644444444444444,\n",
       " (0, 3, 18): 0.031733333333333336,\n",
       " (0, 3, 19): 0.03462222222222222,\n",
       " (0, 3, 20): 0.06804444444444445,\n",
       " (0, 3, 21): 0.03933333333333333,\n",
       " (0, 3, 22): 0.037333333333333336,\n",
       " (0, 3, 23): 0.03475555555555555,\n",
       " (0, 3, 24): 0.04555555555555556,\n",
       " (0, 3, 25): 0.02991111111111111,\n",
       " (0, 4, 0): 0.03573333333333333,\n",
       " (0, 4, 1): 0.030133333333333335,\n",
       " (0, 4, 2): 0.028622222222222223,\n",
       " (0, 4, 3): 0.04111111111111111,\n",
       " (0, 4, 4): 0.03133333333333333,\n",
       " (0, 4, 5): 0.04346666666666667,\n",
       " (0, 4, 6): 0.032933333333333335,\n",
       " (0, 4, 7): 0.03088888888888889,\n",
       " (0, 4, 8): 0.0364,\n",
       " (0, 4, 9): 0.07057777777777778,\n",
       " (0, 4, 10): 0.04257777777777778,\n",
       " (0, 4, 11): 0.036844444444444444,\n",
       " (0, 4, 12): 0.03342222222222222,\n",
       " (0, 4, 13): 0.04502222222222222,\n",
       " (0, 4, 14): 0.034444444444444444,\n",
       " (0, 4, 15): 0.036755555555555555,\n",
       " (0, 4, 16): 0.03475555555555555,\n",
       " (0, 4, 17): 0.04106666666666667,\n",
       " (0, 4, 18): 0.0352,\n",
       " (0, 4, 19): 0.038177777777777776,\n",
       " (0, 4, 20): 0.039155555555555555,\n",
       " (0, 4, 21): 0.041466666666666666,\n",
       " (0, 4, 22): 0.033022222222222224,\n",
       " (0, 4, 23): 0.04084444444444445,\n",
       " (0, 4, 24): 0.039733333333333336,\n",
       " (0, 4, 25): 0.04631111111111111,\n",
       " (0, 5, 0): 0.0348,\n",
       " (0, 5, 1): 0.0384,\n",
       " (0, 5, 2): 0.06937777777777777,\n",
       " (0, 5, 3): 0.04395555555555555,\n",
       " (0, 5, 4): 0.03791111111111111,\n",
       " (0, 5, 5): 0.03288888888888889,\n",
       " (0, 5, 6): 0.050444444444444445,\n",
       " (0, 5, 7): 0.034888888888888886,\n",
       " (0, 5, 8): 0.032044444444444445,\n",
       " (0, 5, 9): 0.031066666666666666,\n",
       " (0, 5, 10): 0.040577777777777775,\n",
       " (0, 5, 11): 0.028133333333333333,\n",
       " (0, 5, 12): 0.03551111111111111,\n",
       " (0, 5, 13): 0.036222222222222225,\n",
       " (0, 5, 14): 0.036088888888888886,\n",
       " (0, 5, 15): 0.037644444444444446,\n",
       " (0, 5, 16): 0.04675555555555556,\n",
       " (0, 5, 17): 0.038933333333333334,\n",
       " (0, 5, 18): 0.04457777777777778,\n",
       " (0, 5, 19): 0.040355555555555554,\n",
       " (0, 5, 20): 0.0304,\n",
       " (0, 5, 21): 0.030355555555555556,\n",
       " (0, 5, 22): 0.0404,\n",
       " (0, 5, 23): 0.03213333333333333,\n",
       " (0, 5, 24): 0.042,\n",
       " (0, 5, 25): 0.034133333333333335,\n",
       " (0, 6, 0): 0.041466666666666666,\n",
       " (0, 6, 1): 0.03835555555555555,\n",
       " (0, 6, 2): 0.032044444444444445,\n",
       " (0, 6, 3): 0.04764444444444445,\n",
       " (0, 6, 4): 0.041244444444444445,\n",
       " (0, 6, 5): 0.040711111111111115,\n",
       " (0, 6, 6): 0.03844444444444445,\n",
       " (0, 6, 7): 0.03835555555555555,\n",
       " (0, 6, 8): 0.03573333333333333,\n",
       " (0, 6, 9): 0.042133333333333335,\n",
       " (0, 6, 10): 0.027644444444444444,\n",
       " (0, 6, 11): 0.04031111111111111,\n",
       " (0, 6, 12): 0.03484444444444444,\n",
       " (0, 6, 13): 0.03342222222222222,\n",
       " (0, 6, 14): 0.03582222222222222,\n",
       " (0, 6, 15): 0.0684,\n",
       " (0, 6, 16): 0.038,\n",
       " (0, 6, 17): 0.039466666666666664,\n",
       " (0, 6, 18): 0.033777777777777775,\n",
       " (0, 6, 19): 0.04426666666666667,\n",
       " (0, 6, 20): 0.02831111111111111,\n",
       " (0, 6, 21): 0.03657777777777778,\n",
       " (0, 6, 22): 0.028755555555555555,\n",
       " (0, 6, 23): 0.04084444444444445,\n",
       " (0, 6, 24): 0.034133333333333335,\n",
       " (0, 6, 25): 0.03928888888888889,\n",
       " (1, 2, 0): 0.03835555555555555,\n",
       " (1, 2, 1): 0.044533333333333334,\n",
       " (1, 2, 2): 0.045066666666666665,\n",
       " (1, 2, 3): 0.032,\n",
       " (1, 2, 4): 0.03506666666666667,\n",
       " (1, 2, 5): 0.0384,\n",
       " (1, 2, 6): 0.028,\n",
       " (1, 2, 7): 0.03311111111111111,\n",
       " (1, 2, 8): 0.03648888888888889,\n",
       " (1, 2, 9): 0.03768888888888889,\n",
       " (1, 2, 10): 0.033555555555555554,\n",
       " (1, 2, 11): 0.06862222222222222,\n",
       " (1, 2, 12): 0.03857777777777778,\n",
       " (1, 2, 13): 0.0368,\n",
       " (1, 2, 14): 0.031244444444444443,\n",
       " (1, 2, 15): 0.05191111111111111,\n",
       " (1, 2, 16): 0.030711111111111113,\n",
       " (1, 2, 17): 0.04217777777777778,\n",
       " (1, 2, 18): 0.026266666666666667,\n",
       " (1, 2, 19): 0.03782222222222222,\n",
       " (1, 2, 20): 0.02991111111111111,\n",
       " (1, 2, 21): 0.042,\n",
       " (1, 2, 22): 0.0376,\n",
       " (1, 2, 23): 0.0396,\n",
       " (1, 2, 24): 0.041155555555555556,\n",
       " (1, 2, 25): 0.043333333333333335,\n",
       " (1, 3, 0): 0.04271111111111111,\n",
       " (1, 3, 1): 0.03266666666666666,\n",
       " (1, 3, 2): 0.041022222222222224,\n",
       " (1, 3, 3): 0.03755555555555556,\n",
       " (1, 3, 4): 0.037644444444444446,\n",
       " (1, 3, 5): 0.04097777777777778,\n",
       " (1, 3, 6): 0.04262222222222222,\n",
       " (1, 3, 7): 0.04164444444444444,\n",
       " (1, 3, 8): 0.038844444444444445,\n",
       " (1, 3, 9): 0.03991111111111111,\n",
       " (1, 3, 10): 0.0348,\n",
       " (1, 3, 11): 0.04088888888888889,\n",
       " (1, 3, 12): 0.034,\n",
       " (1, 3, 13): 0.02897777777777778,\n",
       " (1, 3, 14): 0.0408,\n",
       " (1, 3, 15): 0.03515555555555556,\n",
       " (1, 3, 16): 0.03306666666666667,\n",
       " (1, 3, 17): 0.03408888888888889,\n",
       " (1, 3, 18): 0.07137777777777778,\n",
       " (1, 3, 19): 0.03768888888888889,\n",
       " (1, 3, 20): 0.03804444444444444,\n",
       " (1, 3, 21): 0.029155555555555556,\n",
       " (1, 3, 22): 0.050977777777777775,\n",
       " (1, 3, 23): 0.025555555555555557,\n",
       " (1, 3, 24): 0.03968888888888889,\n",
       " (1, 3, 25): 0.030133333333333335,\n",
       " (1, 4, 0): 0.032355555555555554,\n",
       " (1, 4, 1): 0.03617777777777778,\n",
       " (1, 4, 2): 0.029022222222222224,\n",
       " (1, 4, 3): 0.04284444444444444,\n",
       " (1, 4, 4): 0.0304,\n",
       " (1, 4, 5): 0.03471111111111111,\n",
       " (1, 4, 6): 0.03462222222222222,\n",
       " (1, 4, 7): 0.07471111111111112,\n",
       " (1, 4, 8): 0.041244444444444445,\n",
       " (1, 4, 9): 0.03728888888888889,\n",
       " (1, 4, 10): 0.029822222222222222,\n",
       " (1, 4, 11): 0.048355555555555554,\n",
       " (1, 4, 12): 0.03062222222222222,\n",
       " (1, 4, 13): 0.037333333333333336,\n",
       " (1, 4, 14): 0.02871111111111111,\n",
       " (1, 4, 15): 0.04088888888888889,\n",
       " (1, 4, 16): 0.030133333333333335,\n",
       " (1, 4, 17): 0.03746666666666667,\n",
       " (1, 4, 18): 0.03844444444444445,\n",
       " (1, 4, 19): 0.045066666666666665,\n",
       " (1, 4, 20): 0.03933333333333333,\n",
       " (1, 4, 21): 0.041022222222222224,\n",
       " (1, 4, 22): 0.04066666666666666,\n",
       " (1, 4, 23): 0.05031111111111111,\n",
       " (1, 4, 24): 0.03702222222222222,\n",
       " (1, 4, 25): 0.03142222222222222,\n",
       " (1, 5, 0): 0.0712,\n",
       " (1, 5, 1): 0.0448,\n",
       " (1, 5, 2): 0.03711111111111111,\n",
       " (1, 5, 3): 0.030533333333333332,\n",
       " (1, 5, 4): 0.0568,\n",
       " (1, 5, 5): 0.029733333333333334,\n",
       " (1, 5, 6): 0.03493333333333333,\n",
       " (1, 5, 7): 0.0252,\n",
       " (1, 5, 8): 0.03955555555555555,\n",
       " (1, 5, 9): 0.02431111111111111,\n",
       " (1, 5, 10): 0.03631111111111111,\n",
       " (1, 5, 11): 0.0344,\n",
       " (1, 5, 12): 0.0428,\n",
       " (1, 5, 13): 0.042444444444444444,\n",
       " (1, 5, 14): 0.04995555555555556,\n",
       " (1, 5, 15): 0.04097777777777778,\n",
       " (1, 5, 16): 0.04862222222222222,\n",
       " (1, 5, 17): 0.044311111111111114,\n",
       " (1, 5, 18): 0.03031111111111111,\n",
       " (1, 5, 19): 0.03306666666666667,\n",
       " (1, 5, 20): 0.03404444444444445,\n",
       " (1, 5, 21): 0.02822222222222222,\n",
       " (1, 5, 22): 0.03866666666666667,\n",
       " (1, 5, 23): 0.030666666666666665,\n",
       " (1, 5, 24): 0.034888888888888886,\n",
       " (1, 5, 25): 0.03613333333333334,\n",
       " (1, 6, 0): 0.034666666666666665,\n",
       " (1, 6, 1): 0.04817777777777778,\n",
       " (1, 6, 2): 0.043111111111111114,\n",
       " (1, 6, 3): 0.043244444444444446,\n",
       " (1, 6, 4): 0.039466666666666664,\n",
       " (1, 6, 5): 0.03688888888888889,\n",
       " (1, 6, 6): 0.038266666666666664,\n",
       " (1, 6, 7): 0.035244444444444446,\n",
       " (1, 6, 8): 0.023733333333333332,\n",
       " (1, 6, 9): 0.03911111111111111,\n",
       " (1, 6, 10): 0.03266666666666666,\n",
       " (1, 6, 11): 0.034133333333333335,\n",
       " (1, 6, 12): 0.036088888888888886,\n",
       " (1, 6, 13): 0.06982222222222222,\n",
       " (1, 6, 14): 0.039155555555555555,\n",
       " (1, 6, 15): 0.0424,\n",
       " (1, 6, 16): 0.029022222222222224,\n",
       " (1, 6, 17): 0.05226666666666667,\n",
       " (1, 6, 18): 0.024,\n",
       " (1, 6, 19): 0.03875555555555556,\n",
       " (1, 6, 20): 0.02528888888888889,\n",
       " (1, 6, 21): 0.041022222222222224,\n",
       " (1, 6, 22): 0.029155555555555556,\n",
       " (1, 6, 23): 0.04262222222222222,\n",
       " (1, 6, 24): 0.038177777777777776,\n",
       " (1, 6, 25): 0.04351111111111111,\n",
       " (2, 3, 0): 0.033466666666666665,\n",
       " (2, 3, 1): 0.040355555555555554,\n",
       " (2, 3, 2): 0.03017777777777778,\n",
       " (2, 3, 3): 0.047822222222222224,\n",
       " (2, 3, 4): 0.0336,\n",
       " (2, 3, 5): 0.032355555555555554,\n",
       " (2, 3, 6): 0.03471111111111111,\n",
       " (2, 3, 7): 0.07057777777777778,\n",
       " (2, 3, 8): 0.0332,\n",
       " (2, 3, 9): 0.04053333333333333,\n",
       " (2, 3, 10): 0.037066666666666664,\n",
       " (2, 3, 11): 0.03711111111111111,\n",
       " (2, 3, 12): 0.02551111111111111,\n",
       " (2, 3, 13): 0.03977777777777778,\n",
       " (2, 3, 14): 0.03311111111111111,\n",
       " (2, 3, 15): 0.03657777777777778,\n",
       " (2, 3, 16): 0.04591111111111111,\n",
       " (2, 3, 17): 0.04,\n",
       " (2, 3, 18): 0.03813333333333333,\n",
       " (2, 3, 19): 0.035244444444444446,\n",
       " (2, 3, 20): 0.042755555555555554,\n",
       " (2, 3, 21): 0.04137777777777778,\n",
       " (2, 3, 22): 0.04,\n",
       " (2, 3, 23): 0.03688888888888889,\n",
       " (2, 3, 24): 0.03857777777777778,\n",
       " (2, 3, 25): 0.03515555555555556,\n",
       " (2, 4, 0): 0.035022222222222225,\n",
       " (2, 4, 1): 0.028044444444444445,\n",
       " (2, 4, 2): 0.037333333333333336,\n",
       " (2, 4, 3): 0.03248888888888889,\n",
       " (2, 4, 4): 0.03804444444444444,\n",
       " (2, 4, 5): 0.04048888888888889,\n",
       " (2, 4, 6): 0.03942222222222222,\n",
       " (2, 4, 7): 0.03911111111111111,\n",
       " (2, 4, 8): 0.04382222222222222,\n",
       " (2, 4, 9): 0.03888888888888889,\n",
       " (2, 4, 10): 0.04062222222222222,\n",
       " (2, 4, 11): 0.03924444444444444,\n",
       " (2, 4, 12): 0.044977777777777776,\n",
       " (2, 4, 13): 0.03591111111111111,\n",
       " (2, 4, 14): 0.032044444444444445,\n",
       " (2, 4, 15): 0.026488888888888888,\n",
       " (2, 4, 16): 0.03924444444444444,\n",
       " (2, 4, 17): 0.032355555555555554,\n",
       " (2, 4, 18): 0.049777777777777775,\n",
       " (2, 4, 19): 0.03222222222222222,\n",
       " (2, 4, 20): 0.03191111111111111,\n",
       " (2, 4, 21): 0.03866666666666667,\n",
       " (2, 4, 22): 0.07177777777777777,\n",
       " (2, 4, 23): 0.03666666666666667,\n",
       " (2, 4, 24): 0.03866666666666667,\n",
       " (2, 4, 25): 0.036755555555555555,\n",
       " (2, 5, 0): 0.03808888888888889,\n",
       " (2, 5, 1): 0.03875555555555556,\n",
       " (2, 5, 2): 0.04755555555555555,\n",
       " (2, 5, 3): 0.04786666666666667,\n",
       " (2, 5, 4): 0.03777777777777778,\n",
       " (2, 5, 5): 0.04493333333333333,\n",
       " (2, 5, 6): 0.04182222222222222,\n",
       " (2, 5, 7): 0.026711111111111113,\n",
       " (2, 5, 8): 0.027911111111111112,\n",
       " (2, 5, 9): 0.037955555555555555,\n",
       " (2, 5, 10): 0.029111111111111112,\n",
       " (2, 5, 11): 0.04688888888888889,\n",
       " (2, 5, 12): 0.034,\n",
       " (2, 5, 13): 0.033688888888888886,\n",
       " (2, 5, 14): 0.03942222222222222,\n",
       " (2, 5, 15): 0.07342222222222222,\n",
       " (2, 5, 16): 0.03813333333333333,\n",
       " (2, 5, 17): 0.03808888888888889,\n",
       " (2, 5, 18): 0.03542222222222222,\n",
       " (2, 5, 19): 0.04204444444444445,\n",
       " (2, 5, 20): 0.02617777777777778,\n",
       " (2, 5, 21): 0.03382222222222222,\n",
       " (2, 5, 22): 0.0296,\n",
       " (2, 5, 23): 0.03688888888888889,\n",
       " (2, 5, 24): 0.03408888888888889,\n",
       " (2, 5, 25): 0.039822222222222224,\n",
       " (2, 6, 0): 0.0348,\n",
       " (2, 6, 1): 0.03657777777777778,\n",
       " (2, 6, 2): 0.0712,\n",
       " (2, 6, 3): 0.03382222222222222,\n",
       " (2, 6, 4): 0.04284444444444444,\n",
       " (2, 6, 5): 0.03595555555555555,\n",
       " (2, 6, 6): 0.036977777777777776,\n",
       " (2, 6, 7): 0.023555555555555555,\n",
       " (2, 6, 8): 0.04031111111111111,\n",
       " (2, 6, 9): 0.026755555555555557,\n",
       " (2, 6, 10): 0.036844444444444444,\n",
       " (2, 6, 11): 0.04128888888888889,\n",
       " (2, 6, 12): 0.041466666666666666,\n",
       " (2, 6, 13): 0.04253333333333333,\n",
       " (2, 6, 14): 0.04088888888888889,\n",
       " (2, 6, 15): 0.03791111111111111,\n",
       " (2, 6, 16): 0.046933333333333334,\n",
       " (2, 6, 17): 0.04008888888888889,\n",
       " (2, 6, 18): 0.03728888888888889,\n",
       " (2, 6, 19): 0.03924444444444444,\n",
       " (2, 6, 20): 0.03568888888888889,\n",
       " (2, 6, 21): 0.03177777777777778,\n",
       " (2, 6, 22): 0.04084444444444445,\n",
       " (2, 6, 23): 0.02728888888888889,\n",
       " (2, 6, 24): 0.04368888888888889,\n",
       " (2, 6, 25): 0.03342222222222222,\n",
       " (3, 4, 0): 0.03928888888888889,\n",
       " (3, 4, 1): 0.04697777777777778,\n",
       " (3, 4, 2): 0.03977777777777778,\n",
       " (3, 4, 3): 0.03568888888888889,\n",
       " (3, 4, 4): 0.039155555555555555,\n",
       " (3, 4, 5): 0.04466666666666667,\n",
       " (3, 4, 6): 0.03702222222222222,\n",
       " (3, 4, 7): 0.03591111111111111,\n",
       " (3, 4, 8): 0.03231111111111111,\n",
       " (3, 4, 9): 0.03871111111111111,\n",
       " (3, 4, 10): 0.02751111111111111,\n",
       " (3, 4, 11): 0.04555555555555556,\n",
       " (3, 4, 12): 0.03088888888888889,\n",
       " (3, 4, 13): 0.035022222222222225,\n",
       " (3, 4, 14): 0.037866666666666667,\n",
       " (3, 4, 15): 0.07364444444444444,\n",
       " (3, 4, 16): 0.03808888888888889,\n",
       " (3, 4, 17): 0.032577777777777775,\n",
       " (3, 4, 18): 0.03306666666666667,\n",
       " (3, 4, 19): 0.043244444444444446,\n",
       " (3, 4, 20): 0.030088888888888887,\n",
       " (3, 4, 21): 0.03395555555555556,\n",
       " (3, 4, 22): 0.03848888888888889,\n",
       " (3, 4, 23): 0.04271111111111111,\n",
       " (3, 4, 24): 0.03591111111111111,\n",
       " (3, 4, 25): 0.03186666666666667,\n",
       " (3, 5, 0): 0.03217777777777778,\n",
       " (3, 5, 1): 0.031822222222222224,\n",
       " (3, 5, 2): 0.036755555555555555,\n",
       " (3, 5, 3): 0.028355555555555554,\n",
       " (3, 5, 4): 0.04346666666666667,\n",
       " (3, 5, 5): 0.032577777777777775,\n",
       " (3, 5, 6): 0.03626666666666667,\n",
       " (3, 5, 7): 0.038,\n",
       " (3, 5, 8): 0.07395555555555555,\n",
       " (3, 5, 9): 0.037955555555555555,\n",
       " (3, 5, 10): 0.0324,\n",
       " (3, 5, 11): 0.03217777777777778,\n",
       " (3, 5, 12): 0.0508,\n",
       " (3, 5, 13): 0.029377777777777777,\n",
       " (3, 5, 14): 0.03213333333333333,\n",
       " (3, 5, 15): 0.03382222222222222,\n",
       " (3, 5, 16): 0.042,\n",
       " (3, 5, 17): 0.029955555555555555,\n",
       " (3, 5, 18): 0.031377777777777775,\n",
       " (3, 5, 19): 0.038,\n",
       " (3, 5, 20): 0.04284444444444444,\n",
       " (3, 5, 21): 0.04622222222222222,\n",
       " (3, 5, 22): 0.041688888888888886,\n",
       " (3, 5, 23): 0.038844444444444445,\n",
       " (3, 5, 24): 0.042977777777777774,\n",
       " (3, 5, 25): 0.04404444444444444,\n",
       " (3, 6, 0): 0.024,\n",
       " (3, 6, 1): 0.03662222222222222,\n",
       " (3, 6, 2): 0.032355555555555554,\n",
       " (3, 6, 3): 0.04066666666666666,\n",
       " (3, 6, 4): 0.037066666666666664,\n",
       " (3, 6, 5): 0.037955555555555555,\n",
       " (3, 6, 6): 0.04315555555555556,\n",
       " (3, 6, 7): 0.041155555555555556,\n",
       " (3, 6, 8): 0.03657777777777778,\n",
       " (3, 6, 9): 0.04084444444444445,\n",
       " (3, 6, 10): 0.042133333333333335,\n",
       " (3, 6, 11): 0.03737777777777778,\n",
       " (3, 6, 12): 0.04048888888888889,\n",
       " (3, 6, 13): 0.041777777777777775,\n",
       " (3, 6, 14): 0.037955555555555555,\n",
       " (3, 6, 15): 0.03595555555555555,\n",
       " (3, 6, 16): 0.024355555555555554,\n",
       " (3, 6, 17): 0.0424,\n",
       " (3, 6, 18): 0.03222222222222222,\n",
       " (3, 6, 19): 0.03595555555555555,\n",
       " (3, 6, 20): 0.03493333333333333,\n",
       " (3, 6, 21): 0.07351111111111111,\n",
       " (3, 6, 22): 0.035866666666666665,\n",
       " (3, 6, 23): 0.0376,\n",
       " (3, 6, 24): 0.0316,\n",
       " (3, 6, 25): 0.04546666666666667,\n",
       " (4, 5, 0): 0.024266666666666666,\n",
       " (4, 5, 1): 0.035555555555555556,\n",
       " (4, 5, 2): 0.028844444444444443,\n",
       " (4, 5, 3): 0.04022222222222222,\n",
       " (4, 5, 4): 0.036755555555555555,\n",
       " (4, 5, 5): 0.04075555555555556,\n",
       " (4, 5, 6): 0.043244444444444446,\n",
       " (4, 5, 7): 0.0536,\n",
       " (4, 5, 8): 0.039822222222222224,\n",
       " (4, 5, 9): 0.0412,\n",
       " (4, 5, 10): 0.04008888888888889,\n",
       " (4, 5, 11): 0.035866666666666665,\n",
       " (4, 5, 12): 0.030533333333333332,\n",
       " (4, 5, 13): 0.0316,\n",
       " (4, 5, 14): 0.029733333333333334,\n",
       " (4, 5, 15): 0.04306666666666667,\n",
       " (4, 5, 16): 0.03142222222222222,\n",
       " (4, 5, 17): 0.03422222222222222,\n",
       " (4, 5, 18): 0.041155555555555556,\n",
       " (4, 5, 19): 0.07862222222222222,\n",
       " (4, 5, 20): 0.043244444444444446,\n",
       " (4, 5, 21): 0.03177777777777778,\n",
       " (4, 5, 22): 0.03,\n",
       " (4, 5, 23): 0.051111111111111114,\n",
       " (4, 5, 24): 0.031822222222222224,\n",
       " (4, 5, 25): 0.031466666666666664,\n",
       " (4, 6, 0): 0.0344,\n",
       " (4, 6, 1): 0.0268,\n",
       " (4, 6, 2): 0.04066666666666666,\n",
       " (4, 6, 3): 0.03111111111111111,\n",
       " (4, 6, 4): 0.03542222222222222,\n",
       " (4, 6, 5): 0.039066666666666666,\n",
       " (4, 6, 6): 0.0728,\n",
       " (4, 6, 7): 0.03782222222222222,\n",
       " (4, 6, 8): 0.0384,\n",
       " (4, 6, 9): 0.03213333333333333,\n",
       " (4, 6, 10): 0.04635555555555555,\n",
       " (4, 6, 11): 0.02337777777777778,\n",
       " (4, 6, 12): 0.03755555555555556,\n",
       " (4, 6, 13): 0.026133333333333335,\n",
       " (4, 6, 14): 0.035022222222222225,\n",
       " (4, 6, 15): 0.03395555555555556,\n",
       " (4, 6, 16): 0.04648888888888889,\n",
       " (4, 6, 17): 0.042666666666666665,\n",
       " (4, 6, 18): 0.04142222222222222,\n",
       " (4, 6, 19): 0.034355555555555556,\n",
       " (4, 6, 20): 0.0516,\n",
       " (4, 6, 21): 0.04151111111111111,\n",
       " (4, 6, 22): 0.03666666666666667,\n",
       " (4, 6, 23): 0.03528888888888889,\n",
       " (4, 6, 24): 0.04293333333333333,\n",
       " (4, 6, 25): 0.03604444444444444,\n",
       " (5, 6, 0): 0.042444444444444444,\n",
       " (5, 6, 1): 0.047733333333333336,\n",
       " (5, 6, 2): 0.04075555555555556,\n",
       " (5, 6, 3): 0.03551111111111111,\n",
       " (5, 6, 4): 0.0284,\n",
       " (5, 6, 5): 0.041466666666666666,\n",
       " (5, 6, 6): 0.0312,\n",
       " (5, 6, 7): 0.03177777777777778,\n",
       " (5, 6, 8): 0.028177777777777777,\n",
       " (5, 6, 9): 0.047066666666666666,\n",
       " (5, 6, 10): 0.03275555555555556,\n",
       " (5, 6, 11): 0.03866666666666667,\n",
       " (5, 6, 12): 0.03875555555555556,\n",
       " (5, 6, 13): 0.07457777777777778,\n",
       " (5, 6, 14): 0.039377777777777775,\n",
       " (5, 6, 15): 0.039377777777777775,\n",
       " (5, 6, 16): 0.033155555555555556,\n",
       " (5, 6, 17): 0.04337777777777778,\n",
       " (5, 6, 18): 0.022266666666666667,\n",
       " (5, 6, 19): 0.035111111111111114,\n",
       " (5, 6, 20): 0.024355555555555554,\n",
       " (5, 6, 21): 0.030444444444444444,\n",
       " (5, 6, 22): 0.037733333333333334,\n",
       " (5, 6, 23): 0.04515555555555555,\n",
       " (5, 6, 24): 0.04337777777777778,\n",
       " (5, 6, 25): 0.04697777777777778}"
      ]
     },
     "execution_count": 439,
     "metadata": {},
     "output_type": "execute_result"
    }
   ],
   "source": [
    "mutIndCo"
   ]
  },
  {
   "cell_type": "code",
   "execution_count": 445,
   "metadata": {},
   "outputs": [
    {
     "data": {
      "text/plain": [
       "[(0, 1, 2),\n",
       " (0, 2, 13),\n",
       " (0, 3, 20),\n",
       " (0, 4, 9),\n",
       " (0, 5, 2),\n",
       " (0, 6, 15),\n",
       " (1, 2, 11),\n",
       " (1, 3, 18),\n",
       " (1, 4, 7),\n",
       " (1, 5, 0),\n",
       " (1, 6, 13),\n",
       " (2, 3, 7),\n",
       " (2, 4, 22),\n",
       " (2, 5, 15),\n",
       " (2, 6, 2),\n",
       " (3, 4, 15),\n",
       " (3, 5, 8),\n",
       " (3, 6, 21),\n",
       " (4, 5, 19),\n",
       " (4, 6, 6),\n",
       " (5, 6, 13)]"
      ]
     },
     "execution_count": 445,
     "metadata": {},
     "output_type": "execute_result"
    }
   ],
   "source": [
    "mutIndCo_altos=list(filter(lambda x: mutIndCo[x] >= 0.065, mutIndCo))\n",
    "mutIndCo_altos"
   ]
  },
  {
   "cell_type": "code",
   "execution_count": 446,
   "metadata": {
    "scrolled": false
   },
   "outputs": [
    {
     "data": {
      "text/plain": [
       "['ACNUJCP',\n",
       " 'BDOVKDQ',\n",
       " 'CEPWLER',\n",
       " 'DFQXMFS',\n",
       " 'EGRYNGT',\n",
       " 'FHSZOHU',\n",
       " 'GITAPIV',\n",
       " 'HJUBQJW',\n",
       " 'IKVCRKX',\n",
       " 'JLWDSLY',\n",
       " 'KMXETMZ',\n",
       " 'LNYFUNA',\n",
       " 'MOZGVOB',\n",
       " 'NPAHWPC',\n",
       " 'OQBIXQD',\n",
       " 'PRCJYRE',\n",
       " 'QSDKZSF',\n",
       " 'RTELATG',\n",
       " 'SUFMBUH',\n",
       " 'TVGNCVI',\n",
       " 'UWHODWJ',\n",
       " 'VXIPEXK',\n",
       " 'WYJQFYL',\n",
       " 'XZKRGZM',\n",
       " 'YALSHAN',\n",
       " 'ZBMTIBO']"
      ]
     },
     "execution_count": 446,
     "metadata": {},
     "output_type": "execute_result"
    }
   ],
   "source": [
    "possible_keys=[]\n",
    "for first in string.ascii_uppercase:\n",
    "    key=first\n",
    "    for i in mutIndCo_altos[:keyLen-1]:\n",
    "        key+=shift(first,i[2])\n",
    "    possible_keys.append(key)\n",
    "possible_keys"
   ]
  },
  {
   "cell_type": "code",
   "execution_count": 444,
   "metadata": {},
   "outputs": [
    {
     "name": "stdout",
     "output_type": "stream",
     "text": [
      "UCPCBBGLMGZMYNKRCBXCKQKQGDPYPBQAOJMUGPGDPSOCPHYQAQ\n",
      "TBOBAAFKLFYLXMJQBAWBJPJPFCOXOAPZNILTFOFCORNBOGXPZP\n",
      "SANAZZEJKEXKWLIPAZVAIOIOEBNWNZOYMHKSENEBNQMANFWOYO\n",
      "RZMZYYDIJDWJVKHOZYUZHNHNDAMVMYNXLGJRDMDAMPLZMEVNXN\n",
      "QYLYXXCHICVIUJGNYXTYGMGMCZLULXMWKFIQCLCZLOKYLDUMWM\n",
      "PXKXWWBGHBUHTIFMXWSXFLFLBYKTKWLVJEHPBKBYKNJXKCTLVL\n",
      "OWJWVVAFGATGSHELWVRWEKEKAXJSJVKUIDGOAJAXJMIWJBSKUK\n",
      "NVIVUUZEFZSFRGDKVUQVDJDJZWIRIUJTHCFNZIZWILHVIARJTJ\n",
      "MUHUTTYDEYREQFCJUTPUCICIYVHQHTISGBEMYHYVHKGUHZQISI\n",
      "LTGTSSXCDXQDPEBITSOTBHBHXUGPGSHRFADLXGXUGJFTGYPHRH\n",
      "KSFSRRWBCWPCODAHSRNSAGAGWTFOFRGQEZCKWFWTFIESFXOGQG\n",
      "JRERQQVABVOBNCZGRQMRZFZFVSENEQFPDYBJVEVSEHDREWNFPF\n",
      "IQDQPPUZAUNAMBYFQPLQYEYEURDMDPEOCXAIUDURDGCQDVMEOE\n",
      "HPCPOOTYZTMZLAXEPOKPXDXDTQCLCODNBWZHTCTQCFBPCULDND\n",
      "GOBONNSXYSLYKZWDONJOWCWCSPBKBNCMAVYGSBSPBEAOBTKCMC\n",
      "FNANMMRWXRKXJYVCNMINVBVBROAJAMBLZUXFRAROADZNASJBLB\n",
      "EMZMLLQVWQJWIXUBMLHMUAUAQNZIZLAKYTWEQZQNZCYMZRIAKA\n",
      "DLYLKKPUVPIVHWTALKGLTZTZPMYHYKZJXSVDPYPMYBXLYQHZJZ\n",
      "CKXKJJOTUOHUGVSZKJFKSYSYOLXGXJYIWRUCOXOLXAWKXPGYIY\n",
      "BJWJIINSTNGTFURYJIEJRXRXNKWFWIXHVQTBNWNKWZVJWOFXHX\n",
      "AIVIHHMRSMFSETQXIHDIQWQWMJVEVHWGUPSAMVMJVYUIVNEWGW\n",
      "ZHUHGGLQRLERDSPWHGCHPVPVLIUDUGVFTORZLULIUXTHUMDVFV\n",
      "YGTGFFKPQKDQCROVGFBGOUOUKHTCTFUESNQYKTKHTWSGTLCUEU\n",
      "XFSFEEJOPJCPBQNUFEAFNTNTJGSBSETDRMPXJSJGSVRFSKBTDT\n",
      "WEREDDINOIBOAPMTEDZEMSMSIFRARDSCQLOWIRIFRUQERJASCS\n",
      "VDQDCCHMNHANZOLSDCYDLRLRHEQZQCRBPKNVHQHEQTPDQIZRBR\n"
     ]
    }
   ],
   "source": [
    "for key in possible_keys:\n",
    "    vig=Vigenere(string.ascii_uppercase,key)\n",
    "    print(vig.decipher(text[:50]))"
   ]
  }
 ],
 "metadata": {
  "kernelspec": {
   "display_name": "Python 3",
   "language": "python",
   "name": "python3"
  },
  "language_info": {
   "codemirror_mode": {
    "name": "ipython",
    "version": 3
   },
   "file_extension": ".py",
   "mimetype": "text/x-python",
   "name": "python",
   "nbconvert_exporter": "python",
   "pygments_lexer": "ipython3",
   "version": "3.6.9"
  }
 },
 "nbformat": 4,
 "nbformat_minor": 2
}
