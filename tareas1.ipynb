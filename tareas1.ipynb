{
 "cells": [
  {
   "cell_type": "markdown",
   "metadata": {},
   "source": [
    "# Tareas de SPSI\n",
    "\n",
    "**David Cabezas Berrido y Patricia Córdoba Hidalgo**"
   ]
  },
  {
   "cell_type": "code",
   "execution_count": 1,
   "metadata": {},
   "outputs": [],
   "source": [
    "from math import sqrt\n",
    "import numpy as np\n",
    "import unicodedata\n",
    "import random\n",
    "import string\n",
    "from fractions import Fraction\n",
    "from collections import Counter\n",
    "import matplotlib.pyplot as plt"
   ]
  },
  {
   "cell_type": "markdown",
   "metadata": {},
   "source": [
    "# Tarea 1: Exponenciación rápida"
   ]
  },
  {
   "cell_type": "markdown",
   "metadata": {},
   "source": [
    "### a)"
   ]
  },
  {
   "cell_type": "code",
   "execution_count": 2,
   "metadata": {},
   "outputs": [],
   "source": [
    "def e(a,b):\n",
    "    if b==0:\n",
    "        return 1\n",
    "    if b>0 and b%2==0:\n",
    "        return e(a*a,b/2)\n",
    "    if b>0 and b%2==1:\n",
    "        return e(a*a,(b-1)/2)*a"
   ]
  },
  {
   "cell_type": "code",
   "execution_count": 3,
   "metadata": {},
   "outputs": [
    {
     "name": "stdout",
     "output_type": "stream",
     "text": [
      "8 1\n"
     ]
    }
   ],
   "source": [
    "print(e(2,3),e(0,0))"
   ]
  },
  {
   "cell_type": "markdown",
   "metadata": {},
   "source": [
    "### b)"
   ]
  },
  {
   "cell_type": "code",
   "execution_count": 4,
   "metadata": {},
   "outputs": [],
   "source": [
    "def e(a,b):\n",
    "    if b==0:\n",
    "        return 1\n",
    "    if b%2==0:\n",
    "        return e(a*a,b/2)\n",
    "    if b>0 and b%2==1:\n",
    "        return e(a*a,(b-1)/2)*a\n",
    "    if b<0 and b%2==1:\n",
    "        return Fraction(1,e(a,-b))"
   ]
  },
  {
   "cell_type": "code",
   "execution_count": 5,
   "metadata": {},
   "outputs": [
    {
     "name": "stdout",
     "output_type": "stream",
     "text": [
      "1/9 1/4 -1/3\n"
     ]
    }
   ],
   "source": [
    "print(e(-3,-2),e(2,-2),e(-3,-1))"
   ]
  },
  {
   "cell_type": "markdown",
   "metadata": {},
   "source": [
    "### c)"
   ]
  },
  {
   "cell_type": "code",
   "execution_count": 6,
   "metadata": {},
   "outputs": [],
   "source": [
    "def euclid(a,b):\n",
    "    a0, a1 = a, b\n",
    "    s0, s1 = 1, 0\n",
    "    t0, t1 = 0, 1\n",
    "    \n",
    "    while a1 != 0:\n",
    "        q = a0//a1\n",
    "        a0, a1 = a1, a0%a1\n",
    "        s0, s1 = s1, s0-s1*q\n",
    "        t0, t1 = t1, t0-t1*q\n",
    "    return a0, s0, t0"
   ]
  },
  {
   "cell_type": "code",
   "execution_count": 7,
   "metadata": {},
   "outputs": [],
   "source": [
    "def e(a,b,n):\n",
    "    if b==0:\n",
    "        return 1\n",
    "    if b>0 and b%2==0:\n",
    "        return e(a*a%n,b/2,n)\n",
    "    if b>0 and b%2==1:\n",
    "        return e(a*a%n,(b-1)/2,n)*a%n\n",
    "    if b<0:\n",
    "        d, u, v = euclid(a,n)\n",
    "        if d == 1:\n",
    "            return e(u,-b,n)\n",
    "        else:\n",
    "            print('no existe el inverso de ' + str(a) + ' mod '+ str(n))\n",
    "            "
   ]
  },
  {
   "cell_type": "code",
   "execution_count": 8,
   "metadata": {},
   "outputs": [
    {
     "name": "stdout",
     "output_type": "stream",
     "text": [
      "no existe el inverso de -3 mod 6\n"
     ]
    },
    {
     "data": {
      "text/plain": [
       "20"
      ]
     },
     "execution_count": 8,
     "metadata": {},
     "output_type": "execute_result"
    }
   ],
   "source": [
    "e(-3,-2,6)\n",
    "e(-16,3,21)"
   ]
  },
  {
   "cell_type": "markdown",
   "metadata": {},
   "source": [
    "# Tarea 2: Criptosistema de Vigenère"
   ]
  },
  {
   "cell_type": "code",
   "execution_count": 9,
   "metadata": {},
   "outputs": [],
   "source": [
    "def normalize(c):\n",
    "    return unicodedata.normalize(\"NFD\",c)[0]\n",
    "\n",
    "def encode(cadena):\n",
    "    cadena=cadena.upper().replace('Ñ','GN')\n",
    "    cadena=''.join(normalize(c) for c in cadena if c.isalnum())\n",
    "    return cadena"
   ]
  },
  {
   "cell_type": "markdown",
   "metadata": {},
   "source": [
    "Con motivos puramente didácticos, implementamos un sistema de generación aleatoria de claves de la longitud del mensaje.\n",
    "\n",
    "Si no se introduce clave en el constructor, se utilizará este método la primera vez que se intente cifrar.\n",
    "\n",
    "Utiliza la asociatividad de la suma en módulo para generar una clave que se repite cada 2, luego cada 2*3, luego cada 2*3*5 y así hasta tener suficientes números primos para alcanzar la longitud del mensaje."
   ]
  },
  {
   "cell_type": "code",
   "execution_count": 10,
   "metadata": {},
   "outputs": [],
   "source": [
    "# Clase de los números primos para, utilizando la asociatividad de la suma en módulo,\n",
    "# generar claves aleatorias indefinidamente largas\n",
    "def primes():\n",
    "    current = 1\n",
    "    while True:\n",
    "        current += 1\n",
    "        while True:\n",
    "            for i in range(2, current // 2 + 1):\n",
    "                if current % i == 0:\n",
    "                    current += 1\n",
    "                    break\n",
    "            else:\n",
    "                break\n",
    "        yield current"
   ]
  },
  {
   "cell_type": "code",
   "execution_count": 11,
   "metadata": {},
   "outputs": [],
   "source": [
    "class Vigenere:\n",
    "        \n",
    "    def __init__(self,alphabet,key=None):\n",
    "        self.A=alphabet\n",
    "        self.n=len(alphabet)\n",
    "        \n",
    "        # Diccionarios con los valores correspondientes a cada caracter\n",
    "        self.value=dict(zip(self.A,range(self.n)))\n",
    "        self.character={v:k for k,v in self.value.items()}\n",
    "        \n",
    "        # Si no se proporciona una clave se proporciona una aleatoria cuando se intente cifrar por primera vez\n",
    "        self.key=key\n",
    "            \n",
    "    # Generación de claves aleatorias arbitrariamente largas combinando varias claves de longitud primo\n",
    "    def generateSmallRandomKey(self,keyLen):\n",
    "        return ''.join(random.choice(self.A) for _ in range(keyLen))\n",
    "    \n",
    "    def generateRandomKey(self,keyLen):\n",
    "        prim=primes()\n",
    "        p=next(prim) # Partimos de una clave de longitud 2\n",
    "        prod=p\n",
    "        smallKey=self.generateSmallRandomKey(p)\n",
    "        key=self.keyToLength(smallKey,keyLen) # Clave de longitud deseada, que se repite cada 2\n",
    "        while prod < keyLen:\n",
    "            print(key) # Esto no debe imprimirse, pero ayuda a comprender la generación de la clave\n",
    "            p=next(prim)\n",
    "            smallKey=self.generateSmallRandomKey(p)\n",
    "            self.key=self.keyToLength(smallKey,keyLen) # Ciframos la clave \"acumulada\" con la nueva clave generada\n",
    "            key=self.cipher(key) # Ahora tenemos una clave que se repite cada prod\n",
    "            prod*=p\n",
    "        return key\n",
    "            \n",
    "    # Obtener el valor de una letra \n",
    "    def getValue(self,c):\n",
    "        return self.value[c]\n",
    "    \n",
    "    # Obtener un letra a partir del valor \n",
    "    def getCharacter(self,v):\n",
    "        return self.character[v]\n",
    "        \n",
    "    # Repite la clave hasta longitud length\n",
    "    def keyToLength(self, key, length):\n",
    "        return (key * (int(length/len(key))+1))[:length]\n",
    "            \n",
    "    # Función de cifrado\n",
    "    def cipher(self,msg):\n",
    "        if self.key==None:\n",
    "            self.key=self.generateRandomKey(len(msg))\n",
    "            \n",
    "        k=self.keyToLength(self.key,len(msg))\n",
    "        \n",
    "        # Cambiamos las letras por su valor correspondiente\n",
    "        msg_values=list(map(self.getValue,msg))\n",
    "        key_values=list(map(self.getValue,k))\n",
    "        \n",
    "        # Sumamos módulo la longitud del diccionario\n",
    "        result=[(msg_values[i]+key_values[i])%self.n for i in range(len(msg))]\n",
    "        \n",
    "        # Volvemos a convertir en caracteres y devolvemos el mensaje cifrado\n",
    "        return ''.join((map(self.getCharacter,result)))\n",
    "        \n",
    "    # Función de descifrado\n",
    "    def decipher(self, msg):\n",
    "        k=self.keyToLength(self.key,len(msg))\n",
    "        \n",
    "        # Cambiamos las letras por su valor correspondiente\n",
    "        msg_values=list(map(self.getValue,msg))\n",
    "        key_values=list(map(self.getValue,k))\n",
    "        \n",
    "        # Restamos módulo la longitud del diccionario\n",
    "        result=[(msg_values[i]-key_values[i])%self.n for i in range(len(msg))]\n",
    "        \n",
    "        # Volvemos a convertir en caracteres y devolvemos el mensaje descifrado\n",
    "        return ''.join((map(self.getCharacter,result)))"
   ]
  },
  {
   "cell_type": "code",
   "execution_count": 12,
   "metadata": {},
   "outputs": [],
   "source": [
    "alphabet=string.ascii_uppercase+string.digits"
   ]
  },
  {
   "cell_type": "code",
   "execution_count": 13,
   "metadata": {},
   "outputs": [],
   "source": [
    "#vig = Vigenere(alphabet,'CLAVEMUYSECRETA')\n",
    "vig = Vigenere(alphabet)"
   ]
  },
  {
   "cell_type": "code",
   "execution_count": 14,
   "metadata": {},
   "outputs": [
    {
     "data": {
      "text/plain": [
       "'ELSECRETOSEPROTEGEASIMISMOMICONSTRASEGNADELWIFIES123456'"
      ]
     },
     "execution_count": 14,
     "metadata": {},
     "output_type": "execute_result"
    }
   ],
   "source": [
    "msg=encode('el secreto se protege a sí mismo. Mi constraseña del WI-FI es 123456')\n",
    "msg"
   ]
  },
  {
   "cell_type": "code",
   "execution_count": 15,
   "metadata": {
    "scrolled": true
   },
   "outputs": [
    {
     "name": "stdout",
     "output_type": "stream",
     "text": [
      "9595959595959595959595959595959595959595959595959595959\n",
      "WHQSLMWHQSLMWHQSLMWHQSLMWHQSLMWHQSLMWHQSLMWHQSLMWHQSLMW\n",
      "C7FAA2M68H1CLZF8BBE66IA4LXGH3BC7FAA2M68H1CLZF8BBE66IA4L\n"
     ]
    },
    {
     "data": {
      "text/plain": [
       "'VH9SFSI4LBJUB5DBTTHX69HYBE1HKO13102ZPOZKD8BKZRMOOCXNI2Q'"
      ]
     },
     "execution_count": 15,
     "metadata": {},
     "output_type": "execute_result"
    }
   ],
   "source": [
    "cifrado=vig.cipher(msg) # Si no está comentado el print, se observa la generación de la clave\n",
    "cifrado"
   ]
  },
  {
   "cell_type": "code",
   "execution_count": 16,
   "metadata": {},
   "outputs": [
    {
     "data": {
      "text/plain": [
       "'R6RODBEL7TFFURU7NPHFYX9GZ0P9IAOLIJ2HLIMKA40YRMEK6L5UO7U'"
      ]
     },
     "execution_count": 16,
     "metadata": {},
     "output_type": "execute_result"
    }
   ],
   "source": [
    "vig.key"
   ]
  },
  {
   "cell_type": "code",
   "execution_count": 17,
   "metadata": {},
   "outputs": [
    {
     "data": {
      "text/plain": [
       "'ELSECRETOSEPROTEGEASIMISMOMICONSTRASEGNADELWIFIES123456'"
      ]
     },
     "execution_count": 17,
     "metadata": {},
     "output_type": "execute_result"
    }
   ],
   "source": [
    "vig.decipher(cifrado)"
   ]
  },
  {
   "cell_type": "markdown",
   "metadata": {},
   "source": [
    "# Tareas 3 y 4: Rompiendo el criptosistema de Vigenère"
   ]
  },
  {
   "cell_type": "markdown",
   "metadata": {},
   "source": [
    "Vamos a poner un ejemplo del ataque al criptosistema de Vigenère usando el texto del ejercicio 4.\n",
    "El ataque se basa en la obtención de la clave por el siguiente procedimiento:\n",
    "- Primero se averigua su longitud, TODO\n",
    "Nos aprovechamos de que la clave se repite hasta ocupar la longitud del texto a cifrar\n",
    "https://github.com/ichantzaras/creamcrackerz"
   ]
  },
  {
   "cell_type": "code",
   "execution_count": 18,
   "metadata": {},
   "outputs": [],
   "source": [
    "text=\"\"\"UECWKDVLOTTVACKTPVGEZQMDAMRNPDDUXLBUICAMRHOECBHSPQLVIWO\n",
    "FFEAILPNTESMLDRUURIFAEQTTPXADWIAWLACCRPBHSRZIVQWOFROGTT\n",
    "NNXEVIVIBPDTTGAHVIACLAYKGJIEQHGECMESNNOCTHSGGNVWTQHKBPR\n",
    "HMVUOYWLIAFIRIGDBOEBQLIGWARQHNLOISQKEPEIDVXXNETPAXNZGDX\n",
    "WWEYQCTIGONNGJVHSQGEATHSYGSDVVOAQCXLHSPQMDMETRTMDUXTEQQ\n",
    "JMFAEEAAIMEZREGIMUECICBXRVQRSMENNWTXTNSRNBPZHMRVRDYNECG\n",
    "SPMEAVTENXKEQKCTTHSPCMQQHSQGTXMFPBGLWQZRBOEIZHQHGRTOBSG\n",
    "TATTZRNFOSMLEDWESIWDRNAPBFOFHEGIXLFVOGUZLNUSRCRAZGZRTTA\n",
    "YFEHKHMCQNTZLENPUCKBAYCICUBNRPCXIWEYCSIMFPRUTPLXSYCBGCC\n",
    "UYCQJMWIEKGTUBRHVATTLEKVACBXQHGPDZEANNTJZTDRNSDTFEVPDXK\n",
    "TMVNAIQMUQNOHKKOAQMTBKOFSUTUXPRTMXBXNPCLRCEAEOIAWGGVVUS\n",
    "GIOEWLIQFOZKSPVMEBLOHLXDVCYSMGOPJEFCXMRUIGDXNCCRPMLCEWT\n",
    "PZMOQQSAWLPHPTDAWEYJOGQSOAVERCTNQQEAVTUGKLJAXMRTGTIEAFW\n",
    "PTZYIPKESMEAFCGJILSBPLDABNFVRJUXNGQSWIUIGWAAMLDRNNPDXGN\n",
    "PTTGLUHUOBMXSPQNDKBDBTEECLECGRDPTYBVRDATQHKQJMKEFROCLXN\n",
    "FKNSCWANNAHXTRGKCJTTRRUEMQZEAEIPAWEYPAJBBLHUEHMVUNFRPVM\n",
    "EDWEKMHRREOGZBDBROGCGANIUYIBNZQVXTGORUUCUTNBOEIZHEFWNBI\n",
    "GOZGTGWXNRHERBHPHGSIWXNPQMJVBCNEIDVVOAGLPONAPWYPXKEFKOC\n",
    "MQTRTIDZBNQKCPLTTNOBXMGLNRRDNNNQKDPLTLNSUTAXMNPTXMGEZKA\n",
    "EIKAGQ\"\"\"\n",
    "text=encode(text)"
   ]
  },
  {
   "cell_type": "markdown",
   "metadata": {},
   "source": [
    "#### Encontramos la longitud de la clave con el método de Kasiski."
   ]
  },
  {
   "cell_type": "markdown",
   "metadata": {},
   "source": [
    "Primero encontramos las sequencias de caracteres que se repiten en el texto"
   ]
  },
  {
   "cell_type": "code",
   "execution_count": 19,
   "metadata": {},
   "outputs": [],
   "source": [
    "# Encuentra secuencias de caracteres que se repiten dos o más veces, así como las posiciones en las que aparecen\n",
    "def repeated_seq_pos(text, seq_len):\n",
    "    seq_pos = {}  # Guardaremos en un diccionario todas las secuencias y las posiciones en las que aparecen\n",
    "    for i, char in enumerate(text): # Recorremos el texto\n",
    "        next_seq = text[i:i+seq_len] # Tomamos cada posible secuencia de seq_len caracteres\n",
    "        if next_seq in seq_pos.keys(): # Si la secuencia ya había ocurrido, añadimos la nueva posición\n",
    "            seq_pos[next_seq].append(i)\n",
    "        else: # Si no había ocurrido, añadimos su primera ocurrencia\n",
    "            seq_pos[next_seq] = [i]\n",
    "    repeated = list(filter(lambda x: len(seq_pos[x]) >= 2, seq_pos)) # Nos quedamos con las secuencias que tienen 2 o más ocurrencias\n",
    "    rep_seq_pos = [(seq, seq_pos[seq]) for seq in repeated]\n",
    "    return rep_seq_pos"
   ]
  },
  {
   "cell_type": "code",
   "execution_count": 20,
   "metadata": {
    "scrolled": false
   },
   "outputs": [
    {
     "data": {
      "text/plain": [
       "[('UEC', [0, 292]),\n",
       " ('VAC', [11, 518]),\n",
       " ('GEZ', [18, 1040]),\n",
       " ('QMD', [21, 259])]"
      ]
     },
     "execution_count": 20,
     "metadata": {},
     "output_type": "execute_result"
    }
   ],
   "source": [
    "secuencias=repeated_seq_pos(text,3)\n",
    "secuencias[:4]"
   ]
  },
  {
   "cell_type": "markdown",
   "metadata": {},
   "source": [
    "Ahora calculamos las diferencias (el espacio) entre las posiciones de las ocurrencias.\n",
    "Si una secuencia se repite, es probable que lo haga tras un múltiplo de la longitud de la clave."
   ]
  },
  {
   "cell_type": "code",
   "execution_count": 21,
   "metadata": {},
   "outputs": [],
   "source": [
    "# Devuelve una lista con las diferencias entre las posiciones de las ocurrencias\n",
    "def get_spacings(positions):\n",
    "    return [positions[i+1] - positions[i] for i in range(len(positions)-1)]"
   ]
  },
  {
   "cell_type": "code",
   "execution_count": 22,
   "metadata": {},
   "outputs": [
    {
     "data": {
      "text/plain": [
       "[('UEC', [292]), ('VAC', [507]), ('GEZ', [1022]), ('QMD', [238])]"
      ]
     },
     "execution_count": 22,
     "metadata": {},
     "output_type": "execute_result"
    }
   ],
   "source": [
    "seq_espacios = {}\n",
    "for seq, positions in secuencias:\n",
    "    seq_espacios[seq] = get_spacings(positions)\n",
    "[(k,v) for k,v in seq_espacios.items()][:4]"
   ]
  },
  {
   "cell_type": "markdown",
   "metadata": {},
   "source": [
    "Ahora hallamos los divisores propios de esas diferencias."
   ]
  },
  {
   "cell_type": "code",
   "execution_count": 23,
   "metadata": {},
   "outputs": [],
   "source": [
    "# Calcula los factores del número number\n",
    "def get_factors(number):\n",
    "    factors = set()\n",
    "    for i in range(1, int(sqrt(number))+1):\n",
    "        if number % i == 0:\n",
    "            factors.add(i)\n",
    "            factors.add(number//i)\n",
    "    return sorted(factors)"
   ]
  },
  {
   "cell_type": "code",
   "execution_count": 24,
   "metadata": {},
   "outputs": [
    {
     "data": {
      "text/plain": [
       "[[1, 2, 4, 73, 146, 292],\n",
       " [1, 3, 13, 39, 169, 507],\n",
       " [1, 2, 7, 14, 73, 146, 511, 1022],\n",
       " [1, 2, 7, 14, 17, 34, 119, 238]]"
      ]
     },
     "execution_count": 24,
     "metadata": {},
     "output_type": "execute_result"
    }
   ],
   "source": [
    "# Sacamos la lista de factores de las diferencias entre las posiciones de las occurencias\n",
    "factor_lists = []\n",
    "for espacios in seq_espacios.values():\n",
    "    for espacio in espacios:\n",
    "        factor_lists.append(get_factors(number=espacio))\n",
    "factor_lists[:4]"
   ]
  },
  {
   "cell_type": "markdown",
   "metadata": {},
   "source": [
    "Los candidatos a ser la longitud de clave dividiran a la mayoría de los espacios entre ocurrencias de cada secuencia"
   ]
  },
  {
   "cell_type": "code",
   "execution_count": 25,
   "metadata": {},
   "outputs": [],
   "source": [
    "def candidate_key_lengths(factor_lists, max_key_len):\n",
    "    # Unimos todos los factores en una lista\n",
    "    all_factors = [factor_lists[lst][fac] for lst in range(len(factor_lists)) for fac in range(len(factor_lists[lst]))]\n",
    "    # Excluimos los mayores que la longitud máxima de clave\n",
    "    candidate_lengths = list(filter(lambda x:  x <= max_key_len, all_factors))\n",
    "    # Los ordenamos según el número de veces que aparecen\n",
    "    sorted_candidates = sorted(set(candidate_lengths), key=lambda x: all_factors.count(x), reverse=True)\n",
    "    return sorted_candidates"
   ]
  },
  {
   "cell_type": "code",
   "execution_count": 26,
   "metadata": {},
   "outputs": [
    {
     "data": {
      "text/plain": [
       "[1, 7, 3, 2, 14, 5, 4, 9, 6, 13, 15, 8, 17, 10, 11, 12, 16, 19, 20, 18]"
      ]
     },
     "execution_count": 26,
     "metadata": {},
     "output_type": "execute_result"
    }
   ],
   "source": [
    "ckl = candidate_key_lengths(factor_lists=factor_lists, max_key_len=20)\n",
    "ckl"
   ]
  },
  {
   "cell_type": "markdown",
   "metadata": {},
   "source": [
    "Obviamente el 1 es el factor que más se repite, el 7 es nuestro principal candidato a ser la longitud de la clave. Confirmaremos nuestra sospecha usando el test de Friedman."
   ]
  },
  {
   "cell_type": "markdown",
   "metadata": {},
   "source": [
    "#### Confirmamos la longitud de la clave por el test de Friedman."
   ]
  },
  {
   "cell_type": "code",
   "execution_count": 27,
   "metadata": {},
   "outputs": [],
   "source": [
    "# Divide el texto en trozos de longitud size\n",
    "def get_blocks(text, size):\n",
    "    blocks = [text[i:i+size] for i in range(0, len(text)-size, size)]\n",
    "    return blocks"
   ]
  },
  {
   "cell_type": "code",
   "execution_count": 28,
   "metadata": {},
   "outputs": [],
   "source": [
    "# Crea size strings uniendo las letras cuya posición se diferencia en un múltiplo de size\n",
    "def get_columns(text_blocks):\n",
    "    group_size = len(text_blocks[0])\n",
    "    columns = []\n",
    "    for letter_count in range(group_size):\n",
    "        column = ''\n",
    "        for group_count in range(len(text_blocks)):\n",
    "            column += text_blocks[group_count][letter_count]\n",
    "        columns.append(column)\n",
    "    return columns"
   ]
  },
  {
   "cell_type": "code",
   "execution_count": 29,
   "metadata": {},
   "outputs": [],
   "source": [
    "# Calcula el índice de coincidencia\n",
    "def IndCo(s):\n",
    "    n = len(s)\n",
    "    F = Counter(list(s))\n",
    "    return sum([F[c]*(F[c]-1) for c in string.ascii_uppercase])/(n*(n-1))"
   ]
  },
  {
   "cell_type": "code",
   "execution_count": 30,
   "metadata": {
    "scrolled": true
   },
   "outputs": [],
   "source": [
    "# Calculamos del índice IndCo para la longitud de clave 7\n",
    "frac = []\n",
    "EN = 0.0685 # Son parecidas, no tenemos que conocer a priori \n",
    "ES = 0.0755\n",
    "\n",
    "for keyLen in range(3,20):\n",
    "    blocks=get_blocks(text,keyLen)\n",
    "    columns=get_columns(blocks)\n",
    "    indco = []\n",
    "    for i in range(keyLen):\n",
    "        indco.append(IndCo(columns[i]))\n",
    "    \n",
    "    # Este cociente se acerca a 1 cuando la frecuencia de las letras es similar a la del idioma\n",
    "    # y se dispara cuando la frecuencia es similar a la que obtendríamos eligiendo letras al azar.\n",
    "    frac.append((ES-1/26)/(sum(indco)/len(indco)-1/26))"
   ]
  },
  {
   "cell_type": "code",
   "execution_count": 31,
   "metadata": {},
   "outputs": [],
   "source": [
    "def graf_barras(data):\n",
    "    fig, ax = plt.subplots()\n",
    "    ax.bar(range(3,20), data, color='lime')\n",
    "    ax.set_title('Comparación de distintas longitudes de clave')\n",
    "    ax.set_xlabel('Longitud de clave')"
   ]
  },
  {
   "cell_type": "code",
   "execution_count": 32,
   "metadata": {},
   "outputs": [
    {
     "data": {
      "image/png": "[encoded data removed]",
      "text/plain": [
       "<Figure size 432x288 with 1 Axes>"
      ]
     },
     "metadata": {},
     "output_type": "display_data"
    }
   ],
   "source": [
    "graf_barras(frac)"
   ]
  },
  {
   "cell_type": "markdown",
   "metadata": {},
   "source": [
    "Los candidatos más probables para la longitud de clave con el test Friedman son 7 y 14. Como el 7 es un valor que se repite en ambos test, probaremos con este valor. De hecho, 14 es múltiplo de 7, por lo que tiene sentido que si la clave tiene longitud 7, con 14 obtengamos un cociente cercano a 1."
   ]
  },
  {
   "cell_type": "markdown",
   "metadata": {},
   "source": [
    "#### Hallamos la clave"
   ]
  },
  {
   "cell_type": "code",
   "execution_count": 33,
   "metadata": {},
   "outputs": [],
   "source": [
    "# Dividimos el texto en bloques de longitud 7.\n",
    "keyLen=7\n",
    "blocks=get_blocks(text,keyLen)\n",
    "columns=get_columns(blocks)"
   ]
  },
  {
   "cell_type": "markdown",
   "metadata": {},
   "source": [
    "##### Método del artículo\n",
    "https://www.researchgate.net/publication/221581427_An_Interactive_Cryptanalysis_Algorithm_for_the_Vigenere_Cipher\n",
    "\n",
    "Se basa en comparar las frecuencias relativas con las del idioma.\n",
    "Hay diferencia entre las frecuencias relativas entre inglés y español, pero son similares si comparamos con la frecuencia que presentaría un texto aleatorio, por lo que no necesitamos conocer cuál de los dos lenguajes es a priori."
   ]
  },
  {
   "cell_type": "code",
   "execution_count": 34,
   "metadata": {},
   "outputs": [],
   "source": [
    "EN_REL_FREQ = {'A': 0.08167, 'B': 0.01492, 'C': 0.02782, 'D': 0.04253, 'E': 0.12702, 'F': 0.02228, 'G': 0.02015,\n",
    "               'H': 0.06094, 'I': 0.06966, 'J': 0.00153, 'K': 0.00772, 'L': 0.04025, 'M': 0.02406, 'N': 0.06749,\n",
    "               'O': 0.07507, 'P': 0.01929, 'Q': 0.00095, 'R': 0.05987, 'S': 0.06327, 'T': 0.09056, 'U': 0.02758,\n",
    "               'V': 0.00978, 'W': 0.02360, 'X': 0.00150, 'Y': 0.01974, 'Z': 0.00074}"
   ]
  },
  {
   "cell_type": "code",
   "execution_count": 35,
   "metadata": {},
   "outputs": [],
   "source": [
    "# Desplaza una cadena sumandole la misma cantidad a cada caracter\n",
    "def shift(text, amount):\n",
    "    shifted = ''\n",
    "    letters = string.ascii_uppercase\n",
    "    for letter in text:\n",
    "        shifted += letters[(letters.index(letter)+amount) % len(letters)]\n",
    "    return shifted"
   ]
  },
  {
   "cell_type": "code",
   "execution_count": 36,
   "metadata": {},
   "outputs": [],
   "source": [
    "# Calcula el índice de coincidencia mutuo\n",
    "def MIC(s):\n",
    "    n = len(s)\n",
    "    F = Counter(list(s))\n",
    "    return sum([EN_REL_FREQ[c]*F[c] for c in string.ascii_uppercase])/n"
   ]
  },
  {
   "cell_type": "code",
   "execution_count": 37,
   "metadata": {},
   "outputs": [
    {
     "data": {
      "text/plain": [
       "{(0, 0): 0.0338986,\n",
       " (0, 1): 0.03622446666666667,\n",
       " (0, 2): 0.04238366666666666,\n",
       " (0, 3): 0.03611046666666667,\n",
       " (0, 4): 0.03895613333333332,\n",
       " (0, 5): 0.032792133333333334,\n",
       " (0, 6): 0.031918600000000005,\n",
       " (0, 7): 0.033161333333333334,\n",
       " (0, 8): 0.040211266666666655,\n",
       " (0, 9): 0.041177666666666675,\n",
       " (0, 10): 0.036285399999999995,\n",
       " (0, 11): 0.0393304,\n",
       " (0, 12): 0.0404108,\n",
       " (0, 13): 0.04324566666666667,\n",
       " (0, 14): 0.04009186666666668,\n",
       " (0, 15): 0.03573226666666667,\n",
       " (0, 16): 0.0377198,\n",
       " (0, 17): 0.04114573333333333,\n",
       " (0, 18): 0.03715886666666667,\n",
       " (0, 19): 0.031382933333333335,\n",
       " (0, 20): 0.0458984,\n",
       " (0, 21): 0.0308954,\n",
       " (0, 22): 0.03149420000000001,\n",
       " (0, 23): 0.04414006666666667,\n",
       " (0, 24): 0.06178473333333333,\n",
       " (0, 25): 0.03643913333333333,\n",
       " (1, 0): 0.0660501333333333,\n",
       " (1, 1): 0.036821799999999995,\n",
       " (1, 2): 0.035615266666666666,\n",
       " (1, 3): 0.039210600000000005,\n",
       " (1, 4): 0.041167,\n",
       " (1, 5): 0.034436400000000006,\n",
       " (1, 6): 0.034625800000000005,\n",
       " (1, 7): 0.035881666666666666,\n",
       " (1, 8): 0.030162,\n",
       " (1, 9): 0.035538733333333336,\n",
       " (1, 10): 0.0409844,\n",
       " (1, 11): 0.04156086666666666,\n",
       " (1, 12): 0.03540053333333334,\n",
       " (1, 13): 0.043523799999999994,\n",
       " (1, 14): 0.04304626666666667,\n",
       " (1, 15): 0.044724066666666666,\n",
       " (1, 16): 0.04063133333333334,\n",
       " (1, 17): 0.03188966666666668,\n",
       " (1, 18): 0.039200133333333324,\n",
       " (1, 19): 0.0343566,\n",
       " (1, 20): 0.037454,\n",
       " (1, 21): 0.028227933333333333,\n",
       " (1, 22): 0.04775206666666667,\n",
       " (1, 23): 0.028072466666666667,\n",
       " (1, 24): 0.032499466666666664,\n",
       " (1, 25): 0.041157000000000006,\n",
       " (2, 0): 0.040940466666666654,\n",
       " (2, 1): 0.042201400000000014,\n",
       " (2, 2): 0.0414702,\n",
       " (2, 3): 0.03386526666666667,\n",
       " (2, 4): 0.04227113333333332,\n",
       " (2, 5): 0.03934933333333332,\n",
       " (2, 6): 0.025948799999999998,\n",
       " (2, 7): 0.03850466666666667,\n",
       " (2, 8): 0.032730800000000004,\n",
       " (2, 9): 0.033625933333333344,\n",
       " (2, 10): 0.037646200000000005,\n",
       " (2, 11): 0.06270126666666664,\n",
       " (2, 12): 0.037813799999999995,\n",
       " (2, 13): 0.035028800000000006,\n",
       " (2, 14): 0.035198600000000003,\n",
       " (2, 15): 0.048694466666666665,\n",
       " (2, 16): 0.03779326666666666,\n",
       " (2, 17): 0.03832493333333333,\n",
       " (2, 18): 0.032943400000000005,\n",
       " (2, 19): 0.03263753333333333,\n",
       " (2, 20): 0.0324074,\n",
       " (2, 21): 0.0395582,\n",
       " (2, 22): 0.039038800000000005,\n",
       " (2, 23): 0.03368813333333333,\n",
       " (2, 24): 0.045574800000000006,\n",
       " (2, 25): 0.040032399999999996,\n",
       " (3, 0): 0.035599,\n",
       " (3, 1): 0.03500433333333333,\n",
       " (3, 2): 0.03870173333333333,\n",
       " (3, 3): 0.039393,\n",
       " (3, 4): 0.03117726666666667,\n",
       " (3, 5): 0.0444892,\n",
       " (3, 6): 0.042531066666666666,\n",
       " (3, 7): 0.04543786666666667,\n",
       " (3, 8): 0.035292000000000004,\n",
       " (3, 9): 0.036348399999999996,\n",
       " (3, 10): 0.0380598,\n",
       " (3, 11): 0.04344506666666667,\n",
       " (3, 12): 0.03505586666666667,\n",
       " (3, 13): 0.029138999999999998,\n",
       " (3, 14): 0.046508400000000005,\n",
       " (3, 15): 0.03033946666666667,\n",
       " (3, 16): 0.030113266666666673,\n",
       " (3, 17): 0.036804533333333334,\n",
       " (3, 18): 0.06508246666666667,\n",
       " (3, 19): 0.03741933333333333,\n",
       " (3, 20): 0.0369134,\n",
       " (3, 21): 0.036062133333333336,\n",
       " (3, 22): 0.04563693333333334,\n",
       " (3, 23): 0.0312844,\n",
       " (3, 24): 0.03663026666666667,\n",
       " (3, 25): 0.0375218,\n",
       " (4, 0): 0.037479266666666664,\n",
       " (4, 1): 0.036683,\n",
       " (4, 2): 0.03045673333333334,\n",
       " (4, 3): 0.04632260000000001,\n",
       " (4, 4): 0.02772973333333334,\n",
       " (4, 5): 0.027756466666666674,\n",
       " (4, 6): 0.039323333333333335,\n",
       " (4, 7): 0.06749026666666667,\n",
       " (4, 8): 0.042813,\n",
       " (4, 9): 0.03335993333333334,\n",
       " (4, 10): 0.03618206666666667,\n",
       " (4, 11): 0.0459802,\n",
       " (4, 12): 0.036355,\n",
       " (4, 13): 0.0341198,\n",
       " (4, 14): 0.0342062,\n",
       " (4, 15): 0.03603193333333333,\n",
       " (4, 16): 0.03230926666666666,\n",
       " (4, 17): 0.03627073333333333,\n",
       " (4, 18): 0.03911626666666666,\n",
       " (4, 19): 0.037570933333333334,\n",
       " (4, 20): 0.04115906666666666,\n",
       " (4, 21): 0.04050893333333333,\n",
       " (4, 22): 0.046622399999999994,\n",
       " (4, 23): 0.0448148,\n",
       " (4, 24): 0.03438186666666667,\n",
       " (4, 25): 0.034946200000000004,\n",
       " (5, 0): 0.06595453333333336,\n",
       " (5, 1): 0.04416526666666666,\n",
       " (5, 2): 0.03336266666666667,\n",
       " (5, 3): 0.0365032,\n",
       " (5, 4): 0.05320593333333332,\n",
       " (5, 5): 0.034333466666666666,\n",
       " (5, 6): 0.03387333333333334,\n",
       " (5, 7): 0.032387266666666685,\n",
       " (5, 8): 0.03430520000000001,\n",
       " (5, 9): 0.028749599999999997,\n",
       " (5, 10): 0.03536713333333333,\n",
       " (5, 11): 0.03510466666666667,\n",
       " (5, 12): 0.03391073333333334,\n",
       " (5, 13): 0.04594133333333333,\n",
       " (5, 14): 0.04558993333333333,\n",
       " (5, 15): 0.04652500000000002,\n",
       " (5, 16): 0.043801,\n",
       " (5, 17): 0.041190399999999995,\n",
       " (5, 18): 0.0357142,\n",
       " (5, 19): 0.03913613333333334,\n",
       " (5, 20): 0.03517013333333334,\n",
       " (5, 21): 0.029336733333333337,\n",
       " (5, 22): 0.0416242,\n",
       " (5, 23): 0.028590733333333337,\n",
       " (5, 24): 0.029065933333333335,\n",
       " (5, 25): 0.03708126666666666,\n",
       " (6, 0): 0.040547599999999996,\n",
       " (6, 1): 0.045452333333333324,\n",
       " (6, 2): 0.0472812,\n",
       " (6, 3): 0.03879806666666666,\n",
       " (6, 4): 0.037664800000000005,\n",
       " (6, 5): 0.038699,\n",
       " (6, 6): 0.04342886666666667,\n",
       " (6, 7): 0.03400226666666666,\n",
       " (6, 8): 0.026674599999999996,\n",
       " (6, 9): 0.043070800000000006,\n",
       " (6, 10): 0.028518266666666663,\n",
       " (6, 11): 0.030956600000000004,\n",
       " (6, 12): 0.0385192,\n",
       " (6, 13): 0.06236426666666667,\n",
       " (6, 14): 0.03821959999999999,\n",
       " (6, 15): 0.03919513333333334,\n",
       " (6, 16): 0.036770000000000004,\n",
       " (6, 17): 0.04807086666666666,\n",
       " (6, 18): 0.031218333333333324,\n",
       " (6, 19): 0.03557886666666666,\n",
       " (6, 20): 0.0339968,\n",
       " (6, 21): 0.0348494,\n",
       " (6, 22): 0.030657133333333336,\n",
       " (6, 23): 0.04001873333333333,\n",
       " (6, 24): 0.04099433333333332,\n",
       " (6, 25): 0.03444293333333333}"
      ]
     },
     "execution_count": 37,
     "metadata": {},
     "output_type": "execute_result"
    }
   ],
   "source": [
    "# Metemos en un diccionario los MIC de cada columna con cada shifted\n",
    "mutIndCo={}\n",
    "for i in range(keyLen):\n",
    "    for sigma in range(26):\n",
    "        mutIndCo[(i,sigma)]=MIC(shift(columns[i],sigma))\n",
    "mutIndCo"
   ]
  },
  {
   "cell_type": "code",
   "execution_count": 38,
   "metadata": {
    "scrolled": true
   },
   "outputs": [
    {
     "data": {
      "text/plain": [
       "[24, 0, 11, 18, 7, 0, 13]"
      ]
     },
     "execution_count": 38,
     "metadata": {},
     "output_type": "execute_result"
    }
   ],
   "source": [
    "# Calculamos el shift con mayor MIC de cada columna\n",
    "sigma=[]\n",
    "for i in range(keyLen):\n",
    "    maximo = mutIndCo[(i,0)]\n",
    "    sigmax = 0\n",
    "    for s in range(1,26):\n",
    "        if mutIndCo[(i,s)] > maximo:\n",
    "            maximo = mutIndCo[(i,s)]\n",
    "            sigmax = s\n",
    "    sigma.append((sigmax)%26)\n",
    "sigma"
   ]
  },
  {
   "cell_type": "markdown",
   "metadata": {},
   "source": [
    "Sumando estos valores al texto cifrado, se obtiene un texto con mayor MIC. Por tanto, parece que el mensaje se ha encriptado la clave \"opuesta\", es decir, la que obtenemos cambiando el signo a los valores (en módulo 26) y sustituyéndolos por los caracteres correspondientes."
   ]
  },
  {
   "cell_type": "code",
   "execution_count": 39,
   "metadata": {},
   "outputs": [
    {
     "data": {
      "text/plain": [
       "[2, 0, 15, 8, 19, 0, 13]"
      ]
     },
     "execution_count": 39,
     "metadata": {},
     "output_type": "execute_result"
    }
   ],
   "source": [
    "key_val=[-s%26 for s in sigma]\n",
    "key_val"
   ]
  },
  {
   "cell_type": "code",
   "execution_count": 40,
   "metadata": {},
   "outputs": [],
   "source": [
    "# Utilizamos el método que hemos implementado en la clase Vigenère para obtener los caracteres\n",
    "vig = Vigenere(string.ascii_uppercase)"
   ]
  },
  {
   "cell_type": "code",
   "execution_count": 41,
   "metadata": {},
   "outputs": [
    {
     "data": {
      "text/plain": [
       "'CAPITAN'"
      ]
     },
     "execution_count": 41,
     "metadata": {},
     "output_type": "execute_result"
    }
   ],
   "source": [
    "key = ''.join(list(map(vig.getCharacter, key_val)))\n",
    "key # Obtenemos la clave"
   ]
  },
  {
   "cell_type": "code",
   "execution_count": 42,
   "metadata": {},
   "outputs": [
    {
     "name": "stdout",
     "output_type": "stream",
     "text": [
      "SENORDIJOELCAPITANNEMOMOSTRANDOMELOSINSTRUMENTOSCOLGADOSDELASPAREDESDESUCAMAROTEHEAQUILOSAPARATOSEXIGIDOSPORLANAVEGACIONDELNAUTILUSALIGUALQUEENELSALONLOSTENGOAQUIBAJOMISOJOSINDICANDOMEMISITUACIONYMIDIRECCIONEXACTASENMEDIODELOCEANOALGUNOSDEELLOSLESONCONOCIDOSCOMOELTERMOMETROQUEMARCALATEMPERATURAINTERIORDELNAUTILUSELBAROMETROQUEPESAELAIREYPREDICELOSCAMBIOSDETIEMPOELHIGROMETROQUEREGISTRAELGRADODESEQUEDADDELAATMOSFERAELSTORMGLASSCUYAMEZCLAALDESCOMPONERSEANUNCIALAINMINENCIADELASTEMPESTADESLABRUJULAQUEDIRIGEMIRUTAELSEXTANTEQUEPORLAALTURADELSOLMEINDICAMILATITUDLOSCRONOMETROSQUEMEPERMITENCALCULARMILONGITUDYPORULTIMOMISANTEOJOSDEDIAYDENOCHEQUEMESIRVENPARAESCRUTARTODOSLOSPUNTOSDELHORIZONTECUANDOELNAUTILUSEMERGEALASUPERFICIEDELASAGUASSONLOSINSTRUMENTOSHABITUALESDELNAVEGANTEYSUUSOMEESCONOCIDOREPUSEPEROHAYOTROSAQUIQUERESPONDENSINDUDAALASPARTICULARESEXIGENCIASDELNAUTILUSESECUADRANTEQUEVEORECORRIDOPORUNAAGUJAINMOVILNOESUNMANOMETROESUNMANOMETROENEFECTOPUESTOENCOMUNICACIONCONELAGUACUYAPRESIONEXTERIORINDICADATAMBIENLAPROFUNDIDADALAQUESEMANTIENEMIAPARATO\n"
     ]
    }
   ],
   "source": [
    "vig.key = key # Desciframos el mensaje utilizando la clave\n",
    "print(vig.decipher(text))"
   ]
  },
  {
   "cell_type": "markdown",
   "metadata": {},
   "source": [
    "##### Método del libro An Introduction to Mathematical Cryptography\n",
    "Se basa en comparar las frecuencias relativas entre las columnas, lo que permite conocer el resto de caracteres de la clave a partir de uno dado. Luego, sólo tendremos que probar 26 posibles claves."
   ]
  },
  {
   "cell_type": "code",
   "execution_count": 43,
   "metadata": {},
   "outputs": [],
   "source": [
    "# Desplaza una cadena sumandole la misma cantidad a cada caracter\n",
    "def shift(text, amount):\n",
    "    shifted = ''\n",
    "    letters = string.ascii_uppercase\n",
    "    for letter in text:\n",
    "        shifted += letters[(letters.index(letter)+amount) % len(letters)]\n",
    "    return shifted"
   ]
  },
  {
   "cell_type": "code",
   "execution_count": 44,
   "metadata": {},
   "outputs": [],
   "source": [
    "def corr(a,b): # Correlación de las frecuencas entre dos cadenas\n",
    "    s=0\n",
    "    for letter in string.ascii_uppercase:\n",
    "        s+=a.count(letter)*b.count(letter)\n",
    "    return s/(len(a)*len(b))"
   ]
  },
  {
   "cell_type": "code",
   "execution_count": 45,
   "metadata": {},
   "outputs": [],
   "source": [
    "mutIndCo={} # Comparamos cada cadena con el resto, desplazadas con los 26 posibles desplazamientos\n",
    "for i in range(keyLen):\n",
    "    for j in range(i+1,keyLen):\n",
    "        for sigma in range(26):\n",
    "            mutIndCo[(i,j,sigma)]=corr(columns[i],shift(columns[j],sigma))"
   ]
  },
  {
   "cell_type": "code",
   "execution_count": 46,
   "metadata": {
    "scrolled": true
   },
   "outputs": [
    {
     "data": {
      "text/plain": [
       "{(0, 1, 0): 0.035111111111111114,\n",
       " (0, 1, 1): 0.03693333333333333,\n",
       " (0, 1, 2): 0.06848888888888889,\n",
       " (0, 1, 3): 0.038622222222222224,\n",
       " (0, 1, 4): 0.03546666666666667,\n",
       " (0, 1, 5): 0.03475555555555555,\n",
       " (0, 1, 6): 0.04391111111111111,\n",
       " (0, 1, 7): 0.030355555555555556,\n",
       " (0, 1, 8): 0.037333333333333336,\n",
       " (0, 1, 9): 0.036444444444444446,\n",
       " (0, 1, 10): 0.03542222222222222,\n",
       " (0, 1, 11): 0.03746666666666667,\n",
       " (0, 1, 12): 0.04351111111111111,\n",
       " (0, 1, 13): 0.03986666666666667,\n",
       " (0, 1, 14): 0.04008888888888889,\n",
       " (0, 1, 15): 0.03528888888888889,\n",
       " (0, 1, 16): 0.042977777777777774,\n",
       " (0, 1, 17): 0.03902222222222222,\n",
       " (0, 1, 18): 0.04195555555555556,\n",
       " (0, 1, 19): 0.03244444444444444,\n",
       " (0, 1, 20): 0.03591111111111111,\n",
       " (0, 1, 21): 0.028844444444444443,\n",
       " (0, 1, 22): 0.04208888888888889,\n",
       " (0, 1, 23): 0.029955555555555555,\n",
       " (0, 1, 24): 0.045733333333333334,\n",
       " (0, 1, 25): 0.032,\n",
       " (0, 2, 0): 0.03617777777777778,\n",
       " (0, 2, 1): 0.04448888888888889,\n",
       " (0, 2, 2): 0.037866666666666667,\n",
       " (0, 2, 3): 0.03875555555555556,\n",
       " (0, 2, 4): 0.0428,\n",
       " (0, 2, 5): 0.03311111111111111,\n",
       " (0, 2, 6): 0.030577777777777777,\n",
       " (0, 2, 7): 0.04608888888888889,\n",
       " (0, 2, 8): 0.029111111111111112,\n",
       " (0, 2, 9): 0.032933333333333335,\n",
       " (0, 2, 10): 0.037333333333333336,\n",
       " (0, 2, 11): 0.035777777777777776,\n",
       " (0, 2, 12): 0.03431111111111111,\n",
       " (0, 2, 13): 0.06804444444444445,\n",
       " (0, 2, 14): 0.039377777777777775,\n",
       " (0, 2, 15): 0.034355555555555556,\n",
       " (0, 2, 16): 0.03431111111111111,\n",
       " (0, 2, 17): 0.04591111111111111,\n",
       " (0, 2, 18): 0.0348,\n",
       " (0, 2, 19): 0.041777777777777775,\n",
       " (0, 2, 20): 0.03191111111111111,\n",
       " (0, 2, 21): 0.037644444444444446,\n",
       " (0, 2, 22): 0.03591111111111111,\n",
       " (0, 2, 23): 0.038,\n",
       " (0, 2, 24): 0.03995555555555556,\n",
       " (0, 2, 25): 0.03866666666666667,\n",
       " (0, 3, 0): 0.0368,\n",
       " (0, 3, 1): 0.03582222222222222,\n",
       " (0, 3, 2): 0.04173333333333333,\n",
       " (0, 3, 3): 0.03831111111111111,\n",
       " (0, 3, 4): 0.038933333333333334,\n",
       " (0, 3, 5): 0.03897777777777778,\n",
       " (0, 3, 6): 0.03426666666666667,\n",
       " (0, 3, 7): 0.03613333333333334,\n",
       " (0, 3, 8): 0.04368888888888889,\n",
       " (0, 3, 9): 0.03991111111111111,\n",
       " (0, 3, 10): 0.03728888888888889,\n",
       " (0, 3, 11): 0.037644444444444446,\n",
       " (0, 3, 12): 0.035555555555555556,\n",
       " (0, 3, 13): 0.0352,\n",
       " (0, 3, 14): 0.040577777777777775,\n",
       " (0, 3, 15): 0.029955555555555555,\n",
       " (0, 3, 16): 0.04226666666666667,\n",
       " (0, 3, 17): 0.035644444444444444,\n",
       " (0, 3, 18): 0.031733333333333336,\n",
       " (0, 3, 19): 0.03462222222222222,\n",
       " (0, 3, 20): 0.06804444444444445,\n",
       " (0, 3, 21): 0.03933333333333333,\n",
       " (0, 3, 22): 0.037333333333333336,\n",
       " (0, 3, 23): 0.03475555555555555,\n",
       " (0, 3, 24): 0.04555555555555556,\n",
       " (0, 3, 25): 0.02991111111111111,\n",
       " (0, 4, 0): 0.03573333333333333,\n",
       " (0, 4, 1): 0.030133333333333335,\n",
       " (0, 4, 2): 0.028622222222222223,\n",
       " (0, 4, 3): 0.04111111111111111,\n",
       " (0, 4, 4): 0.03133333333333333,\n",
       " (0, 4, 5): 0.04346666666666667,\n",
       " (0, 4, 6): 0.032933333333333335,\n",
       " (0, 4, 7): 0.03088888888888889,\n",
       " (0, 4, 8): 0.0364,\n",
       " (0, 4, 9): 0.07057777777777778,\n",
       " (0, 4, 10): 0.04257777777777778,\n",
       " (0, 4, 11): 0.036844444444444444,\n",
       " (0, 4, 12): 0.03342222222222222,\n",
       " (0, 4, 13): 0.04502222222222222,\n",
       " (0, 4, 14): 0.034444444444444444,\n",
       " (0, 4, 15): 0.036755555555555555,\n",
       " (0, 4, 16): 0.03475555555555555,\n",
       " (0, 4, 17): 0.04106666666666667,\n",
       " (0, 4, 18): 0.0352,\n",
       " (0, 4, 19): 0.038177777777777776,\n",
       " (0, 4, 20): 0.039155555555555555,\n",
       " (0, 4, 21): 0.041466666666666666,\n",
       " (0, 4, 22): 0.033022222222222224,\n",
       " (0, 4, 23): 0.04084444444444445,\n",
       " (0, 4, 24): 0.039733333333333336,\n",
       " (0, 4, 25): 0.04631111111111111,\n",
       " (0, 5, 0): 0.0348,\n",
       " (0, 5, 1): 0.0384,\n",
       " (0, 5, 2): 0.06937777777777777,\n",
       " (0, 5, 3): 0.04395555555555555,\n",
       " (0, 5, 4): 0.03791111111111111,\n",
       " (0, 5, 5): 0.03288888888888889,\n",
       " (0, 5, 6): 0.050444444444444445,\n",
       " (0, 5, 7): 0.034888888888888886,\n",
       " (0, 5, 8): 0.032044444444444445,\n",
       " (0, 5, 9): 0.031066666666666666,\n",
       " (0, 5, 10): 0.040577777777777775,\n",
       " (0, 5, 11): 0.028133333333333333,\n",
       " (0, 5, 12): 0.03551111111111111,\n",
       " (0, 5, 13): 0.036222222222222225,\n",
       " (0, 5, 14): 0.036088888888888886,\n",
       " (0, 5, 15): 0.037644444444444446,\n",
       " (0, 5, 16): 0.04675555555555556,\n",
       " (0, 5, 17): 0.038933333333333334,\n",
       " (0, 5, 18): 0.04457777777777778,\n",
       " (0, 5, 19): 0.040355555555555554,\n",
       " (0, 5, 20): 0.0304,\n",
       " (0, 5, 21): 0.030355555555555556,\n",
       " (0, 5, 22): 0.0404,\n",
       " (0, 5, 23): 0.03213333333333333,\n",
       " (0, 5, 24): 0.042,\n",
       " (0, 5, 25): 0.034133333333333335,\n",
       " (0, 6, 0): 0.041466666666666666,\n",
       " (0, 6, 1): 0.03835555555555555,\n",
       " (0, 6, 2): 0.032044444444444445,\n",
       " (0, 6, 3): 0.04764444444444445,\n",
       " (0, 6, 4): 0.041244444444444445,\n",
       " (0, 6, 5): 0.040711111111111115,\n",
       " (0, 6, 6): 0.03844444444444445,\n",
       " (0, 6, 7): 0.03835555555555555,\n",
       " (0, 6, 8): 0.03573333333333333,\n",
       " (0, 6, 9): 0.042133333333333335,\n",
       " (0, 6, 10): 0.027644444444444444,\n",
       " (0, 6, 11): 0.04031111111111111,\n",
       " (0, 6, 12): 0.03484444444444444,\n",
       " (0, 6, 13): 0.03342222222222222,\n",
       " (0, 6, 14): 0.03582222222222222,\n",
       " (0, 6, 15): 0.0684,\n",
       " (0, 6, 16): 0.038,\n",
       " (0, 6, 17): 0.039466666666666664,\n",
       " (0, 6, 18): 0.033777777777777775,\n",
       " (0, 6, 19): 0.04426666666666667,\n",
       " (0, 6, 20): 0.02831111111111111,\n",
       " (0, 6, 21): 0.03657777777777778,\n",
       " (0, 6, 22): 0.028755555555555555,\n",
       " (0, 6, 23): 0.04084444444444445,\n",
       " (0, 6, 24): 0.034133333333333335,\n",
       " (0, 6, 25): 0.03928888888888889,\n",
       " (1, 2, 0): 0.03835555555555555,\n",
       " (1, 2, 1): 0.044533333333333334,\n",
       " (1, 2, 2): 0.045066666666666665,\n",
       " (1, 2, 3): 0.032,\n",
       " (1, 2, 4): 0.03506666666666667,\n",
       " (1, 2, 5): 0.0384,\n",
       " (1, 2, 6): 0.028,\n",
       " (1, 2, 7): 0.03311111111111111,\n",
       " (1, 2, 8): 0.03648888888888889,\n",
       " (1, 2, 9): 0.03768888888888889,\n",
       " (1, 2, 10): 0.033555555555555554,\n",
       " (1, 2, 11): 0.06862222222222222,\n",
       " (1, 2, 12): 0.03857777777777778,\n",
       " (1, 2, 13): 0.0368,\n",
       " (1, 2, 14): 0.031244444444444443,\n",
       " (1, 2, 15): 0.05191111111111111,\n",
       " (1, 2, 16): 0.030711111111111113,\n",
       " (1, 2, 17): 0.04217777777777778,\n",
       " (1, 2, 18): 0.026266666666666667,\n",
       " (1, 2, 19): 0.03782222222222222,\n",
       " (1, 2, 20): 0.02991111111111111,\n",
       " (1, 2, 21): 0.042,\n",
       " (1, 2, 22): 0.0376,\n",
       " (1, 2, 23): 0.0396,\n",
       " (1, 2, 24): 0.041155555555555556,\n",
       " (1, 2, 25): 0.043333333333333335,\n",
       " (1, 3, 0): 0.04271111111111111,\n",
       " (1, 3, 1): 0.03266666666666666,\n",
       " (1, 3, 2): 0.041022222222222224,\n",
       " (1, 3, 3): 0.03755555555555556,\n",
       " (1, 3, 4): 0.037644444444444446,\n",
       " (1, 3, 5): 0.04097777777777778,\n",
       " (1, 3, 6): 0.04262222222222222,\n",
       " (1, 3, 7): 0.04164444444444444,\n",
       " (1, 3, 8): 0.038844444444444445,\n",
       " (1, 3, 9): 0.03991111111111111,\n",
       " (1, 3, 10): 0.0348,\n",
       " (1, 3, 11): 0.04088888888888889,\n",
       " (1, 3, 12): 0.034,\n",
       " (1, 3, 13): 0.02897777777777778,\n",
       " (1, 3, 14): 0.0408,\n",
       " (1, 3, 15): 0.03515555555555556,\n",
       " (1, 3, 16): 0.03306666666666667,\n",
       " (1, 3, 17): 0.03408888888888889,\n",
       " (1, 3, 18): 0.07137777777777778,\n",
       " (1, 3, 19): 0.03768888888888889,\n",
       " (1, 3, 20): 0.03804444444444444,\n",
       " (1, 3, 21): 0.029155555555555556,\n",
       " (1, 3, 22): 0.050977777777777775,\n",
       " (1, 3, 23): 0.025555555555555557,\n",
       " (1, 3, 24): 0.03968888888888889,\n",
       " (1, 3, 25): 0.030133333333333335,\n",
       " (1, 4, 0): 0.032355555555555554,\n",
       " (1, 4, 1): 0.03617777777777778,\n",
       " (1, 4, 2): 0.029022222222222224,\n",
       " (1, 4, 3): 0.04284444444444444,\n",
       " (1, 4, 4): 0.0304,\n",
       " (1, 4, 5): 0.03471111111111111,\n",
       " (1, 4, 6): 0.03462222222222222,\n",
       " (1, 4, 7): 0.07471111111111112,\n",
       " (1, 4, 8): 0.041244444444444445,\n",
       " (1, 4, 9): 0.03728888888888889,\n",
       " (1, 4, 10): 0.029822222222222222,\n",
       " (1, 4, 11): 0.048355555555555554,\n",
       " (1, 4, 12): 0.03062222222222222,\n",
       " (1, 4, 13): 0.037333333333333336,\n",
       " (1, 4, 14): 0.02871111111111111,\n",
       " (1, 4, 15): 0.04088888888888889,\n",
       " (1, 4, 16): 0.030133333333333335,\n",
       " (1, 4, 17): 0.03746666666666667,\n",
       " (1, 4, 18): 0.03844444444444445,\n",
       " (1, 4, 19): 0.045066666666666665,\n",
       " (1, 4, 20): 0.03933333333333333,\n",
       " (1, 4, 21): 0.041022222222222224,\n",
       " (1, 4, 22): 0.04066666666666666,\n",
       " (1, 4, 23): 0.05031111111111111,\n",
       " (1, 4, 24): 0.03702222222222222,\n",
       " (1, 4, 25): 0.03142222222222222,\n",
       " (1, 5, 0): 0.0712,\n",
       " (1, 5, 1): 0.0448,\n",
       " (1, 5, 2): 0.03711111111111111,\n",
       " (1, 5, 3): 0.030533333333333332,\n",
       " (1, 5, 4): 0.0568,\n",
       " (1, 5, 5): 0.029733333333333334,\n",
       " (1, 5, 6): 0.03493333333333333,\n",
       " (1, 5, 7): 0.0252,\n",
       " (1, 5, 8): 0.03955555555555555,\n",
       " (1, 5, 9): 0.02431111111111111,\n",
       " (1, 5, 10): 0.03631111111111111,\n",
       " (1, 5, 11): 0.0344,\n",
       " (1, 5, 12): 0.0428,\n",
       " (1, 5, 13): 0.042444444444444444,\n",
       " (1, 5, 14): 0.04995555555555556,\n",
       " (1, 5, 15): 0.04097777777777778,\n",
       " (1, 5, 16): 0.04862222222222222,\n",
       " (1, 5, 17): 0.044311111111111114,\n",
       " (1, 5, 18): 0.03031111111111111,\n",
       " (1, 5, 19): 0.03306666666666667,\n",
       " (1, 5, 20): 0.03404444444444445,\n",
       " (1, 5, 21): 0.02822222222222222,\n",
       " (1, 5, 22): 0.03866666666666667,\n",
       " (1, 5, 23): 0.030666666666666665,\n",
       " (1, 5, 24): 0.034888888888888886,\n",
       " (1, 5, 25): 0.03613333333333334,\n",
       " (1, 6, 0): 0.034666666666666665,\n",
       " (1, 6, 1): 0.04817777777777778,\n",
       " (1, 6, 2): 0.043111111111111114,\n",
       " (1, 6, 3): 0.043244444444444446,\n",
       " (1, 6, 4): 0.039466666666666664,\n",
       " (1, 6, 5): 0.03688888888888889,\n",
       " (1, 6, 6): 0.038266666666666664,\n",
       " (1, 6, 7): 0.035244444444444446,\n",
       " (1, 6, 8): 0.023733333333333332,\n",
       " (1, 6, 9): 0.03911111111111111,\n",
       " (1, 6, 10): 0.03266666666666666,\n",
       " (1, 6, 11): 0.034133333333333335,\n",
       " (1, 6, 12): 0.036088888888888886,\n",
       " (1, 6, 13): 0.06982222222222222,\n",
       " (1, 6, 14): 0.039155555555555555,\n",
       " (1, 6, 15): 0.0424,\n",
       " (1, 6, 16): 0.029022222222222224,\n",
       " (1, 6, 17): 0.05226666666666667,\n",
       " (1, 6, 18): 0.024,\n",
       " (1, 6, 19): 0.03875555555555556,\n",
       " (1, 6, 20): 0.02528888888888889,\n",
       " (1, 6, 21): 0.041022222222222224,\n",
       " (1, 6, 22): 0.029155555555555556,\n",
       " (1, 6, 23): 0.04262222222222222,\n",
       " (1, 6, 24): 0.038177777777777776,\n",
       " (1, 6, 25): 0.04351111111111111,\n",
       " (2, 3, 0): 0.033466666666666665,\n",
       " (2, 3, 1): 0.040355555555555554,\n",
       " (2, 3, 2): 0.03017777777777778,\n",
       " (2, 3, 3): 0.047822222222222224,\n",
       " (2, 3, 4): 0.0336,\n",
       " (2, 3, 5): 0.032355555555555554,\n",
       " (2, 3, 6): 0.03471111111111111,\n",
       " (2, 3, 7): 0.07057777777777778,\n",
       " (2, 3, 8): 0.0332,\n",
       " (2, 3, 9): 0.04053333333333333,\n",
       " (2, 3, 10): 0.037066666666666664,\n",
       " (2, 3, 11): 0.03711111111111111,\n",
       " (2, 3, 12): 0.02551111111111111,\n",
       " (2, 3, 13): 0.03977777777777778,\n",
       " (2, 3, 14): 0.03311111111111111,\n",
       " (2, 3, 15): 0.03657777777777778,\n",
       " (2, 3, 16): 0.04591111111111111,\n",
       " (2, 3, 17): 0.04,\n",
       " (2, 3, 18): 0.03813333333333333,\n",
       " (2, 3, 19): 0.035244444444444446,\n",
       " (2, 3, 20): 0.042755555555555554,\n",
       " (2, 3, 21): 0.04137777777777778,\n",
       " (2, 3, 22): 0.04,\n",
       " (2, 3, 23): 0.03688888888888889,\n",
       " (2, 3, 24): 0.03857777777777778,\n",
       " (2, 3, 25): 0.03515555555555556,\n",
       " (2, 4, 0): 0.035022222222222225,\n",
       " (2, 4, 1): 0.028044444444444445,\n",
       " (2, 4, 2): 0.037333333333333336,\n",
       " (2, 4, 3): 0.03248888888888889,\n",
       " (2, 4, 4): 0.03804444444444444,\n",
       " (2, 4, 5): 0.04048888888888889,\n",
       " (2, 4, 6): 0.03942222222222222,\n",
       " (2, 4, 7): 0.03911111111111111,\n",
       " (2, 4, 8): 0.04382222222222222,\n",
       " (2, 4, 9): 0.03888888888888889,\n",
       " (2, 4, 10): 0.04062222222222222,\n",
       " (2, 4, 11): 0.03924444444444444,\n",
       " (2, 4, 12): 0.044977777777777776,\n",
       " (2, 4, 13): 0.03591111111111111,\n",
       " (2, 4, 14): 0.032044444444444445,\n",
       " (2, 4, 15): 0.026488888888888888,\n",
       " (2, 4, 16): 0.03924444444444444,\n",
       " (2, 4, 17): 0.032355555555555554,\n",
       " (2, 4, 18): 0.049777777777777775,\n",
       " (2, 4, 19): 0.03222222222222222,\n",
       " (2, 4, 20): 0.03191111111111111,\n",
       " (2, 4, 21): 0.03866666666666667,\n",
       " (2, 4, 22): 0.07177777777777777,\n",
       " (2, 4, 23): 0.03666666666666667,\n",
       " (2, 4, 24): 0.03866666666666667,\n",
       " (2, 4, 25): 0.036755555555555555,\n",
       " (2, 5, 0): 0.03808888888888889,\n",
       " (2, 5, 1): 0.03875555555555556,\n",
       " (2, 5, 2): 0.04755555555555555,\n",
       " (2, 5, 3): 0.04786666666666667,\n",
       " (2, 5, 4): 0.03777777777777778,\n",
       " (2, 5, 5): 0.04493333333333333,\n",
       " (2, 5, 6): 0.04182222222222222,\n",
       " (2, 5, 7): 0.026711111111111113,\n",
       " (2, 5, 8): 0.027911111111111112,\n",
       " (2, 5, 9): 0.037955555555555555,\n",
       " (2, 5, 10): 0.029111111111111112,\n",
       " (2, 5, 11): 0.04688888888888889,\n",
       " (2, 5, 12): 0.034,\n",
       " (2, 5, 13): 0.033688888888888886,\n",
       " (2, 5, 14): 0.03942222222222222,\n",
       " (2, 5, 15): 0.07342222222222222,\n",
       " (2, 5, 16): 0.03813333333333333,\n",
       " (2, 5, 17): 0.03808888888888889,\n",
       " (2, 5, 18): 0.03542222222222222,\n",
       " (2, 5, 19): 0.04204444444444445,\n",
       " (2, 5, 20): 0.02617777777777778,\n",
       " (2, 5, 21): 0.03382222222222222,\n",
       " (2, 5, 22): 0.0296,\n",
       " (2, 5, 23): 0.03688888888888889,\n",
       " (2, 5, 24): 0.03408888888888889,\n",
       " (2, 5, 25): 0.039822222222222224,\n",
       " (2, 6, 0): 0.0348,\n",
       " (2, 6, 1): 0.03657777777777778,\n",
       " (2, 6, 2): 0.0712,\n",
       " (2, 6, 3): 0.03382222222222222,\n",
       " (2, 6, 4): 0.04284444444444444,\n",
       " (2, 6, 5): 0.03595555555555555,\n",
       " (2, 6, 6): 0.036977777777777776,\n",
       " (2, 6, 7): 0.023555555555555555,\n",
       " (2, 6, 8): 0.04031111111111111,\n",
       " (2, 6, 9): 0.026755555555555557,\n",
       " (2, 6, 10): 0.036844444444444444,\n",
       " (2, 6, 11): 0.04128888888888889,\n",
       " (2, 6, 12): 0.041466666666666666,\n",
       " (2, 6, 13): 0.04253333333333333,\n",
       " (2, 6, 14): 0.04088888888888889,\n",
       " (2, 6, 15): 0.03791111111111111,\n",
       " (2, 6, 16): 0.046933333333333334,\n",
       " (2, 6, 17): 0.04008888888888889,\n",
       " (2, 6, 18): 0.03728888888888889,\n",
       " (2, 6, 19): 0.03924444444444444,\n",
       " (2, 6, 20): 0.03568888888888889,\n",
       " (2, 6, 21): 0.03177777777777778,\n",
       " (2, 6, 22): 0.04084444444444445,\n",
       " (2, 6, 23): 0.02728888888888889,\n",
       " (2, 6, 24): 0.04368888888888889,\n",
       " (2, 6, 25): 0.03342222222222222,\n",
       " (3, 4, 0): 0.03928888888888889,\n",
       " (3, 4, 1): 0.04697777777777778,\n",
       " (3, 4, 2): 0.03977777777777778,\n",
       " (3, 4, 3): 0.03568888888888889,\n",
       " (3, 4, 4): 0.039155555555555555,\n",
       " (3, 4, 5): 0.04466666666666667,\n",
       " (3, 4, 6): 0.03702222222222222,\n",
       " (3, 4, 7): 0.03591111111111111,\n",
       " (3, 4, 8): 0.03231111111111111,\n",
       " (3, 4, 9): 0.03871111111111111,\n",
       " (3, 4, 10): 0.02751111111111111,\n",
       " (3, 4, 11): 0.04555555555555556,\n",
       " (3, 4, 12): 0.03088888888888889,\n",
       " (3, 4, 13): 0.035022222222222225,\n",
       " (3, 4, 14): 0.037866666666666667,\n",
       " (3, 4, 15): 0.07364444444444444,\n",
       " (3, 4, 16): 0.03808888888888889,\n",
       " (3, 4, 17): 0.032577777777777775,\n",
       " (3, 4, 18): 0.03306666666666667,\n",
       " (3, 4, 19): 0.043244444444444446,\n",
       " (3, 4, 20): 0.030088888888888887,\n",
       " (3, 4, 21): 0.03395555555555556,\n",
       " (3, 4, 22): 0.03848888888888889,\n",
       " (3, 4, 23): 0.04271111111111111,\n",
       " (3, 4, 24): 0.03591111111111111,\n",
       " (3, 4, 25): 0.03186666666666667,\n",
       " (3, 5, 0): 0.03217777777777778,\n",
       " (3, 5, 1): 0.031822222222222224,\n",
       " (3, 5, 2): 0.036755555555555555,\n",
       " (3, 5, 3): 0.028355555555555554,\n",
       " (3, 5, 4): 0.04346666666666667,\n",
       " (3, 5, 5): 0.032577777777777775,\n",
       " (3, 5, 6): 0.03626666666666667,\n",
       " (3, 5, 7): 0.038,\n",
       " (3, 5, 8): 0.07395555555555555,\n",
       " (3, 5, 9): 0.037955555555555555,\n",
       " (3, 5, 10): 0.0324,\n",
       " (3, 5, 11): 0.03217777777777778,\n",
       " (3, 5, 12): 0.0508,\n",
       " (3, 5, 13): 0.029377777777777777,\n",
       " (3, 5, 14): 0.03213333333333333,\n",
       " (3, 5, 15): 0.03382222222222222,\n",
       " (3, 5, 16): 0.042,\n",
       " (3, 5, 17): 0.029955555555555555,\n",
       " (3, 5, 18): 0.031377777777777775,\n",
       " (3, 5, 19): 0.038,\n",
       " (3, 5, 20): 0.04284444444444444,\n",
       " (3, 5, 21): 0.04622222222222222,\n",
       " (3, 5, 22): 0.041688888888888886,\n",
       " (3, 5, 23): 0.038844444444444445,\n",
       " (3, 5, 24): 0.042977777777777774,\n",
       " (3, 5, 25): 0.04404444444444444,\n",
       " (3, 6, 0): 0.024,\n",
       " (3, 6, 1): 0.03662222222222222,\n",
       " (3, 6, 2): 0.032355555555555554,\n",
       " (3, 6, 3): 0.04066666666666666,\n",
       " (3, 6, 4): 0.037066666666666664,\n",
       " (3, 6, 5): 0.037955555555555555,\n",
       " (3, 6, 6): 0.04315555555555556,\n",
       " (3, 6, 7): 0.041155555555555556,\n",
       " (3, 6, 8): 0.03657777777777778,\n",
       " (3, 6, 9): 0.04084444444444445,\n",
       " (3, 6, 10): 0.042133333333333335,\n",
       " (3, 6, 11): 0.03737777777777778,\n",
       " (3, 6, 12): 0.04048888888888889,\n",
       " (3, 6, 13): 0.041777777777777775,\n",
       " (3, 6, 14): 0.037955555555555555,\n",
       " (3, 6, 15): 0.03595555555555555,\n",
       " (3, 6, 16): 0.024355555555555554,\n",
       " (3, 6, 17): 0.0424,\n",
       " (3, 6, 18): 0.03222222222222222,\n",
       " (3, 6, 19): 0.03595555555555555,\n",
       " (3, 6, 20): 0.03493333333333333,\n",
       " (3, 6, 21): 0.07351111111111111,\n",
       " (3, 6, 22): 0.035866666666666665,\n",
       " (3, 6, 23): 0.0376,\n",
       " (3, 6, 24): 0.0316,\n",
       " (3, 6, 25): 0.04546666666666667,\n",
       " (4, 5, 0): 0.024266666666666666,\n",
       " (4, 5, 1): 0.035555555555555556,\n",
       " (4, 5, 2): 0.028844444444444443,\n",
       " (4, 5, 3): 0.04022222222222222,\n",
       " (4, 5, 4): 0.036755555555555555,\n",
       " (4, 5, 5): 0.04075555555555556,\n",
       " (4, 5, 6): 0.043244444444444446,\n",
       " (4, 5, 7): 0.0536,\n",
       " (4, 5, 8): 0.039822222222222224,\n",
       " (4, 5, 9): 0.0412,\n",
       " (4, 5, 10): 0.04008888888888889,\n",
       " (4, 5, 11): 0.035866666666666665,\n",
       " (4, 5, 12): 0.030533333333333332,\n",
       " (4, 5, 13): 0.0316,\n",
       " (4, 5, 14): 0.029733333333333334,\n",
       " (4, 5, 15): 0.04306666666666667,\n",
       " (4, 5, 16): 0.03142222222222222,\n",
       " (4, 5, 17): 0.03422222222222222,\n",
       " (4, 5, 18): 0.041155555555555556,\n",
       " (4, 5, 19): 0.07862222222222222,\n",
       " (4, 5, 20): 0.043244444444444446,\n",
       " (4, 5, 21): 0.03177777777777778,\n",
       " (4, 5, 22): 0.03,\n",
       " (4, 5, 23): 0.051111111111111114,\n",
       " (4, 5, 24): 0.031822222222222224,\n",
       " (4, 5, 25): 0.031466666666666664,\n",
       " (4, 6, 0): 0.0344,\n",
       " (4, 6, 1): 0.0268,\n",
       " (4, 6, 2): 0.04066666666666666,\n",
       " (4, 6, 3): 0.03111111111111111,\n",
       " (4, 6, 4): 0.03542222222222222,\n",
       " (4, 6, 5): 0.039066666666666666,\n",
       " (4, 6, 6): 0.0728,\n",
       " (4, 6, 7): 0.03782222222222222,\n",
       " (4, 6, 8): 0.0384,\n",
       " (4, 6, 9): 0.03213333333333333,\n",
       " (4, 6, 10): 0.04635555555555555,\n",
       " (4, 6, 11): 0.02337777777777778,\n",
       " (4, 6, 12): 0.03755555555555556,\n",
       " (4, 6, 13): 0.026133333333333335,\n",
       " (4, 6, 14): 0.035022222222222225,\n",
       " (4, 6, 15): 0.03395555555555556,\n",
       " (4, 6, 16): 0.04648888888888889,\n",
       " (4, 6, 17): 0.042666666666666665,\n",
       " (4, 6, 18): 0.04142222222222222,\n",
       " (4, 6, 19): 0.034355555555555556,\n",
       " (4, 6, 20): 0.0516,\n",
       " (4, 6, 21): 0.04151111111111111,\n",
       " (4, 6, 22): 0.03666666666666667,\n",
       " (4, 6, 23): 0.03528888888888889,\n",
       " (4, 6, 24): 0.04293333333333333,\n",
       " (4, 6, 25): 0.03604444444444444,\n",
       " (5, 6, 0): 0.042444444444444444,\n",
       " (5, 6, 1): 0.047733333333333336,\n",
       " (5, 6, 2): 0.04075555555555556,\n",
       " (5, 6, 3): 0.03551111111111111,\n",
       " (5, 6, 4): 0.0284,\n",
       " (5, 6, 5): 0.041466666666666666,\n",
       " (5, 6, 6): 0.0312,\n",
       " (5, 6, 7): 0.03177777777777778,\n",
       " (5, 6, 8): 0.028177777777777777,\n",
       " (5, 6, 9): 0.047066666666666666,\n",
       " (5, 6, 10): 0.03275555555555556,\n",
       " (5, 6, 11): 0.03866666666666667,\n",
       " (5, 6, 12): 0.03875555555555556,\n",
       " (5, 6, 13): 0.07457777777777778,\n",
       " (5, 6, 14): 0.039377777777777775,\n",
       " (5, 6, 15): 0.039377777777777775,\n",
       " (5, 6, 16): 0.033155555555555556,\n",
       " (5, 6, 17): 0.04337777777777778,\n",
       " (5, 6, 18): 0.022266666666666667,\n",
       " (5, 6, 19): 0.035111111111111114,\n",
       " (5, 6, 20): 0.024355555555555554,\n",
       " (5, 6, 21): 0.030444444444444444,\n",
       " (5, 6, 22): 0.037733333333333334,\n",
       " (5, 6, 23): 0.04515555555555555,\n",
       " (5, 6, 24): 0.04337777777777778,\n",
       " (5, 6, 25): 0.04697777777777778}"
      ]
     },
     "execution_count": 46,
     "metadata": {},
     "output_type": "execute_result"
    }
   ],
   "source": [
    "mutIndCo"
   ]
  },
  {
   "cell_type": "code",
   "execution_count": 47,
   "metadata": {},
   "outputs": [
    {
     "data": {
      "text/plain": [
       "[(0, 1, 2),\n",
       " (0, 2, 13),\n",
       " (0, 3, 20),\n",
       " (0, 4, 9),\n",
       " (0, 5, 2),\n",
       " (0, 6, 15),\n",
       " (1, 2, 11),\n",
       " (1, 3, 18),\n",
       " (1, 4, 7),\n",
       " (1, 5, 0),\n",
       " (1, 6, 13),\n",
       " (2, 3, 7),\n",
       " (2, 4, 22),\n",
       " (2, 5, 15),\n",
       " (2, 6, 2),\n",
       " (3, 4, 15),\n",
       " (3, 5, 8),\n",
       " (3, 6, 21),\n",
       " (4, 5, 19),\n",
       " (4, 6, 6),\n",
       " (5, 6, 13)]"
      ]
     },
     "execution_count": 47,
     "metadata": {},
     "output_type": "execute_result"
    }
   ],
   "source": [
    "# Nos quedamos los que presentan las correlaciones más altas\n",
    "mutIndCo_altos=list(filter(lambda x: mutIndCo[x] >= 0.065, mutIndCo))\n",
    "mutIndCo_altos # Obtenemos cuánto hay que desplazar un carácter en función de otro\n",
    "# La entrada (i,j,n) siginifica que el carácter j-ésimo de la clave corresponde al i-ésimo desplazado n veces."
   ]
  },
  {
   "cell_type": "markdown",
   "metadata": {},
   "source": [
    "Tenemos un sistema de 7 incógnitas y `len(mutInd_altos)` ecuaciones, pero todas las ecuaciones son redundantes con las 6 primeras. Por tanto las 6 primeras ecuaciones nos permiten obtener los caracteres 2-7 de la clave a partir del primero. Obtenemos una posible clave para cada posible primer carácter (26 posibilidades)."
   ]
  },
  {
   "cell_type": "code",
   "execution_count": 48,
   "metadata": {
    "scrolled": false
   },
   "outputs": [
    {
     "data": {
      "text/plain": [
       "['ACNUJCP',\n",
       " 'BDOVKDQ',\n",
       " 'CEPWLER',\n",
       " 'DFQXMFS',\n",
       " 'EGRYNGT',\n",
       " 'FHSZOHU',\n",
       " 'GITAPIV',\n",
       " 'HJUBQJW',\n",
       " 'IKVCRKX',\n",
       " 'JLWDSLY',\n",
       " 'KMXETMZ',\n",
       " 'LNYFUNA',\n",
       " 'MOZGVOB',\n",
       " 'NPAHWPC',\n",
       " 'OQBIXQD',\n",
       " 'PRCJYRE',\n",
       " 'QSDKZSF',\n",
       " 'RTELATG',\n",
       " 'SUFMBUH',\n",
       " 'TVGNCVI',\n",
       " 'UWHODWJ',\n",
       " 'VXIPEXK',\n",
       " 'WYJQFYL',\n",
       " 'XZKRGZM',\n",
       " 'YALSHAN',\n",
       " 'ZBMTIBO']"
      ]
     },
     "execution_count": 48,
     "metadata": {},
     "output_type": "execute_result"
    }
   ],
   "source": [
    "possible_keys=[]\n",
    "for first in string.ascii_uppercase: # Obtenemos una posible clave para cada primer carácter\n",
    "    key=first\n",
    "    # El caracter k-ésimo de la clave se obtiene desplazando el primero una cantidad que calculamos previmente\n",
    "    for i in mutIndCo_altos[:keyLen-1]:\n",
    "        key+=shift(first,i[2]) \n",
    "    possible_keys.append(key)\n",
    "possible_keys"
   ]
  },
  {
   "cell_type": "markdown",
   "metadata": {},
   "source": [
    "Como ocurría anteriormente, estas no son las claves que nos interesan, sino sus \"opuestas\". "
   ]
  },
  {
   "cell_type": "code",
   "execution_count": 49,
   "metadata": {},
   "outputs": [],
   "source": [
    "def inverse_key(key):\n",
    "    vig=Vigenere(string.ascii_uppercase)\n",
    "    val=list(map(vig.getValue,list(key)))\n",
    "    val=[-v%26 for v in val]\n",
    "    return ''.join(list(map(vig.getCharacter,val)))"
   ]
  },
  {
   "cell_type": "code",
   "execution_count": 50,
   "metadata": {},
   "outputs": [
    {
     "data": {
      "text/plain": [
       "['AYNGRYL',\n",
       " 'ZXMFQXK',\n",
       " 'YWLEPWJ',\n",
       " 'XVKDOVI',\n",
       " 'WUJCNUH',\n",
       " 'VTIBMTG',\n",
       " 'USHALSF',\n",
       " 'TRGZKRE',\n",
       " 'SQFYJQD',\n",
       " 'RPEXIPC',\n",
       " 'QODWHOB',\n",
       " 'PNCVGNA',\n",
       " 'OMBUFMZ',\n",
       " 'NLATELY',\n",
       " 'MKZSDKX',\n",
       " 'LJYRCJW',\n",
       " 'KIXQBIV',\n",
       " 'JHWPAHU',\n",
       " 'IGVOZGT',\n",
       " 'HFUNYFS',\n",
       " 'GETMXER',\n",
       " 'FDSLWDQ',\n",
       " 'ECRKVCP',\n",
       " 'DBQJUBO',\n",
       " 'CAPITAN',\n",
       " 'BZOHSZM']"
      ]
     },
     "execution_count": 50,
     "metadata": {},
     "output_type": "execute_result"
    }
   ],
   "source": [
    "possible_keys=list(map(inverse_key,possible_keys))\n",
    "possible_keys"
   ]
  },
  {
   "cell_type": "markdown",
   "metadata": {},
   "source": [
    "Ahí vemos la clave: CAPITÁN"
   ]
  },
  {
   "cell_type": "code",
   "execution_count": 51,
   "metadata": {
    "scrolled": false
   },
   "outputs": [
    {
     "name": "stdout",
     "output_type": "stream",
     "text": [
      "AYNGRYL UGPQTFKLQGNECRKVCPPGOQOQUVTCPFQOGNQUKPUVTWOGPVQUEQ\n",
      "ZXMFQXK VHQRUGLMRHOFDSLWDQQHPRPRVWUDQGRPHORVLQVWUXPHQWRVFR\n",
      "YWLEPWJ WIRSVHMNSIPGETMXERRIQSQSWXVERHSQIPSWMRWXVYQIRXSWGS\n",
      "XVKDOVI XJSTWINOTJQHFUNYFSSJRTRTXYWFSITRJQTXNSXYWZRJSYTXHT\n",
      "WUJCNUH YKTUXJOPUKRIGVOZGTTKSUSUYZXGTJUSKRUYOTYZXASKTZUYIU\n",
      "VTIBMTG ZLUVYKPQVLSJHWPAHUULTVTVZAYHUKVTLSVZPUZAYBTLUAVZJV\n",
      "USHALSF AMVWZLQRWMTKIXQBIVVMUWUWABZIVLWUMTWAQVABZCUMVBWAKW\n",
      "TRGZKRE BNWXAMRSXNULJYRCJWWNVXVXBCAJWMXVNUXBRWBCADVNWCXBLX\n",
      "SQFYJQD COXYBNSTYOVMKZSDKXXOWYWYCDBKXNYWOVYCSXCDBEWOXDYCMY\n",
      "RPEXIPC DPYZCOTUZPWNLATELYYPXZXZDECLYOZXPWZDTYDECFXPYEZDNZ\n",
      "QODWHOB EQZADPUVAQXOMBUFMZZQYAYAEFDMZPAYQXAEUZEFDGYQZFAEOA\n",
      "PNCVGNA FRABEQVWBRYPNCVGNAARZBZBFGENAQBZRYBFVAFGEHZRAGBFPB\n",
      "OMBUFMZ GSBCFRWXCSZQODWHOBBSACACGHFOBRCASZCGWBGHFIASBHCGQC\n",
      "NLATELY HTCDGSXYDTARPEXIPCCTBDBDHIGPCSDBTADHXCHIGJBTCIDHRD\n",
      "MKZSDKX IUDEHTYZEUBSQFYJQDDUCECEIJHQDTECUBEIYDIJHKCUDJEISE\n",
      "LJYRCJW JVEFIUZAFVCTRGZKREEVDFDFJKIREUFDVCFJZEJKILDVEKFJTF\n",
      "KIXQBIV KWFGJVABGWDUSHALSFFWEGEGKLJSFVGEWDGKAFKLJMEWFLGKUG\n",
      "JHWPAHU LXGHKWBCHXEVTIBMTGGXFHFHLMKTGWHFXEHLBGLMKNFXGMHLVH\n",
      "IGVOZGT MYHILXCDIYFWUJCNUHHYGIGIMNLUHXIGYFIMCHMNLOGYHNIMWI\n",
      "HFUNYFS NZIJMYDEJZGXVKDOVIIZHJHJNOMVIYJHZGJNDINOMPHZIOJNXJ\n",
      "GETMXER OAJKNZEFKAHYWLEPWJJAIKIKOPNWJZKIAHKOEJOPNQIAJPKOYK\n",
      "FDSLWDQ PBKLOAFGLBIZXMFQXKKBJLJLPQOXKALJBILPFKPQORJBKQLPZL\n",
      "ECRKVCP QCLMPBGHMCJAYNGRYLLCKMKMQRPYLBMKCJMQGLQRPSKCLRMQAM\n",
      "DBQJUBO RDMNQCHINDKBZOHSZMMDLNLNRSQZMCNLDKNRHMRSQTLDMSNRBN\n",
      "CAPITAN SENORDIJOELCAPITANNEMOMOSTRANDOMELOSINSTRUMENTOSCO\n",
      "BZOHSZM TFOPSEJKPFMDBQJUBOOFNPNPTUSBOEPNFMPTJOTUSVNFOUPTDP\n"
     ]
    }
   ],
   "source": [
    "# Posibles mensajes descifrados, el correcto aparece en penúltimo lugar\n",
    "for key in possible_keys:\n",
    "    vig=Vigenere(string.ascii_uppercase,key)\n",
    "    print(key,vig.decipher(text[:50]))"
   ]
  }
 ],
 "metadata": {
  "kernelspec": {
   "display_name": "Python 3",
   "language": "python",
   "name": "python3"
  },
  "language_info": {
   "codemirror_mode": {
    "name": "ipython",
    "version": 3
   },
   "file_extension": ".py",
   "mimetype": "text/x-python",
   "name": "python",
   "nbconvert_exporter": "python",
   "pygments_lexer": "ipython3",
   "version": "3.6.9"
  }
 },
 "nbformat": 4,
 "nbformat_minor": 2
}
