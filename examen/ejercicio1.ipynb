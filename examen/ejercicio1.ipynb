{
 "cells": [
  {
   "cell_type": "markdown",
   "metadata": {},
   "source": [
    "# Ejercicio 1\n",
    "\n",
    "### Criptosistema de Vigenère\n",
    "\n",
    "**David Cabezas Berrido, Patricia Córdoba Hidalgo, Pilar Navarro Ramírez y Yábir García Benchakhtir**"
   ]
  },
  {
   "cell_type": "code",
   "execution_count": 1,
   "metadata": {},
   "outputs": [],
   "source": [
    "import unicodedata\n",
    "import random\n",
    "import string\n",
    "import matplotlib.pyplot as plt\n",
    "from collections import Counter"
   ]
  },
  {
   "cell_type": "code",
   "execution_count": 2,
   "metadata": {},
   "outputs": [],
   "source": [
    "def normalize(c):\n",
    "    return unicodedata.normalize(\"NFD\",c)[0]\n",
    "\n",
    "def encode(cadena):\n",
    "    cadena=cadena.upper().replace('Ñ','GN')\n",
    "    cadena=''.join(normalize(c) for c in cadena if c.isalnum())\n",
    "    return cadena"
   ]
  },
  {
   "cell_type": "markdown",
   "metadata": {},
   "source": [
    "### Apartado a)"
   ]
  },
  {
   "cell_type": "markdown",
   "metadata": {},
   "source": [
    "Implementamos el método `generateRandomKey`, que utiliza la asociatividad de la suma en módulo para generar una clave aleatoria de la longitud del texto. Primero genera una clave de longitud 2, luego de longitud 2\\*3, luego de longitud 2\\*3\\*5 y así hasta tener suficientes números primos para alcanzar la longitud del mensaje.\n",
    "\n",
    "Si no se introduce clave en el constructor, se utilizará este método la primera vez que se intente cifrar para generar una clave \"aleatoria\" con la longitud del mensaje.\n",
    "\n",
    "También se podría obtener la clave aleatoria directamente introduciendo la longitud deseada en la función `generateSmallRandomKey`."
   ]
  },
  {
   "cell_type": "code",
   "execution_count": 3,
   "metadata": {},
   "outputs": [],
   "source": [
    "class Vigenere:\n",
    "        \n",
    "    def __init__(self,alphabet,key=None,keyLen=None):\n",
    "        self.A=alphabet\n",
    "        self.n=len(alphabet)\n",
    "        \n",
    "        # Diccionarios con los valores correspondientes a cada caracter\n",
    "        self.value=dict(zip(self.A,range(self.n)))\n",
    "        self.character={v:k for k,v in self.value.items()}\n",
    "        \n",
    "        # Si no se proporciona una clave ni longitud se generará una aleatoria cuando se intente cifrar por primera vez\n",
    "        self.key=key\n",
    "        \n",
    "        if key==None and keyLen:\n",
    "            self.key=self.generateRandomKey(keyLen)\n",
    "        \n",
    "            \n",
    "    # Generación de claves aleatorias arbitrariamente largas combinando varias claves de longitud primo\n",
    "    def generateSmallRandomKey(self,keyLen):\n",
    "        # Genera una clave aleatoria de la longitud dada\n",
    "        return ''.join(random.choice(self.A) for _ in range(keyLen))\n",
    "    \n",
    "    def generateRandomKey(self,keyLen):\n",
    "        prim=Primes() # Usamos el conjunto de números primos implementado en Sage\n",
    "        p=prim.next(1)\n",
    "        prod=p\n",
    "        key=self.generateSmallRandomKey(p)\n",
    "        while prod < keyLen:    \n",
    "            #print(key) # Esto no debe imprimirse, pero ayuda a comprender la generación de la clave\n",
    "            p=prim.next(p)\n",
    "            prod*=p\n",
    "            smallKey=self.generateSmallRandomKey(p) # Generamos una clave aleatoria de longitud el siguiente primo\n",
    "            self.key=smallKey # Ciframos la clave \"acumulada\" con la nueva clave generada\n",
    "            # Ponemos mínimo para que la clave no supere la longitud del texto, de lo contrario\n",
    "            # podríamos llegar a una clave mucho más larga que el texto, de la que sólo necesitaríamos un trozo\n",
    "            key=self.toLength(key, min(prod, keyLen))\n",
    "            key=self.cipher(key) # Ahora tenemos una clave de longitud prod         \n",
    "        return key\n",
    "            \n",
    "    # Obtener el valor de una letra \n",
    "    def getValue(self,c):\n",
    "        return self.value[c]\n",
    "    \n",
    "    # Obtener un letra a partir del valor \n",
    "    def getCharacter(self,v):\n",
    "        return self.character[v]\n",
    "        \n",
    "    # Repite la clave hasta longitud length\n",
    "    def toLength(self, key, length):\n",
    "        return (key * (int(length/len(key))+1))[:length]\n",
    "            \n",
    "    # Función de cifrado\n",
    "    def cipher(self,msg):\n",
    "        if self.key==None:\n",
    "            self.key=self.generateRandomKey(len(msg))\n",
    "        \n",
    "        # Cambiamos las letras por su valor correspondiente\n",
    "        msg_values=list(map(self.getValue,msg))\n",
    "        key_values=list(map(self.getValue,self.key))\n",
    "        \n",
    "        # Sumamos módulo la longitud del diccionario\n",
    "        result=[(msg_values[i]+key_values[i%len(self.key)])%self.n for i in range(len(msg))]\n",
    "        \n",
    "        # Volvemos a convertir en caracteres y devolvemos el mensaje cifrado\n",
    "        return ''.join((map(self.getCharacter,result)))\n",
    "        \n",
    "    # Función de descifrado\n",
    "    def decipher(self, msg):\n",
    "        \n",
    "        # Cambiamos las letras por su valor correspondiente\n",
    "        msg_values=list(map(self.getValue,msg))\n",
    "        key_values=list(map(self.getValue,self.key))\n",
    "        \n",
    "        # Restamos módulo la longitud del diccionario\n",
    "        result=[(msg_values[i]-key_values[i%len(self.key)])%self.n for i in range(len(msg))]\n",
    "        \n",
    "        # Volvemos a convertir en caracteres y devolvemos el mensaje descifrado\n",
    "        return ''.join((map(self.getCharacter,result)))"
   ]
  },
  {
   "cell_type": "markdown",
   "metadata": {},
   "source": [
    "Probamos el funcionamiento de la implementación."
   ]
  },
  {
   "cell_type": "code",
   "execution_count": 4,
   "metadata": {},
   "outputs": [],
   "source": [
    "alphabet=string.ascii_uppercase+string.digits"
   ]
  },
  {
   "cell_type": "code",
   "execution_count": 5,
   "metadata": {},
   "outputs": [],
   "source": [
    "vig = Vigenere(alphabet=alphabet)"
   ]
  },
  {
   "cell_type": "code",
   "execution_count": 6,
   "metadata": {},
   "outputs": [
    {
     "data": {
      "text/plain": [
       "'ELSECRETOSEPROTEGEASIMISMOMICONSTRASEGNADELWIFIES123456'"
      ]
     },
     "execution_count": 6,
     "metadata": {},
     "output_type": "execute_result"
    }
   ],
   "source": [
    "msg=encode('el secreto se protege a sí mismo. Mi constraseña del WI-FI es 123456')\n",
    "msg"
   ]
  },
  {
   "cell_type": "code",
   "execution_count": 7,
   "metadata": {
    "scrolled": true
   },
   "outputs": [
    {
     "data": {
      "text/plain": [
       "'KUAX9CDS927OIO6ATNNMF3VTBN6XIRNWW1G79935XM6SP6GEEPVECRM'"
      ]
     },
     "execution_count": 7,
     "metadata": {},
     "output_type": "execute_result"
    }
   ],
   "source": [
    "cifrado=vig.cipher(msg) # Si no está comentado el print, se observa la generación de la clave\n",
    "cifrado"
   ]
  },
  {
   "cell_type": "code",
   "execution_count": 8,
   "metadata": {},
   "outputs": [
    {
     "name": "stdout",
     "output_type": "stream",
     "text": [
      "GJST7V99VK391AN6NJN47RNBZ9UPGDAEDKGP53Q5UIV6H18AWY3LIWQ\n",
      "Longitud de la clave: 55\n",
      "Longitud del mensage: 55\n"
     ]
    }
   ],
   "source": [
    "print(vig.key) # Comprobamos que se ha creado una clave aleatoria de longitud igual a la del mensaje\n",
    "print('Longitud de la clave:',len(vig.key))\n",
    "print('Longitud del mensage:',len(msg))"
   ]
  },
  {
   "cell_type": "code",
   "execution_count": 9,
   "metadata": {},
   "outputs": [
    {
     "data": {
      "text/plain": [
       "'ELSECRETOSEPROTEGEASIMISMOMICONSTRASEGNADELWIFIES123456'"
      ]
     },
     "execution_count": 9,
     "metadata": {},
     "output_type": "execute_result"
    }
   ],
   "source": [
    "vig.decipher(cifrado) # Funciona correctamente"
   ]
  },
  {
   "cell_type": "markdown",
   "metadata": {},
   "source": [
    "### Apartado b)"
   ]
  },
  {
   "cell_type": "markdown",
   "metadata": {},
   "source": [
    "Ciframos el texto `text` utilizando el sistema de Vigenère con una clave aleatoria con longitud igual a la del texto."
   ]
  },
  {
   "cell_type": "code",
   "execution_count": 10,
   "metadata": {},
   "outputs": [],
   "source": [
    "text=\"\"\"SENORDIJOELCAPITANNEMOMOSTRANDOMELOSINSTRUMENTOSCOLGADOSDELASPAREDESDESUCAMAROTE\n",
    "HEAQUILOSAPARATOSEXIGIDOSPORLANAVEGACIONDELNAUTILUSALIGUALQUEENELSALONLOSTENGOAQUIBAJOMI\n",
    "SOJOSINDICANDOMEMISITUACIONYMIDIRECCIONEXACTASENMEDIODELOCEANOALGUNOSDEELLOSLESONCONOCID\n",
    "OSCOMOELTERMOMETROQUEMARCALATEMPERATURAINTERIORDELNAUTILUSELBAROMETROQUEPESAELAIREYPREDI\n",
    "CELOSCAMBIOSDETIEMPOELHIGROMETROQUEREGISTRAELGRADODESEQUEDADDELAATMOSFERAELSTORMGLASSCUY\n",
    "AMEZCLAALDESCOMPONERSEANUNCIALAINMINENCIADELASTEMPESTADESLABRUJULAQUEDIRIGEMIRUTAELSEXTA\n",
    "NTEQUEPORLAALTURADELSOLMEINDICAMILATITUDLOSCRONOMETROSQUEMEPERMITENCALCULARMILONGITUDYPO\n",
    "RULTIMOMISANTEOJOSDEDIAYDENOCHEQUEMESIRVENPARAESCRUTARTODOSLOSPUNTOSDELHORIZONTECUANDOEL\n",
    "NAUTILUSEMERGEALASUPERFICIEDELASAGUASSONLOSINSTRUMENTOSHABITUALESDELNAVEGANTEYSUUSOMEESC\n",
    "ONOCIDOREPUSEPEROHAYOTROSAQUIQUERESPONDENSINDUDAALASPARTICULARESEXIGENCIASDELNAUTILUSESE\n",
    "CUADRANTEQUEVEORECORRIDOPORUNAAGUJAINMOVILNOESUNMANOMETROESUNMANOMETROENEFECTOPUESTOENCO\n",
    "MUNICACIONCONELAGUACUYAPRESIONEXTERIORINDICADATAMBIENLAPROFUNDIDADALAQUESEMANTIENEMIAPARATO\n",
    "\"\"\"\n",
    "text=encode(text)"
   ]
  },
  {
   "cell_type": "code",
   "execution_count": 11,
   "metadata": {},
   "outputs": [],
   "source": [
    "vig=Vigenere(alphabet=string.ascii_uppercase)\n",
    "text=vig.cipher(text)"
   ]
  },
  {
   "cell_type": "code",
   "execution_count": 12,
   "metadata": {
    "scrolled": false
   },
   "outputs": [
    {
     "data": {
      "text/plain": [
       "'LDXYHUEIIJGDWVWMGAHJGDDHQZITIJAPGZWDEKQOFUOWRCEDAZPAOSWUMBQIAANECKUXDPKKYBFXJVTDZSCFNTULJIRBSNPWPPZZKQFBRMBRPRJGRTXPBYEBRVCKUGWDSISSJNJBPHCWZAFNKJPFUVIUXSUBXXBSULIFMHBYUEEILYSWDIYBMARYVABVMQADTJJQHKVOWWZYXMFGFKDJPOJNGQMAIMRWOKTLUIHZFEQGYFXXMBPOKUAAUVPCDTUDJPPIOVHNAOROFJVCRQBACIFOJZFOBODEVVEWFEGIJPDQPBHZYGZYVSDYIUMGBPIEQBUSUORHUFFZMNGJDXSSEVJEKXPTCRKVSZEOENIOOHHMCQDDWCMCALTPWPSWIYOXLJDBOGPVGVBJAZAVQTUWMLTBAQWSEKRCHTSKLJSXUJHTOTWYSJTQPJWHRZUHRVBPUVSGBREPRIHOQNOHQRPZAFREQETMFGZKBLTHDOSFJXQYYXEDKGMKXPRRDTZQYVNVZYSCDUCQNSHBAMEQHJVCYJJNKVWLNEYAZSXJRSMLFMUBVWRHIWRKMWDGZXSZFYFEMWDYPWVZDWYJDZEZGSIMCNDCNBJQOCFAGHMSASMGPBRPPXJMOSXSSRXFTYZZYVZPNJQQQXRINTDNMBIIPEPONOTGTFYEGNSVJJWJZZFMSAXIUTKHRYCYFCWQHNAOWVQIYDUCOJCVWHCBHMAYKTBKAIYXABGOEBHKNPQXNGVQHVDSKWECZEMBRVHTMTGYWRGUSRJJULZRTIOUQLRZIJLVFZOJMOVPBLQDDBIPNKQCWYVANZEQYVTRYKIZYLXNZIOCTBPFIWXHRYTDZRNFHNGXXIYKPSLSQFHKGWLWAYNSHYFDVGUBGZHZPKTKLWFZOIOGVAELEYBCDTGKCFPURAPWZPRBMXYQTYNRVJJDXIJJUIJASLOJMPFLIIBXPPTMQRBNDBBUEVOQJKNJBGDPEZZSYFVONKPLDIPMJGXTUISYQZSQJJFFWAMLUKQLCRSQFYALSGMOQBCOMMWBTYQHHESNCBBELTM'"
      ]
     },
     "execution_count": 12,
     "metadata": {},
     "output_type": "execute_result"
    }
   ],
   "source": [
    "text"
   ]
  },
  {
   "cell_type": "code",
   "execution_count": 13,
   "metadata": {},
   "outputs": [
    {
     "name": "stdout",
     "output_type": "stream",
     "text": [
      "Longitud de la clave: 1051\n",
      "Longitud del mensage: 1051\n"
     ]
    }
   ],
   "source": [
    "# Comprobamos que se ha creado una clave aleatoria de longitud igual a la del texto\n",
    "print('Longitud de la clave:',len(vig.key))\n",
    "print('Longitud del mensage:',len(text))"
   ]
  },
  {
   "cell_type": "markdown",
   "metadata": {},
   "source": [
    "### Apartado c)"
   ]
  },
  {
   "cell_type": "markdown",
   "metadata": {},
   "source": [
    "El símbolo que queda en la posición $i$ del texto cifrado corresponde a la suma de los valores numéricos del símbolo que aparece en la posición $i$ del texto original y del símbolo en la posición $i$ de la clave. Puesto que este último es aleatorio y no guarda relación aparente con el resto de símbolos de la clave, el símbolo que aparece en la posición $i$ del texto cifrado es aleatorio e independiente del resto de símbolos de dicho texto.\n",
    "\n",
    "En conclusión, el texto que acabamos de generar es tan aleatorio como la clave misma. Por tanto, los ataques estudiados, que se basan en la repetición de cadenas y en las frecuencias de los diferentes símbolos del lenguaje (algunos símbolos se repiten más que otros), tienen nula probabilidad de éxito."
   ]
  },
  {
   "cell_type": "markdown",
   "metadata": {},
   "source": [
    "A continuación ejemplificamos como tanto el método de Kasiski como el de Friedman fracasan a la hora de obtener la longitud de clave."
   ]
  },
  {
   "cell_type": "markdown",
   "metadata": {},
   "source": [
    "#### Método de Kasiski\n",
    "\n",
    "La implementación de las funciones que utilizamos para este método puede encontrarse en: https://github.com/ichantzaras/creamcrackerz"
   ]
  },
  {
   "cell_type": "markdown",
   "metadata": {},
   "source": [
    "Primero encontramos las sequencias de caracteres que se repiten en el texto cifrado."
   ]
  },
  {
   "cell_type": "code",
   "execution_count": 14,
   "metadata": {},
   "outputs": [],
   "source": [
    "# Encuentra secuencias de caracteres que se repiten dos o más veces, así como las posiciones en las que aparecen\n",
    "def repeated_seq_pos(text, seq_len):\n",
    "    seq_pos = {}  # Guardaremos en un diccionario todas las secuencias y las posiciones en las que aparecen\n",
    "    for i, char in enumerate(text): # Recorremos el texto\n",
    "        next_seq = text[i:i+seq_len] # Tomamos cada posible secuencia de seq_len caracteres\n",
    "        if next_seq in seq_pos.keys(): # Si la secuencia ya había ocurrido, añadimos la nueva posición\n",
    "            seq_pos[next_seq].append(i)\n",
    "        else: # Si no había ocurrido, añadimos su primera ocurrencia\n",
    "            seq_pos[next_seq] = [i]\n",
    "    repeated = list(filter(lambda x: len(seq_pos[x]) >= 2, seq_pos)) # Nos quedamos con las secuencias que tienen 2 o más ocurrencias\n",
    "    rep_seq_pos = [(seq, seq_pos[seq]) for seq in repeated]\n",
    "    return rep_seq_pos"
   ]
  },
  {
   "cell_type": "code",
   "execution_count": 15,
   "metadata": {
    "scrolled": false
   },
   "outputs": [
    {
     "data": {
      "text/plain": [
       "[('JGD', [9, 19]),\n",
       " ('IJA', [28, 937]),\n",
       " ('CKU', [64, 122]),\n",
       " ('TDZ', [78, 842]),\n",
       " ('PWP', [94, 375]),\n",
       " ('MBR', [105, 754]),\n",
       " ('BRP', [106, 617]),\n",
       " ('BRV', [119, 755]),\n",
       " ('NJB', [133, 970]),\n",
       " ('ZAF', [140, 467]),\n",
       " ('YVA', [183, 809]),\n",
       " ('MFG', [205, 475]),\n",
       " ('DJP', [210, 255]),\n",
       " ('CDT', [251, 903]),\n",
       " ('HNA', [262, 696]),\n",
       " ('NAO', [263, 697]),\n",
       " ('JVC', [269, 529]),\n",
       " ('ZYV', [306, 635]),\n",
       " ('JDX', [335, 930]),\n",
       " ('XSS', [337, 626]),\n",
       " ('KXP', [344, 499]),\n",
       " ('QDD', [365, 798]),\n",
       " ('QYV', [507, 815]),\n",
       " ('DUC', [516, 705]),\n",
       " ('NSH', [520, 870]),\n",
       " ('MWD', [564, 576]),\n",
       " ('MSA', [610, 679]),\n",
       " ('JMO', [622, 791]),\n",
       " ('VJJ', [671, 928]),\n",
       " ('HRY', [687, 839]),\n",
       " ('JJU', [770, 934]),\n",
       " ('FZO', [788, 890]),\n",
       " ('OJM', [790, 942]),\n",
       " ('SQF', [859, 1018])]"
      ]
     },
     "execution_count": 15,
     "metadata": {},
     "output_type": "execute_result"
    }
   ],
   "source": [
    "secuencias=repeated_seq_pos(text,3) # Buscamos secuencias de longitud 3\n",
    "secuencias"
   ]
  },
  {
   "cell_type": "markdown",
   "metadata": {},
   "source": [
    "Ahora calculamos las diferencias (el espacio) entre las posiciones de las ocurrencias.\n",
    "Si una secuencia se repite, es probable que lo haga tras un múltiplo de la longitud de la clave."
   ]
  },
  {
   "cell_type": "code",
   "execution_count": 16,
   "metadata": {},
   "outputs": [],
   "source": [
    "# Devuelve una lista con las diferencias entre las posiciones de las ocurrencias\n",
    "def get_spacings(positions):\n",
    "    return [positions[i+1] - positions[i] for i in range(len(positions)-1)]"
   ]
  },
  {
   "cell_type": "code",
   "execution_count": 17,
   "metadata": {},
   "outputs": [
    {
     "data": {
      "text/plain": [
       "[('JGD', [10]),\n",
       " ('IJA', [909]),\n",
       " ('CKU', [58]),\n",
       " ('TDZ', [764]),\n",
       " ('PWP', [281]),\n",
       " ('MBR', [649]),\n",
       " ('BRP', [511]),\n",
       " ('BRV', [636]),\n",
       " ('NJB', [837]),\n",
       " ('ZAF', [327]),\n",
       " ('YVA', [626]),\n",
       " ('MFG', [270]),\n",
       " ('DJP', [45]),\n",
       " ('CDT', [652]),\n",
       " ('HNA', [434]),\n",
       " ('NAO', [434]),\n",
       " ('JVC', [260]),\n",
       " ('ZYV', [329]),\n",
       " ('JDX', [595]),\n",
       " ('XSS', [289]),\n",
       " ('KXP', [155]),\n",
       " ('QDD', [433]),\n",
       " ('QYV', [308]),\n",
       " ('DUC', [189]),\n",
       " ('NSH', [350]),\n",
       " ('MWD', [12]),\n",
       " ('MSA', [69]),\n",
       " ('JMO', [169]),\n",
       " ('VJJ', [257]),\n",
       " ('HRY', [152]),\n",
       " ('JJU', [164]),\n",
       " ('FZO', [102]),\n",
       " ('OJM', [152]),\n",
       " ('SQF', [159])]"
      ]
     },
     "execution_count": 17,
     "metadata": {},
     "output_type": "execute_result"
    }
   ],
   "source": [
    "seq_espacios = {}\n",
    "for seq, positions in secuencias:\n",
    "    seq_espacios[seq] = get_spacings(positions)\n",
    "[(k,v) for k,v in seq_espacios.items()]"
   ]
  },
  {
   "cell_type": "markdown",
   "metadata": {},
   "source": [
    "Ahora hallamos los divisores propios de esas diferencias."
   ]
  },
  {
   "cell_type": "code",
   "execution_count": 18,
   "metadata": {},
   "outputs": [],
   "source": [
    "# Calcula los factores del número number\n",
    "def get_factors(number):\n",
    "    factors = set()\n",
    "    for i in range(1, int(sqrt(number))+1):\n",
    "        if number % i == 0:\n",
    "            factors.add(i)\n",
    "            factors.add(number//i)\n",
    "    return sorted(factors)"
   ]
  },
  {
   "cell_type": "code",
   "execution_count": 19,
   "metadata": {},
   "outputs": [
    {
     "data": {
      "text/plain": [
       "[[1, 2, 5, 10],\n",
       " [1, 3, 9, 101, 303, 909],\n",
       " [1, 2, 29, 58],\n",
       " [1, 2, 4, 191, 382, 764],\n",
       " [1, 281],\n",
       " [1, 11, 59, 649],\n",
       " [1, 7, 73, 511],\n",
       " [1, 2, 3, 4, 6, 12, 53, 106, 159, 212, 318, 636],\n",
       " [1, 3, 9, 27, 31, 93, 279, 837],\n",
       " [1, 3, 109, 327],\n",
       " [1, 2, 313, 626],\n",
       " [1, 2, 3, 5, 6, 9, 10, 15, 18, 27, 30, 45, 54, 90, 135, 270],\n",
       " [1, 3, 5, 9, 15, 45],\n",
       " [1, 2, 4, 163, 326, 652],\n",
       " [1, 2, 7, 14, 31, 62, 217, 434],\n",
       " [1, 2, 7, 14, 31, 62, 217, 434],\n",
       " [1, 2, 4, 5, 10, 13, 20, 26, 52, 65, 130, 260],\n",
       " [1, 7, 47, 329],\n",
       " [1, 5, 7, 17, 35, 85, 119, 595],\n",
       " [1, 17, 289],\n",
       " [1, 5, 31, 155],\n",
       " [1, 433],\n",
       " [1, 2, 4, 7, 11, 14, 22, 28, 44, 77, 154, 308],\n",
       " [1, 3, 7, 9, 21, 27, 63, 189],\n",
       " [1, 2, 5, 7, 10, 14, 25, 35, 50, 70, 175, 350],\n",
       " [1, 2, 3, 4, 6, 12],\n",
       " [1, 3, 23, 69],\n",
       " [1, 13, 169],\n",
       " [1, 257],\n",
       " [1, 2, 4, 8, 19, 38, 76, 152],\n",
       " [1, 2, 4, 41, 82, 164],\n",
       " [1, 2, 3, 6, 17, 34, 51, 102],\n",
       " [1, 2, 4, 8, 19, 38, 76, 152],\n",
       " [1, 3, 53, 159]]"
      ]
     },
     "execution_count": 19,
     "metadata": {},
     "output_type": "execute_result"
    }
   ],
   "source": [
    "# Sacamos la lista de factores de las diferencias entre las posiciones de las occurencias\n",
    "factor_lists = []\n",
    "for espacios in seq_espacios.values():\n",
    "    for espacio in espacios:\n",
    "        factor_lists.append(get_factors(number=espacio))\n",
    "factor_lists"
   ]
  },
  {
   "cell_type": "markdown",
   "metadata": {},
   "source": [
    "Los candidatos a ser la longitud de clave dividiran a la mayoría de los espacios entre ocurrencias de cada secuencia."
   ]
  },
  {
   "cell_type": "code",
   "execution_count": 20,
   "metadata": {},
   "outputs": [],
   "source": [
    "def candidate_key_lengths(factor_lists, max_key_len):\n",
    "    # Unimos todos los factores en una lista\n",
    "    all_factors = [factor_lists[lst][fac] for lst in range(len(factor_lists)) for fac in range(len(factor_lists[lst]))]\n",
    "    # Excluimos los mayores que la longitud máxima de clave\n",
    "    candidate_lengths = list(filter(lambda x:  x <= max_key_len, all_factors))\n",
    "    # Los ordenamos según el número de veces que aparecen\n",
    "    sorted_candidates = sorted(set(candidate_lengths), key=lambda x: all_factors.count(x), reverse=True)\n",
    "    return sorted_candidates"
   ]
  },
  {
   "cell_type": "code",
   "execution_count": 21,
   "metadata": {},
   "outputs": [
    {
     "data": {
      "text/plain": [
       "[1,\n",
       " 2,\n",
       " 3,\n",
       " 4,\n",
       " 7,\n",
       " 5,\n",
       " 9,\n",
       " 6,\n",
       " 10,\n",
       " 14,\n",
       " 31,\n",
       " 17,\n",
       " 27,\n",
       " 8,\n",
       " 11,\n",
       " 12,\n",
       " 13,\n",
       " 15,\n",
       " 19,\n",
       " 35,\n",
       " 38,\n",
       " 45,\n",
       " 53,\n",
       " 62,\n",
       " 76,\n",
       " 152,\n",
       " 159,\n",
       " 217,\n",
       " 434,\n",
       " 18,\n",
       " 20,\n",
       " 21,\n",
       " 22,\n",
       " 23,\n",
       " 25,\n",
       " 26,\n",
       " 28,\n",
       " 29,\n",
       " 30,\n",
       " 34,\n",
       " 41,\n",
       " 44,\n",
       " 47,\n",
       " 50,\n",
       " 51,\n",
       " 52,\n",
       " 54,\n",
       " 58,\n",
       " 59,\n",
       " 63,\n",
       " 65,\n",
       " 69,\n",
       " 70,\n",
       " 73,\n",
       " 77,\n",
       " 82,\n",
       " 595,\n",
       " 85,\n",
       " 90,\n",
       " 93,\n",
       " 101,\n",
       " 102,\n",
       " 106,\n",
       " 109,\n",
       " 626,\n",
       " 119,\n",
       " 636,\n",
       " 130,\n",
       " 135,\n",
       " 649,\n",
       " 652,\n",
       " 154,\n",
       " 155,\n",
       " 163,\n",
       " 164,\n",
       " 169,\n",
       " 175,\n",
       " 189,\n",
       " 191,\n",
       " 212,\n",
       " 764,\n",
       " 257,\n",
       " 260,\n",
       " 270,\n",
       " 279,\n",
       " 281,\n",
       " 289,\n",
       " 303,\n",
       " 308,\n",
       " 313,\n",
       " 318,\n",
       " 837,\n",
       " 326,\n",
       " 327,\n",
       " 329,\n",
       " 350,\n",
       " 382,\n",
       " 909,\n",
       " 433,\n",
       " 511]"
      ]
     },
     "execution_count": 21,
     "metadata": {},
     "output_type": "execute_result"
    }
   ],
   "source": [
    "ckl = candidate_key_lengths(factor_lists=factor_lists, max_key_len=10000)\n",
    "ckl"
   ]
  },
  {
   "cell_type": "code",
   "execution_count": 22,
   "metadata": {},
   "outputs": [
    {
     "data": {
      "text/plain": [
       "False"
      ]
     },
     "execution_count": 22,
     "metadata": {},
     "output_type": "execute_result"
    }
   ],
   "source": [
    "len(text) in ckl"
   ]
  },
  {
   "cell_type": "markdown",
   "metadata": {},
   "source": [
    "Como era de esperar, la longitud del texto (que también es la de la clave), no se encuentra en la lista de candidatos a longitud de clave, ya que es imposible que una secuencia de caracteres tenga dos ocurrencias separadas por este número de posiciones."
   ]
  },
  {
   "cell_type": "markdown",
   "metadata": {},
   "source": [
    "#### Test de Friedman"
   ]
  },
  {
   "cell_type": "code",
   "execution_count": 23,
   "metadata": {},
   "outputs": [],
   "source": [
    "# Divide el texto en trozos de longitud size\n",
    "def get_blocks(text, size):\n",
    "    blocks = [text[i:i+size] for i in range(0, len(text)-size, size)]\n",
    "    return blocks"
   ]
  },
  {
   "cell_type": "code",
   "execution_count": 24,
   "metadata": {},
   "outputs": [],
   "source": [
    "# Crea size strings uniendo las letras cuya posición se diferencia en un múltiplo de size\n",
    "def get_columns(text_blocks):\n",
    "    group_size = len(text_blocks[0])\n",
    "    columns = []\n",
    "    for letter_count in range(group_size):\n",
    "        column = ''\n",
    "        for group_count in range(len(text_blocks)):\n",
    "            column += text_blocks[group_count][letter_count]\n",
    "        columns.append(column)\n",
    "    return columns"
   ]
  },
  {
   "cell_type": "code",
   "execution_count": 25,
   "metadata": {},
   "outputs": [],
   "source": [
    "# Calcula el índice de coincidencia\n",
    "def IndCo(s):\n",
    "    n = len(s)\n",
    "    F = Counter(list(s))\n",
    "    return sum([F[c]*(F[c]-1) for c in string.ascii_uppercase])/(n*(n-1))"
   ]
  },
  {
   "cell_type": "code",
   "execution_count": 26,
   "metadata": {},
   "outputs": [],
   "source": [
    "# Frecuencias relativas correspondientes al inglés, español y aleatorio\n",
    "kp_EN = 0.0685\n",
    "kp_ES = 0.07185\n",
    "kr=1/26"
   ]
  },
  {
   "cell_type": "code",
   "execution_count": 27,
   "metadata": {},
   "outputs": [],
   "source": [
    "# Fórmula de las Kappa\n",
    "def kappaFrac(k0):\n",
    "    return (kp_ES-kr)/(k0-kr)"
   ]
  },
  {
   "cell_type": "markdown",
   "metadata": {},
   "source": [
    "$$\\frac{\\kappa_p-\\kappa_r}{\\kappa_0-\\kappa_r}$$\n",
    "donde $\\kappa_p$ es la frecuencia relativa correspondiente al idioma, en este caso español.\n",
    "\n",
    "Esta fórmula aplicada al índice de coincidencias del texto completo debería ofrecer una estimación de la longitud de clave. Dado que el texto es aleatorio, su índice de coincidencias es muy cercano a $\\kappa_r$. Esto provoca que el resultado de evaluar la fracción se dispare, puesto que el denominador es cercano a 0. Por tanto, fracasamos al obtener una estimación de la longitud de clave."
   ]
  },
  {
   "cell_type": "code",
   "execution_count": 28,
   "metadata": {
    "scrolled": true
   },
   "outputs": [
    {
     "name": "stdout",
     "output_type": "stream",
     "text": [
      "0.038461538461538464\n",
      "0.03833265370848625\n",
      "-259.056721200649\n"
     ]
    }
   ],
   "source": [
    "print(float(kr))\n",
    "print(float(IndCo(text)))\n",
    "print(kappaFrac(IndCo(text)))"
   ]
  },
  {
   "cell_type": "markdown",
   "metadata": {},
   "source": [
    "Fijado un candidato a longitud de clave, se puede dividir el texto en columnas y calcular el índice de coincidencias de cada columna. La longitud de clave correcta dará lugar a que las columnas tengan un índice de frecuencias cercano al del idioma del texto original o, equivalentemente, un valor en la fórmula de las *kappa* cercano a 1.\n",
    "\n",
    "Para evaluar este índice en una columna, esta columna debe tener al menos dos símbolos, por lo que este método sólo nos permite considerar longitudes de clave menores o iguales a $\\left\\lfloor \\frac{\\texttt{len(text)}}{2} \\right\\rfloor$. Esto excluye la longitud de clave."
   ]
  },
  {
   "cell_type": "code",
   "execution_count": 29,
   "metadata": {
    "scrolled": true
   },
   "outputs": [],
   "source": [
    "# Calculamos del índice IndCo para distintas longitudes de clave\n",
    "frac = []\n",
    "\n",
    "for keyLen in range(1,526): # Sólo podemos probar hasta este valor\n",
    "    blocks=get_blocks(text,keyLen)\n",
    "    columns=get_columns(blocks)\n",
    "    indco = []\n",
    "    for i in range(keyLen):\n",
    "        indco.append(IndCo(columns[i]))\n",
    "    \n",
    "    # Este cociente se acerca a 1 cuando la frecuencia de las letras es similar a la del idioma\n",
    "    # y se dispara cuando la frecuencia es similar a la que obtendríamos eligiendo letras al azar.\n",
    "    frac.append(kappaFrac(sum(indco)/len(indco)))"
   ]
  },
  {
   "cell_type": "code",
   "execution_count": 30,
   "metadata": {},
   "outputs": [],
   "source": [
    "def graf_barras(data):\n",
    "    fig, ax = plt.subplots()\n",
    "    ax.bar(range(1,526), data, color='lime')\n",
    "    ax.set_title('Comparación de distintas longitudes de clave')\n",
    "    ax.set_xlabel('Longitud de clave')"
   ]
  },
  {
   "cell_type": "code",
   "execution_count": 31,
   "metadata": {
    "scrolled": true
   },
   "outputs": [
    {
     "data": {
      "image/png": "[encoded data removed]",
      "text/plain": [
       "<Figure size 432x288 with 1 Axes>"
      ]
     },
     "metadata": {},
     "output_type": "display_data"
    }
   ],
   "source": [
    "graf_barras(frac)"
   ]
  },
  {
   "cell_type": "markdown",
   "metadata": {},
   "source": [
    "La aleatoriedad del texto provoca valores muy dispares al evaluar la fórmula de las *kappas* para los distintos tamaños de clave.\n",
    "\n",
    "Incluso aunque el atacante se percatase de la aleatoriedad del texto y sospechase que la clave utilizada tiene la longitud del texto, no podría enfrentarse a un texto totalmente aleatorio, por lo que los métodos para obtener la clave fracasarán.\n",
    "\n",
    "Tanto el método del artículo https://www.researchgate.net/publication/221581427_An_Interactive_Cryptanalysis_Algorithm_for_the_Vigenere_Cipher, como el método del libro *An Introduction to Mathematical Cryptography* depende de dividir el texto en tantas columnas como la longitud de clave. En este caso obtendríamos `len(text)` columnas con un elemento.\n",
    "\n",
    "En el primero de ellos, se calcula el índice de coincidencia mutuo de cada columna para cada desplazamiento del alfabeto, y se toma el valor que consiga un mayor índice. Al tener las columnas un sólo símbolo, siempre obtendríamos el desplazamiento que transforme ese símbolo en el más frecuente del lenguaje. Por tanto, acabaríamos con un texto formado por `len(text)` repeticiones de este símbolo.\n",
    "\n",
    "En el segundo método, comparamos las frecuencias relativas entre las columnas para distintos desplazamientos y se plantea un sistema que permite despejar el resto de caracteres de la clave a partir de uno dado. En este caso, el índice de coincidencias será 0 si los símbolos son diferentes y 1 para el desplazamiento que haga que los símbolos sean el mismo. Los candidatos que obtendríamos serían claves formadas por el mismo caracter."
   ]
  },
  {
   "cell_type": "markdown",
   "metadata": {},
   "source": [
    "Podría pensarse que hemos creado un sistema que permite un cifrado inatacable, al menos mientras generemos una clave aleatoria para cada mensaje a cifrar. Sin embargo, la compartición de la clave aleatoria por un canal seguro es tan difícil como la compartición del propio texto, lo que hace este método poco práctico."
   ]
  }
 ],
 "metadata": {
  "kernelspec": {
   "display_name": "SageMath 9.1",
   "language": "sage",
   "name": "sagemath"
  },
  "language_info": {
   "codemirror_mode": {
    "name": "ipython",
    "version": 3
   },
   "file_extension": ".py",
   "mimetype": "text/x-python",
   "name": "python",
   "nbconvert_exporter": "python",
   "pygments_lexer": "ipython3",
   "version": "3.7.3"
  }
 },
 "nbformat": 4,
 "nbformat_minor": 2
}
