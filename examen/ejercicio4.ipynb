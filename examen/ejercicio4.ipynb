{
 "cells": [
  {
   "cell_type": "markdown",
   "metadata": {},
   "source": [
    "# Ejercicio 4\n",
    "\n",
    "## Shamir\n",
    "\n",
    "**David Cabezas Berrido, Patricia Córdoba Hidalgo, Pilar Navarro Ramírez y Yábir García Benchakhtir**"
   ]
  },
  {
   "cell_type": "code",
   "execution_count": 1,
   "metadata": {},
   "outputs": [],
   "source": [
    "import random"
   ]
  },
  {
   "cell_type": "code",
   "execution_count": 2,
   "metadata": {},
   "outputs": [],
   "source": [
    "def GenerateKeys(s, n, t):\n",
    "    \"\"\"\n",
    "    s: Mensaje que se quiere repartir\n",
    "    n: Numero de participantes\n",
    "    t: Umbral de participantes minimo para obtener el mensaje\n",
    "    \"\"\"\n",
    "    \n",
    "    # Buscamos un primo suficientemente grande\n",
    "    # Para garantizarnos que el p no es demasiado pequenio\n",
    "    # aniadimos una constante 2^32\n",
    "    P = Primes()\n",
    "    p = P.next(max(n,s, 2^32))\n",
    "    \n",
    "    # Generamos el cuerpo Zp\n",
    "    Zp = Integers(p)\n",
    "    \n",
    "    # En esta lista almacenamos los coefs del polinomio\n",
    "    coefs = []\n",
    "    \n",
    "    # Generamos los coeficientes y nos aseguramos de que\n",
    "    # el coeficiente lider sea no nulo\n",
    "    for i in range(t-1):\n",
    "        r = Zp.random_element()\n",
    "        coefs.append(r)\n",
    "        \n",
    "    while coefs[t-2] == 0:\n",
    "        coefs[t-2] = Zp.random_element()\n",
    "    \n",
    "    # Calculamos las parejas <x_i, y_i>\n",
    "    xn = []\n",
    "    yn = []\n",
    "    \n",
    "    for i in range(n):\n",
    "        e = Zp.random_element()\n",
    "        while e == 0:\n",
    "            e = Zp.random_element()\n",
    "        \n",
    "        xn.append(e)\n",
    "        yn.append(s + sum([ coefs[j]*e^(j+1) for j in range(t-1) ]))\n",
    "    return p, list(zip(xn, yn))"
   ]
  },
  {
   "cell_type": "code",
   "execution_count": 3,
   "metadata": {},
   "outputs": [],
   "source": [
    "def ObtainSecretLagrange(p, keys):\n",
    "    \"\"\"\n",
    "    Obtenemos el polinomio de interpolacion por el\n",
    "    metodo de Lagrange y lo evaluamos en 0 para obtener\n",
    "    el secreto\n",
    "    \"\"\"\n",
    "    \n",
    "    R.<x>=PolynomialRing(Integers(p))\n",
    "    f=R.lagrange_polynomial(keys)\n",
    "    return f(0)"
   ]
  },
  {
   "cell_type": "markdown",
   "metadata": {},
   "source": [
    "### Ejemplo"
   ]
  },
  {
   "cell_type": "code",
   "execution_count": 4,
   "metadata": {},
   "outputs": [],
   "source": [
    "p, keys = GenerateKeys(1132, 10, 7)"
   ]
  },
  {
   "cell_type": "code",
   "execution_count": 5,
   "metadata": {},
   "outputs": [
    {
     "data": {
      "text/plain": [
       "1132"
      ]
     },
     "execution_count": 5,
     "metadata": {},
     "output_type": "execute_result"
    }
   ],
   "source": [
    "ObtainSecretLagrange(p, keys)"
   ]
  },
  {
   "cell_type": "markdown",
   "metadata": {},
   "source": [
    "### Ejemplo del examen"
   ]
  },
  {
   "cell_type": "code",
   "execution_count": 6,
   "metadata": {},
   "outputs": [],
   "source": [
    "p, keys = GenerateKeys(111332, 30, 19)"
   ]
  },
  {
   "cell_type": "markdown",
   "metadata": {},
   "source": [
    "Comprobamos como con menos de 19 claves no se obtiene el secreto correcto"
   ]
  },
  {
   "cell_type": "code",
   "execution_count": 7,
   "metadata": {},
   "outputs": [
    {
     "data": {
      "text/plain": [
       "898212458"
      ]
     },
     "execution_count": 7,
     "metadata": {},
     "output_type": "execute_result"
    }
   ],
   "source": [
    "ObtainSecretLagrange(p, keys[:18])"
   ]
  },
  {
   "cell_type": "markdown",
   "metadata": {},
   "source": [
    "A partir de 19 claves ya obtenemos el secreto correcto"
   ]
  },
  {
   "cell_type": "code",
   "execution_count": 8,
   "metadata": {},
   "outputs": [
    {
     "data": {
      "text/plain": [
       "111332"
      ]
     },
     "execution_count": 8,
     "metadata": {},
     "output_type": "execute_result"
    }
   ],
   "source": [
    "ObtainSecretLagrange(p, keys[:19])"
   ]
  },
  {
   "cell_type": "code",
   "execution_count": 9,
   "metadata": {},
   "outputs": [
    {
     "data": {
      "text/plain": [
       "111332"
      ]
     },
     "execution_count": 9,
     "metadata": {},
     "output_type": "execute_result"
    }
   ],
   "source": [
    "ObtainSecretLagrange(p, keys)"
   ]
  },
  {
   "cell_type": "markdown",
   "metadata": {},
   "source": [
    "A continuación barajamos la lista de llaves para ver que no importa cuales de ellas se elija"
   ]
  },
  {
   "cell_type": "code",
   "execution_count": 10,
   "metadata": {},
   "outputs": [],
   "source": [
    "for i in range(19):\n",
    "    random.shuffle(keys)\n",
    "    assert(ObtainSecretLagrange(p, keys[:19]) == 111332)"
   ]
  }
 ],
 "metadata": {
  "kernelspec": {
   "display_name": "SageMath 9.2",
   "language": "sage",
   "name": "sagemath"
  },
  "language_info": {
   "codemirror_mode": {
    "name": "ipython",
    "version": 3
   },
   "file_extension": ".py",
   "mimetype": "text/x-python",
   "name": "python",
   "nbconvert_exporter": "python",
   "pygments_lexer": "ipython3",
   "version": "3.8.5"
  }
 },
 "nbformat": 4,
 "nbformat_minor": 4
}
