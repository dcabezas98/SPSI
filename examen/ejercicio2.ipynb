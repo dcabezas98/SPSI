{
 "cells": [
  {
   "cell_type": "markdown",
   "metadata": {},
   "source": [
    "# Ejercicio 2\n",
    "\n",
    "## Sobre AES (sbox)\n",
    "\n",
    "**David Cabezas Berrido, Patricia Córdoba Hidalgo, Pilar Navarro Ramírez y Yábir García Benchakhtir**"
   ]
  },
  {
   "cell_type": "markdown",
   "metadata": {},
   "source": [
    "### Apartado a)"
   ]
  },
  {
   "cell_type": "markdown",
   "metadata": {},
   "source": [
    "En primer lugar definimos el cuerpo cociente de polinomios donde vamos a trabajar. Tomamos cociente en el anillo de polinomios $\\mathbb{Z}_2[x]$ módulo el polinomio irreducible $x^8 + x^4 + x^3 + x + 1$ (definido en la especificación del criptosistema AES) para obtener un cuerpo finito de $2^8$ elementos.\n",
    "\n",
    "https://nvlpubs.nist.gov/nistpubs/FIPS/NIST.FIPS.197.pdf"
   ]
  },
  {
   "cell_type": "code",
   "execution_count": 1,
   "metadata": {},
   "outputs": [],
   "source": [
    "Z2 = Integers(2) # Z_2\n",
    "\n",
    "# Anillo de polinomios en Z_2\n",
    "R = PolynomialRing(Z2,'x')\n",
    "# generador\n",
    "x = R.gen() \n",
    "\n",
    "# Creamos el cociente isomorfo a GF(2^8)\n",
    "S = R.quotient(x^8 + x^4 + x^3 + x + 1, 'x')"
   ]
  },
  {
   "cell_type": "markdown",
   "metadata": {},
   "source": [
    "Definimos una función auxiliar que, a partir de un número binario, nos construye el polinomio asociado a dicho número."
   ]
  },
  {
   "cell_type": "code",
   "execution_count": 2,
   "metadata": {},
   "outputs": [],
   "source": [
    "def build_pol(binary, grade=7):\n",
    "    \"\"\"\n",
    "    A partir de la representación binaria construimos\n",
    "    el polinomo asociado en el anillo cociente S.\n",
    "    \"\"\"\n",
    "    pol_coefs = []\n",
    "    for i in binary:\n",
    "        if i == '1':\n",
    "            pol_coefs.append(\"x^{}\".format(grade))\n",
    "        grade -= 1\n",
    "\n",
    "    return S(\" + \".join(pol_coefs))"
   ]
  },
  {
   "cell_type": "markdown",
   "metadata": {},
   "source": [
    "Usamos la constante $c=\\{63\\}$ que es la empleada en la definición de la operación _SubBytes_ en el apartado 5.1.1 de la especificación."
   ]
  },
  {
   "cell_type": "code",
   "execution_count": 3,
   "metadata": {},
   "outputs": [],
   "source": [
    "# Coefs del byte 63 de menos a mas significativo\n",
    "c = list(map(Z2, [1,1,0,0,0,1,1,0]))"
   ]
  },
  {
   "cell_type": "code",
   "execution_count": 4,
   "metadata": {},
   "outputs": [],
   "source": [
    "def SubBytes(byte):\n",
    "    \"\"\"\n",
    "    Dado un byte xy (hex) calculamos la salida correspondiente\n",
    "    según la transformación subbyte.\n",
    "    \"\"\"\n",
    "    \n",
    "    # Calculamos el inverso de la representacion binaria\n",
    "    if byte == \"00\":\n",
    "        inverse = list(map(Z2, [0,0,0,0,0,0,0,0]))\n",
    "    else:\n",
    "        polynom = build_pol(format(int(byte, 16), '#010b')[2:])\n",
    "        \n",
    "        # Como se puede comprobar en la siguiente referencia el inverso\n",
    "        # del polinomio se realiza utilizando el algoritmo de Euclides.\n",
    "        # https://github.com/sagemath/sage/blob/develop/src/sage/rings/polynomial/polynomial_quotient_ring_element.py#L442\n",
    "        inverse = polynom^-1\n",
    "    \n",
    "    # Almacenamos los bits de la transformación en una cadena\n",
    "    new_byte_bin = \"\"\n",
    "    \n",
    "    # Obtenemos el bit i \n",
    "    for i in range(8):\n",
    "        new_byte_bin += str(\n",
    "            inverse[i] \n",
    "            + inverse[(i + 4)%8] \n",
    "            + inverse[(i + 5)%8] \n",
    "            + inverse[(i + 6)%8] \n",
    "            + inverse[(i + 7)%8] \n",
    "            + c[i]\n",
    "        )\n",
    "    \n",
    "    # Invertimos el orden de los bits para cambiar cual es\n",
    "    # el más significativo. El primero es el más significativo.\n",
    "    new_byte_bin = new_byte_bin[::-1]\n",
    "    \n",
    "    # Devolvemos la expresión en hexadecimal\n",
    "    return \"{:02x}\".format(int(new_byte_bin, 2))"
   ]
  },
  {
   "cell_type": "markdown",
   "metadata": {},
   "source": [
    "### Apartado b)"
   ]
  },
  {
   "cell_type": "code",
   "execution_count": 5,
   "metadata": {},
   "outputs": [],
   "source": [
    "# Función auxiliar para imprimir una matriz\n",
    "def matprint(table):\n",
    "    for row in table:\n",
    "        print(row)"
   ]
  },
  {
   "cell_type": "markdown",
   "metadata": {},
   "source": [
    "Generamos la tabla S-box utilizando la función definida en el apartado anterior."
   ]
  },
  {
   "cell_type": "code",
   "execution_count": 6,
   "metadata": {},
   "outputs": [],
   "source": [
    "table = []\n",
    "for x in range(16):\n",
    "    row = []\n",
    "    for y in range(16):\n",
    "        # Al tomar el numero ignoramos el prefijo 0x que utiliza\n",
    "        # python para codificar numeros hexadecimales\n",
    "        xs = str(hex(x))[2:]\n",
    "        ys = str(hex(y))[2:]\n",
    "        row.append(SubBytes( xs + ys))\n",
    "    table.append(row)"
   ]
  },
  {
   "cell_type": "code",
   "execution_count": 7,
   "metadata": {},
   "outputs": [
    {
     "name": "stdout",
     "output_type": "stream",
     "text": [
      "['63', '7c', '77', '7b', 'f2', '6b', '6f', 'c5', '30', '01', '67', '2b', 'fe', 'd7', 'ab', '76']\n",
      "['ca', '82', 'c9', '7d', 'fa', '59', '47', 'f0', 'ad', 'd4', 'a2', 'af', '9c', 'a4', '72', 'c0']\n",
      "['b7', 'fd', '93', '26', '36', '3f', 'f7', 'cc', '34', 'a5', 'e5', 'f1', '71', 'd8', '31', '15']\n",
      "['04', 'c7', '23', 'c3', '18', '96', '05', '9a', '07', '12', '80', 'e2', 'eb', '27', 'b2', '75']\n",
      "['09', '83', '2c', '1a', '1b', '6e', '5a', 'a0', '52', '3b', 'd6', 'b3', '29', 'e3', '2f', '84']\n",
      "['53', 'd1', '00', 'ed', '20', 'fc', 'b1', '5b', '6a', 'cb', 'be', '39', '4a', '4c', '58', 'cf']\n",
      "['d0', 'ef', 'aa', 'fb', '43', '4d', '33', '85', '45', 'f9', '02', '7f', '50', '3c', '9f', 'a8']\n",
      "['51', 'a3', '40', '8f', '92', '9d', '38', 'f5', 'bc', 'b6', 'da', '21', '10', 'ff', 'f3', 'd2']\n",
      "['cd', '0c', '13', 'ec', '5f', '97', '44', '17', 'c4', 'a7', '7e', '3d', '64', '5d', '19', '73']\n",
      "['60', '81', '4f', 'dc', '22', '2a', '90', '88', '46', 'ee', 'b8', '14', 'de', '5e', '0b', 'db']\n",
      "['e0', '32', '3a', '0a', '49', '06', '24', '5c', 'c2', 'd3', 'ac', '62', '91', '95', 'e4', '79']\n",
      "['e7', 'c8', '37', '6d', '8d', 'd5', '4e', 'a9', '6c', '56', 'f4', 'ea', '65', '7a', 'ae', '08']\n",
      "['ba', '78', '25', '2e', '1c', 'a6', 'b4', 'c6', 'e8', 'dd', '74', '1f', '4b', 'bd', '8b', '8a']\n",
      "['70', '3e', 'b5', '66', '48', '03', 'f6', '0e', '61', '35', '57', 'b9', '86', 'c1', '1d', '9e']\n",
      "['e1', 'f8', '98', '11', '69', 'd9', '8e', '94', '9b', '1e', '87', 'e9', 'ce', '55', '28', 'df']\n",
      "['8c', 'a1', '89', '0d', 'bf', 'e6', '42', '68', '41', '99', '2d', '0f', 'b0', '54', 'bb', '16']\n"
     ]
    }
   ],
   "source": [
    "matprint(table)"
   ]
  }
 ],
 "metadata": {
  "kernelspec": {
   "display_name": "SageMath 9.2",
   "language": "sage",
   "name": "sagemath"
  },
  "language_info": {
   "codemirror_mode": {
    "name": "ipython",
    "version": 3
   },
   "file_extension": ".py",
   "mimetype": "text/x-python",
   "name": "python",
   "nbconvert_exporter": "python",
   "pygments_lexer": "ipython3",
   "version": "3.8.5"
  }
 },
 "nbformat": 4,
 "nbformat_minor": 4
}
