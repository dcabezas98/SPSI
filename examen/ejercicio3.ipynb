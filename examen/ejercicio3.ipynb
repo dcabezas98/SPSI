{
 "cells": [
  {
   "cell_type": "markdown",
   "metadata": {},
   "source": [
    "# Ejercicio 3\n",
    "\n",
    "## ElGamal\n",
    "\n",
    "**David Cabezas Berrido, Patricia Córdoba Hidalgo, Pilar Navarro Ramírez y Yábir García Benchakhtir**"
   ]
  },
  {
   "cell_type": "code",
   "execution_count": 1,
   "metadata": {},
   "outputs": [],
   "source": [
    "import random"
   ]
  },
  {
   "cell_type": "markdown",
   "metadata": {},
   "source": [
    "A continuación presentamos el código para cifrar y descifrar un mensaje usando el criptosistema de ElGamal."
   ]
  },
  {
   "cell_type": "code",
   "execution_count": 2,
   "metadata": {},
   "outputs": [],
   "source": [
    "def ElGamal_Encrypt(p,y,g,m, k=None):\n",
    "    \"\"\"\n",
    "    p: Numero primo seguro. Cuanto mas grande sea mayor sera la longitud\n",
    "        de los mensajes que se puedan codificar\n",
    "    y: Clave publica del receptor\n",
    "    g: Generador del grupo multiplicativo\n",
    "    m: Mensaje que se quiere cifrar\n",
    "    k: Variable auxiliar en caso de que se quiera especificar un valor concreto\n",
    "    \"\"\"\n",
    "    while k == None:\n",
    "        candidate = random.randint(2, p-1)\n",
    "        if gcd(candidate, p-1) == 1:\n",
    "            k = candidate\n",
    "            \n",
    "    return power_mod(g,k,p), m*power_mod(y, k, p) % p\n",
    "\n",
    "def ElGamal_Decrypt(p,g,a,M):  \n",
    "    \"\"\"\n",
    "    p: Numero primo seguro suficientemente grande para cifrar el mensaje\n",
    "    g: Generador del grupo multiplicativo\n",
    "    a: clave privada del receptor (0, p-1)\n",
    "    M: mensaje cifrado\n",
    "    \"\"\"\n",
    "    return power_mod(M[0], p-1-a, p)*M[1] % p"
   ]
  },
  {
   "cell_type": "markdown",
   "metadata": {},
   "source": [
    "Las siguientes funciones han sido extraídas de https://stackoverflow.com/a/12626870\n",
    "\n",
    "Como se explica en el post citado, el código mas grande en utf-8 asociado a un carácter es _0x10FFFF_ (base 16). Por tanto para codificar nuestros mensajes vamos a trabajar en base _0x110000_ (_0x10FFFF_ + 1)"
   ]
  },
  {
   "cell_type": "code",
   "execution_count": 3,
   "metadata": {},
   "outputs": [],
   "source": [
    "def numfy(s):\n",
    "    \"\"\"\n",
    "    Función que dado una cadena devuelve un número que representa a \n",
    "    dicha cadena. Esta funcion permite codificar mensajes en utf-8\n",
    "    \"\"\"\n",
    "    number = 0\n",
    "    for e in [ord(c) for c in s]:\n",
    "        number = (number * 0x110000) + e\n",
    "    return number\n",
    "\n",
    "def denumfy(number):\n",
    "    \"\"\"\n",
    "    Obtiene una cadena de texto utf-8 a partir de su representación numérica\n",
    "    \"\"\"\n",
    "    l = []\n",
    "    while(number != 0):\n",
    "        l.append(chr(number % 0x110000))\n",
    "        number = number // 0x110000\n",
    "    return ''.join(reversed(l))"
   ]
  },
  {
   "cell_type": "markdown",
   "metadata": {},
   "source": [
    "Generamos un primo seguro con el suficiente número de bits para cifrar nuestro mensaje \n",
    "\n",
    "    $ openssl prime -generate -safe -bits 120\n",
    "    1004027564517055235904130666143508247"
   ]
  },
  {
   "cell_type": "markdown",
   "metadata": {},
   "source": [
    "Tomamos un elemento aleatorio $g$ del grupo $GF(p)$. Como $p$ es primo cualquier elemento del grupo salvo el 1 es generador\n",
    "al ser primo relativo con $p$, $(p,g)=1$."
   ]
  },
  {
   "cell_type": "code",
   "execution_count": 4,
   "metadata": {},
   "outputs": [
    {
     "data": {
      "text/plain": [
       "(1004027564517055235904130666143508247, 473769129844428624591660223651724806)"
      ]
     },
     "execution_count": 4,
     "metadata": {},
     "output_type": "execute_result"
    }
   ],
   "source": [
    "p = 1004027564517055235904130666143508247\n",
    "k = GF(p, modulus=\"primitive\")\n",
    "g = k.random_element()\n",
    "g.order(), g\n",
    "# si g no tiene orden maximo, elegimos otro g"
   ]
  },
  {
   "cell_type": "markdown",
   "metadata": {},
   "source": [
    "Comprobamos que es un primo seguro."
   ]
  },
  {
   "cell_type": "code",
   "execution_count": 5,
   "metadata": {},
   "outputs": [
    {
     "data": {
      "text/plain": [
       "True"
      ]
     },
     "execution_count": 5,
     "metadata": {},
     "output_type": "execute_result"
    }
   ],
   "source": [
    "(p-1)/2 in Primes()"
   ]
  },
  {
   "cell_type": "markdown",
   "metadata": {},
   "source": [
    "**Alice**"
   ]
  },
  {
   "cell_type": "markdown",
   "metadata": {},
   "source": [
    "1. Genera su clave privade publica y privada"
   ]
  },
  {
   "cell_type": "code",
   "execution_count": 6,
   "metadata": {},
   "outputs": [],
   "source": [
    "a1 = random.randint(0, p-1) # Clave privada\n",
    "y1 = power_mod(g, a1, p) # Clave publica"
   ]
  },
  {
   "cell_type": "markdown",
   "metadata": {},
   "source": [
    "**Bob**"
   ]
  },
  {
   "cell_type": "markdown",
   "metadata": {},
   "source": [
    "2. Codifica el mensaje "
   ]
  },
  {
   "cell_type": "code",
   "execution_count": 7,
   "metadata": {},
   "outputs": [],
   "source": [
    "m = \"!سلام\"\n",
    "MC = numfy(m)"
   ]
  },
  {
   "cell_type": "markdown",
   "metadata": {},
   "source": [
    "Comprobamos que nuestro mensaje no es demasiado largo para poder cifrarlo"
   ]
  },
  {
   "cell_type": "code",
   "execution_count": 8,
   "metadata": {},
   "outputs": [
    {
     "data": {
      "text/plain": [
       "True"
      ]
     },
     "execution_count": 8,
     "metadata": {},
     "output_type": "execute_result"
    }
   ],
   "source": [
    "numfy(\"!سلام\") < p"
   ]
  },
  {
   "cell_type": "markdown",
   "metadata": {},
   "source": [
    "3. Cifra el mensaje y lo comparte con Alice"
   ]
  },
  {
   "cell_type": "code",
   "execution_count": 9,
   "metadata": {},
   "outputs": [],
   "source": [
    "M = ElGamal_Encrypt(p, y1, g, MC)"
   ]
  },
  {
   "cell_type": "markdown",
   "metadata": {},
   "source": [
    "**Alice**"
   ]
  },
  {
   "cell_type": "markdown",
   "metadata": {},
   "source": [
    "4 . Descifra el mensaje y lo decodifica"
   ]
  },
  {
   "cell_type": "code",
   "execution_count": 10,
   "metadata": {},
   "outputs": [
    {
     "name": "stdout",
     "output_type": "stream",
     "text": [
      "Mensaje decodificado:  !سلام\n"
     ]
    }
   ],
   "source": [
    "MD = ElGamal_Decrypt(p, g, a1, M)\n",
    "print(\"Mensaje decodificado: \", denumfy(Integer(MD)))"
   ]
  },
  {
   "cell_type": "markdown",
   "metadata": {},
   "source": [
    "**Resumen**"
   ]
  },
  {
   "cell_type": "code",
   "execution_count": 11,
   "metadata": {},
   "outputs": [
    {
     "name": "stdout",
     "output_type": "stream",
     "text": [
      "Mensaje original:  !سلام\n",
      "Mensaje codificado:  50844981531712349403547205\n",
      "Mensaje cifrado:  (724591001423226523409066672961443069, 631594322278388632026168644903525051)\n",
      "Mensaje descifrado:  50844981531712349403547205\n",
      "Mensaje decodificado:  !سلام\n"
     ]
    }
   ],
   "source": [
    "print(\"Mensaje original: \", m)\n",
    "print(\"Mensaje codificado: \", MC)\n",
    "print(\"Mensaje cifrado: \", M)\n",
    "print(\"Mensaje descifrado: \", MD)\n",
    "print(\"Mensaje decodificado: \", denumfy(Integer(MD)))"
   ]
  }
 ],
 "metadata": {
  "kernelspec": {
   "display_name": "SageMath 9.2",
   "language": "sage",
   "name": "sagemath"
  },
  "language_info": {
   "codemirror_mode": {
    "name": "ipython",
    "version": 3
   },
   "file_extension": ".py",
   "mimetype": "text/x-python",
   "name": "python",
   "nbconvert_exporter": "python",
   "pygments_lexer": "ipython3",
   "version": "3.8.5"
  }
 },
 "nbformat": 4,
 "nbformat_minor": 4
}
