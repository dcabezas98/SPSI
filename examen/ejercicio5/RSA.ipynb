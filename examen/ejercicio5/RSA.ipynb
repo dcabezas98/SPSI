{
 "cells": [
  {
   "cell_type": "markdown",
   "metadata": {},
   "source": [
    "# Ejercicio 5\n",
    "### RSA\n",
    "**David Cabezas Berrido, Patricia Córdoba Hidalgo, Pilar Navarro Ramírez y Yábir García Benchakhtir**"
   ]
  },
  {
   "cell_type": "markdown",
   "metadata": {},
   "source": [
    "En primer lugar definimos dos funciones, una para cifrar y otra para descifrar que trabajan con numeros"
   ]
  },
  {
   "cell_type": "code",
   "execution_count": 1,
   "metadata": {},
   "outputs": [],
   "source": [
    "import math\n",
    "\n",
    "def RSA_Encrypt(p,q,e,m):    \n",
    "    # Power_mod utiliza el algoritmo de exponenciacion rapida como se puede ver\n",
    "    # en el siguiente enlace\n",
    "    # https://github.com/sagemath/sage/blob/222059565bc2166f29c50a6d85db7992589098c2/src/sage/arith/misc.py#L2201\n",
    "    return power_mod(m, e, p*q) \n",
    "\n",
    "def RSA_Decrypt(p,q,e,m):    \n",
    "    d = power_mod(e, -1, (p-1)*(q-1))\n",
    "    return power_mod(m, d, p*q)"
   ]
  },
  {
   "cell_type": "markdown",
   "metadata": {},
   "source": [
    "Un ejemplo que verifica la correccion de las funciones anteriores"
   ]
  },
  {
   "cell_type": "code",
   "execution_count": 2,
   "metadata": {},
   "outputs": [
    {
     "data": {
      "text/plain": [
       "(6269, 8888)"
      ]
     },
     "execution_count": 2,
     "metadata": {},
     "output_type": "execute_result"
    }
   ],
   "source": [
    "m = RSA_Encrypt(97, 113, 865, 8888)\n",
    "m, RSA_Decrypt(97, 113, 865, m)"
   ]
  },
  {
   "cell_type": "markdown",
   "metadata": {},
   "source": [
    "Definimos las funciones _numfy_ y _denumfy_ que utilizaremos para convertir entre caracteres utf-8 y su numero asociado"
   ]
  },
  {
   "cell_type": "code",
   "execution_count": 3,
   "metadata": {},
   "outputs": [],
   "source": [
    "def numfy(s):\n",
    "    \"\"\"\n",
    "    Función que dado una cadena devuelve un número que representa a \n",
    "    dicha cadena. Esta funcion permite codificar mensajes en utf-8\n",
    "    \"\"\"\n",
    "    number = 0\n",
    "    for e in [ord(c) for c in s]:\n",
    "        number = (number * 0x110000) + e\n",
    "    return number\n",
    "\n",
    "def denumfy(number):\n",
    "    \"\"\"\n",
    "    Obtiene una cadena de texto utf-8 a partir de su representación numérica\n",
    "    \"\"\"\n",
    "    l = []\n",
    "    while(number != 0):\n",
    "        l.append(chr(number % 0x110000))\n",
    "        number = number // 0x110000\n",
    "    return ''.join(reversed(l))"
   ]
  },
  {
   "cell_type": "markdown",
   "metadata": {},
   "source": [
    "Función auxiliar que emplearemos para seccionar una cadena de texto en bloques de determinada longitud"
   ]
  },
  {
   "cell_type": "code",
   "execution_count": 4,
   "metadata": {},
   "outputs": [],
   "source": [
    "def chunkyfy(m, chunk_size ):\n",
    "    \"\"\"\n",
    "    m: str que representa la cadena de texto a partir\n",
    "    chunk_size: int tamanio de los bloques\n",
    "    \"\"\"\n",
    "    # Aniadimos 0 al principio de la cadena para que todos los bloques\n",
    "    # tenga la misma longitud\n",
    "    m = str(m)\n",
    "    m_encoded = (chunk_size - (len(m)% chunk_size )) % chunk_size * '0' + m\n",
    "    \n",
    "    # Construimos los bloques\n",
    "    f = len(m_encoded)//chunk_size\n",
    "    return [ int(m_encoded[i*chunk_size:(i+1)*chunk_size]) for i in range(f) ]\n",
    "    "
   ]
  },
  {
   "cell_type": "markdown",
   "metadata": {},
   "source": [
    "Ahora creamos funciones _wrapper_ que llaman a las definidas anteriormente pero incorporan la logica para trabajar con cadenas de texto"
   ]
  },
  {
   "cell_type": "code",
   "execution_count": 5,
   "metadata": {},
   "outputs": [],
   "source": [
    "def RSAe(p,q,e,m):\n",
    "    n = p*q\n",
    "    chunk_size = int(math.log(n, 10))\n",
    "    digits_n = chunk_size + 1\n",
    "    \n",
    "    mc = numfy(m)\n",
    "    chunks = chunkyfy(mc, chunk_size)\n",
    "    f = \"{:0\" +  str(digits_n) + \"d}\"\n",
    "    encrypted = [f.format(RSA_Encrypt(p,q,e,mi)) for mi in chunks]\n",
    "    return \"\".join(encrypted)"
   ]
  },
  {
   "cell_type": "code",
   "execution_count": 6,
   "metadata": {},
   "outputs": [],
   "source": [
    "def RSAd(p,q,e,m):    \n",
    "    n = p*q\n",
    "    chunk_size = int(math.log(n, 10))\n",
    "    digits_n = chunk_size + 1\n",
    "    \n",
    "    chunks = chunkyfy(int(m), digits_n)\n",
    "    f = \"{:0\" +  str(chunk_size) + \"d}\"\n",
    "    decrypted = [f.format(RSA_Decrypt(p,q,e,mi)) for mi in chunks]\n",
    "    return denumfy(int(\"\".join(decrypted)))"
   ]
  },
  {
   "cell_type": "markdown",
   "metadata": {},
   "source": [
    "Comprobamos que efectivamente funcionan las funciones anteriores"
   ]
  },
  {
   "cell_type": "code",
   "execution_count": 7,
   "metadata": {},
   "outputs": [
    {
     "name": "stdout",
     "output_type": "stream",
     "text": [
      "565738486835952364765089729272359016411035886604055013128544468869077319214174904631818845199170632317083769967632736565871287037212704802713826825393871848520074282612536803876572049989286295662762507290771186626595072871033938454376120120287973172269361652278551550069334535147896380659249759712638112171\n"
     ]
    }
   ],
   "source": [
    "m = RSAe(287169250670647, 31472159917268862941, 2312856761, \"你好 es lo mismo que привет que significa hola! ❤️\")\n",
    "print(m)"
   ]
  },
  {
   "cell_type": "code",
   "execution_count": 8,
   "metadata": {},
   "outputs": [
    {
     "name": "stdout",
     "output_type": "stream",
     "text": [
      "你好 es lo mismo que привет que significa hola! ❤️\n"
     ]
    }
   ],
   "source": [
    "print(RSAd(287169250670647, 31472159917268862941, 2312856761, m))"
   ]
  }
 ],
 "metadata": {
  "kernelspec": {
   "display_name": "SageMath 9.2",
   "language": "sage",
   "name": "sagemath"
  },
  "language_info": {
   "codemirror_mode": {
    "name": "ipython",
    "version": 3
   },
   "file_extension": ".py",
   "mimetype": "text/x-python",
   "name": "python",
   "nbconvert_exporter": "python",
   "pygments_lexer": "ipython3",
   "version": "3.8.5"
  }
 },
 "nbformat": 4,
 "nbformat_minor": 4
}
