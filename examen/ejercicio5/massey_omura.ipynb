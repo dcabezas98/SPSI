{
 "cells": [
  {
   "cell_type": "markdown",
   "metadata": {},
   "source": [
    "# Ejercicio 5\n",
    "### Criptosistema Massey-Omura \n",
    "**David Cabezas Berrido, Patricia Córdoba Hidalgo, Pilar Navarro Ramírez y Yábir García Benchakhtir**"
   ]
  },
  {
   "cell_type": "markdown",
   "metadata": {},
   "source": [
    "En primer lugar definimos la función que nos servirá para generar las claves del criptosistema."
   ]
  },
  {
   "cell_type": "code",
   "execution_count": 1,
   "metadata": {},
   "outputs": [],
   "source": [
    "import random\n",
    "\n",
    "def generate_keys(q):\n",
    "    \"\"\"\n",
    "    Generacion de claves para el criptosistema.\n",
    "    q: int primo sobre el que se construye el cuerpo \n",
    "    \"\"\"\n",
    "    \n",
    "    K = GF(q, 'a')\n",
    "    invertible_element = None\n",
    "    \n",
    "    # Nos aseguramos de encontrar un elemento que sea invertible\n",
    "    while not invertible_element:\n",
    "        e = Integer(K.random_element())\n",
    "        if gcd(e, q-1) == 1:\n",
    "            #print(gcd(e, q-1))\n",
    "            invertible_element = e\n",
    "    \n",
    "    # power_mod utiliza el algoritmo de euclides\n",
    "    d = power_mod(Integer(invertible_element), -1, q-1)\n",
    "    \n",
    "    return Integer(invertible_element), Integer(d)\n"
   ]
  },
  {
   "cell_type": "markdown",
   "metadata": {},
   "source": [
    "Ahora generamos un par de claves para usar en el ejemplo"
   ]
  },
  {
   "cell_type": "code",
   "execution_count": 2,
   "metadata": {},
   "outputs": [],
   "source": [
    "q = 31472159917268862941\n",
    "eA, dA = generate_keys(q)\n",
    "eB, dB = generate_keys(q)"
   ]
  },
  {
   "cell_type": "markdown",
   "metadata": {},
   "source": [
    "Las funciones siguientes las usamos para trabajar con caracteres en utf-8"
   ]
  },
  {
   "cell_type": "code",
   "execution_count": 3,
   "metadata": {},
   "outputs": [],
   "source": [
    "def numfy(s):\n",
    "    \"\"\"\n",
    "    Función que dado una cadena devuelve un número que representa a \n",
    "    dicha cadena. Esta funcion permite codificar mensajes en utf-8\n",
    "    \"\"\"\n",
    "    number = 0\n",
    "    for e in [ord(c) for c in s]:\n",
    "        number = (number * 0x110000) + e\n",
    "    return number\n",
    "\n",
    "def denumfy(number):\n",
    "    \"\"\"\n",
    "    Obtiene una cadena de texto utf-8 a partir de su representación numérica\n",
    "    \"\"\"\n",
    "    l = []\n",
    "    while(number != 0):\n",
    "        l.append(chr(number % 0x110000))\n",
    "        number = number // 0x110000\n",
    "    return ''.join(reversed(l))\n",
    "\n",
    "def chunkyfy(m, chunk_size ):\n",
    "    \"\"\"\n",
    "    m: str que representa la cadena de texto a partir\n",
    "    chunk_size: int tamanio de los bloques\n",
    "    \"\"\"\n",
    "    # Aniadimos 0 al principio de la cadena para que todos los bloques\n",
    "    # tenga la misma longitud\n",
    "    m = str(m)\n",
    "    m_encoded = (chunk_size - (len(m)% chunk_size )) % chunk_size * '0' + m\n",
    "    \n",
    "    # Construimos los bloques\n",
    "    f = len(m_encoded)//chunk_size\n",
    "    return [ int(m_encoded[i*chunk_size:(i+1)*chunk_size]) for i in range(f) ]"
   ]
  },
  {
   "cell_type": "markdown",
   "metadata": {},
   "source": [
    "A continuación presentamos las funciones propias del criptosistema. Supondremos que Alice es la que quiere enviar el mensaje y Bob es el que lo recibe."
   ]
  },
  {
   "cell_type": "code",
   "execution_count": 4,
   "metadata": {},
   "outputs": [],
   "source": [
    "def MO_step(m, q, e):\n",
    "    \"\"\"\n",
    "    m: int mensaje codificado como entero\n",
    "    q: int primo orden del cuerpo\n",
    "    e: int exponente (0, q-1) \n",
    "    \"\"\"\n",
    "    # https://github.com/sagemath/sage/blob/222059565bc2166f29c50a6d85db7992589098c2/src/sage/arith/misc.py#L2201\n",
    "    return power_mod(m, e, q)\n",
    "\n",
    "\n",
    "def MO_step1(m, q, eA, chunk_size=None):\n",
    "    \"\"\"\n",
    "    Este paso lo realizaria Alice, el emisor. \n",
    "    La funcion se encarga de codificar y aplicar el primer\n",
    "    paso del algoritmo\n",
    "    \"\"\"\n",
    "\n",
    "    chunk_size = int(log(q,10))\n",
    "    digits_n = chunk_size + 1\n",
    "    \n",
    "    mc = numfy(m)\n",
    "    chunks = chunkyfy(mc, chunk_size)\n",
    "    f = \"{:0\" +  str(digits_n) + \"d}\"\n",
    "    \n",
    "    encrypted = [f.format(MO_step(mi,q,eA)) for mi in chunks]    \n",
    "    \n",
    "    return \"\".join(encrypted)\n",
    "\n",
    "\n",
    "def MO_step2(m, q, eB, chunk_size=None):\n",
    "    \"\"\"\n",
    "    Este paso lo hace Bob, el receptor\n",
    "    \"\"\"\n",
    "    \n",
    "    chunk_size = int(log(q,10))\n",
    "    digits_n = chunk_size + 1\n",
    "    \n",
    "    chunks = chunkyfy(int(m), digits_n)\n",
    "    f = \"{:0\" +  str(digits_n) + \"d}\"\n",
    "    \n",
    "    encrypted = [f.format(MO_step(mi,q,eB)) for mi in chunks]    \n",
    "    \n",
    "    return \"\".join(encrypted)\n",
    "\n",
    "def MO_step3(m, q, dA, chunk_size=None):\n",
    "    \"\"\"\n",
    "    Este paso lo realizaria Alice, el emisor\n",
    "    \"\"\"\n",
    "    chunk_size = int(log(q,10))\n",
    "    digits_n = chunk_size + 1\n",
    "    \n",
    "    chunks = chunkyfy(int(m), digits_n)\n",
    "    f = \"{:0\" +  str(digits_n) + \"d}\"\n",
    "    \n",
    "    encrypted = [f.format(MO_step(mi,q,dA)) for mi in chunks]    \n",
    "    \n",
    "    return \"\".join(encrypted)\n",
    "\n",
    "def MO_step4(m, q, dB, chunk_size=None):\n",
    "    \"\"\"\n",
    "    Este paso lo realizaria Alice, el emisor.\n",
    "    Esta funcion aplica el ultimo paso del algoritmo y decodifica\n",
    "    \"\"\"\n",
    "    chunk_size = int(log(q,10))\n",
    "    digits_n = chunk_size + 1\n",
    "    \n",
    "    chunks = chunkyfy(int(m), digits_n)\n",
    "    f = \"{:0\" +  str(chunk_size) + \"d}\"\n",
    "    \n",
    "    decrypted = [f.format(MO_step(mi,q,dB)) for mi in chunks]    \n",
    "    \n",
    "    return denumfy(int(\"\".join(decrypted)))\n"
   ]
  },
  {
   "cell_type": "code",
   "execution_count": 5,
   "metadata": {},
   "outputs": [
    {
     "name": "stdout",
     "output_type": "stream",
     "text": [
      "304408955723561356651713557030211687066114355167029497079531\n",
      "266870710687855982682941464514951388792219882908690420103208\n",
      "085364945083314131572947249147572896532903691555981448744337\n",
      "❤️ spsi\n"
     ]
    }
   ],
   "source": [
    "s1 = MO_step1(\"❤️ spsi\", q, eA); print(s1) # Alice\n",
    "s2 = MO_step2(s1, q, eB); print(s2) # Bob\n",
    "s3 = MO_step3(s2, q, dA); print(s3) # Alice\n",
    "s4 = MO_step4(s3, q, dB); print(s4) # Bob"
   ]
  }
 ],
 "metadata": {
  "kernelspec": {
   "display_name": "SageMath 9.2",
   "language": "sage",
   "name": "sagemath"
  },
  "language_info": {
   "codemirror_mode": {
    "name": "ipython",
    "version": 3
   },
   "file_extension": ".py",
   "mimetype": "text/x-python",
   "name": "python",
   "nbconvert_exporter": "python",
   "pygments_lexer": "ipython3",
   "version": "3.8.5"
  }
 },
 "nbformat": 4,
 "nbformat_minor": 4
}
