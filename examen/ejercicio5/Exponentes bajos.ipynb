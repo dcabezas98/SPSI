{
 "cells": [
  {
   "cell_type": "markdown",
   "metadata": {},
   "source": [
    "# Ejercicio 5\n",
    "### Ataque de exponentes bajos\n",
    "**David Cabezas Berrido, Patricia Córdoba Hidalgo, Pilar Navarro Ramírez y Yábir García Benchakhtir**"
   ]
  },
  {
   "cell_type": "markdown",
   "metadata": {},
   "source": [
    "Si usamos un exponente $e$ y hay $e$ personas usando el mismo exponente, podemos plantear un sistema de ecuaciones que, por un algoritmo resolutivo, podemos encontrar una solución que sabemos existe por el teorema chino del resto"
   ]
  },
  {
   "cell_type": "code",
   "execution_count": 12,
   "metadata": {},
   "outputs": [],
   "source": [
    "def attack_on_exponent(c, n, e):\n",
    "    \n",
    "    \"\"\"\n",
    "    Ataque de exponentes bajos:\n",
    "    c: lista con los cifrados de un mismo mensaje, \n",
    "       cada uno usando una clave distinta y mismo exponente\n",
    "    n: Una lista de enteros representando las claves\n",
    "    e: exponente usado. Todos usan el mismo exponente\n",
    "    \"\"\"\n",
    "    \n",
    "    # Sabemos que existe porque el teorema chino del resto\n",
    "    # lo garantiza. https://doc.sagemath.org/html/es/tutorial/tour_numtheory.html\n",
    "    solution = crt(c, n)\n",
    "    \n",
    "    return solution^(1/e)\n",
    "    "
   ]
  },
  {
   "cell_type": "markdown",
   "metadata": {},
   "source": [
    "Comprobamos que funciona usando los numeros proporcionados en los apuntes mecanografiados Ej 5.4.3 pag 115"
   ]
  },
  {
   "cell_type": "code",
   "execution_count": 13,
   "metadata": {},
   "outputs": [
    {
     "data": {
      "text/plain": [
       "52013"
      ]
     },
     "execution_count": 13,
     "metadata": {},
     "output_type": "execute_result"
    }
   ],
   "source": [
    "attack_on_exponent([5886824, 2815816, 418668], [6689477, 5346437, 7675039], 3)"
   ]
  }
 ],
 "metadata": {
  "kernelspec": {
   "display_name": "SageMath 9.2",
   "language": "sage",
   "name": "sagemath"
  },
  "language_info": {
   "codemirror_mode": {
    "name": "ipython",
    "version": 3
   },
   "file_extension": ".py",
   "mimetype": "text/x-python",
   "name": "python",
   "nbconvert_exporter": "python",
   "pygments_lexer": "ipython3",
   "version": "3.8.5"
  }
 },
 "nbformat": 4,
 "nbformat_minor": 4
}
