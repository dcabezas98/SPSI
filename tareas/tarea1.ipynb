{
 "cells": [
  {
   "cell_type": "markdown",
   "metadata": {},
   "source": [
    "# Tareas de SPSI\n",
    "\n",
    "**David Cabezas Berrido y Patricia Córdoba Hidalgo**"
   ]
  },
  {
   "cell_type": "code",
   "execution_count": 1,
   "metadata": {},
   "outputs": [],
   "source": [
    "from fractions import Fraction"
   ]
  },
  {
   "cell_type": "markdown",
   "metadata": {},
   "source": [
    "# Tarea 1: Exponenciación rápida"
   ]
  },
  {
   "cell_type": "markdown",
   "metadata": {},
   "source": [
    "### a)\n",
    "Implementamos el algoritmo de exponenciación similar al método de multiplicación del campesino ruso.\n",
    "Tenemos una función recursiva que acaba cuando $b$ llega a 0. El número de llamadas es $O(\\log_2 b)$."
   ]
  },
  {
   "cell_type": "code",
   "execution_count": 2,
   "metadata": {},
   "outputs": [],
   "source": [
    "def e(a,b):\n",
    "    if b==0:\n",
    "        return 1\n",
    "    if b>0 and b%2==0:\n",
    "        return e(a*a,b/2)\n",
    "    if b>0 and b%2==1:\n",
    "        return e(a*a,(b-1)/2)*a"
   ]
  },
  {
   "cell_type": "code",
   "execution_count": 3,
   "metadata": {},
   "outputs": [
    {
     "name": "stdout",
     "output_type": "stream",
     "text": [
      "8 1\n"
     ]
    }
   ],
   "source": [
    "print(e(2,3),e(0,0))"
   ]
  },
  {
   "cell_type": "markdown",
   "metadata": {},
   "source": [
    "### b)\n",
    "Es el mismo algoritmo que el anterior, salvo que devolvemos el resultado en el denominador cuando el exponente es negativo. "
   ]
  },
  {
   "cell_type": "code",
   "execution_count": 4,
   "metadata": {},
   "outputs": [],
   "source": [
    "def e(a,b):\n",
    "    if b==0:\n",
    "        return 1\n",
    "    if b%2==0:\n",
    "        return e(a*a,b/2)\n",
    "    if b>0 and b%2==1:\n",
    "        return e(a*a,(b-1)/2)*a\n",
    "    if b<0 and b%2==1:\n",
    "        return Fraction(1,e(a,-b))"
   ]
  },
  {
   "cell_type": "code",
   "execution_count": 5,
   "metadata": {},
   "outputs": [
    {
     "name": "stdout",
     "output_type": "stream",
     "text": [
      "1/9 1/4 -1/3\n"
     ]
    }
   ],
   "source": [
    "print(e(-3,-2),e(2,-2),e(-3,-1))"
   ]
  },
  {
   "cell_type": "markdown",
   "metadata": {},
   "source": [
    "### c)\n",
    "Implementamos primero el algoritmo de Euclides visto en clase, con el fin de calcular el inverso en caso de que el exponente sea negativo."
   ]
  },
  {
   "cell_type": "code",
   "execution_count": 6,
   "metadata": {},
   "outputs": [],
   "source": [
    "def euclid(a,b):\n",
    "    a0, a1 = a, b\n",
    "    s0, s1 = 1, 0\n",
    "    t0, t1 = 0, 1\n",
    "    \n",
    "    while a1 != 0:\n",
    "        q = a0//a1\n",
    "        a0, a1 = a1, a0%a1\n",
    "        s0, s1 = s1, s0-s1*q\n",
    "        t0, t1 = t1, t0-t1*q\n",
    "    return a0, s0, t0"
   ]
  },
  {
   "cell_type": "markdown",
   "metadata": {},
   "source": [
    "Es similar al anterior, pero vamos reduciendo módulo $n$ en cada iteración. Si el exponente es negativo sólo podemos devolver un resultado válido cuando exista el inverso."
   ]
  },
  {
   "cell_type": "code",
   "execution_count": 7,
   "metadata": {},
   "outputs": [],
   "source": [
    "def e(a,b,n):\n",
    "    if b==0:\n",
    "        return 1\n",
    "    if b>0 and b%2==0:\n",
    "        return e(a*a%n,b/2,n)\n",
    "    if b>0 and b%2==1:\n",
    "        return e(a*a%n,(b-1)/2,n)*a%n\n",
    "    if b<0:\n",
    "        d, u, v = euclid(a,n)\n",
    "        if d == 1:\n",
    "            return e(u,-b,n)\n",
    "        else:\n",
    "            print('no existe el inverso de ' + str(a) + ' mod '+ str(n))\n",
    "            "
   ]
  },
  {
   "cell_type": "code",
   "execution_count": 8,
   "metadata": {},
   "outputs": [
    {
     "name": "stdout",
     "output_type": "stream",
     "text": [
      "no existe el inverso de -3 mod 6\n"
     ]
    },
    {
     "data": {
      "text/plain": [
       "20"
      ]
     },
     "execution_count": 8,
     "metadata": {},
     "output_type": "execute_result"
    }
   ],
   "source": [
    "e(-3,-2,6)\n",
    "e(-16,3,21)"
   ]
  }
 ],
 "metadata": {
  "kernelspec": {
   "display_name": "Python 3",
   "language": "python",
   "name": "python3"
  },
  "language_info": {
   "codemirror_mode": {
    "name": "ipython",
    "version": 3
   },
   "file_extension": ".py",
   "mimetype": "text/x-python",
   "name": "python",
   "nbconvert_exporter": "python",
   "pygments_lexer": "ipython3",
   "version": "3.6.9"
  }
 },
 "nbformat": 4,
 "nbformat_minor": 2
}
