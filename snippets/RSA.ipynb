{
 "cells": [
  {
   "cell_type": "code",
   "execution_count": 14,
   "metadata": {},
   "outputs": [
    {
     "data": {
      "text/plain": [
       "'repliegueakellogsbo~~'"
      ]
     },
     "execution_count": 14,
     "metadata": {},
     "output_type": "execute_result"
    }
   ],
   "source": [
    "from string import ascii_lowercase\n",
    "import math\n",
    "\n",
    "def RSA_Encrypt(p,q,e,m, chunk_size = None):\n",
    "    \n",
    "    n = p*q    \n",
    "    digits_n = int(math.log(n, 10)) + 1\n",
    "    \n",
    "    if chunk_size == None:\n",
    "        chunk_size = digits_n - 1\n",
    "        \n",
    "    if chunk_size % 2 == 1:\n",
    "        chunk_size -= 1\n",
    "    \n",
    "    m_encoded = \"\".join([\"{:02d}\".format(ord(x)-97) for x in m.lower() if x in ascii_lowercase]) \n",
    "    \n",
    "    m_encoded = m_encoded + ((chunk_size - (len(m_encoded)% chunk_size )) % chunk_size)/2 * '29'\n",
    "    \n",
    "    f = len(m_encoded)/chunk_size\n",
    "    chunks = [ int(m_encoded[i*chunk_size:(i+1)*chunk_size]) for i in range(f) ]\n",
    "    \n",
    "    # https://github.com/sagemath/sage/blob/222059565bc2166f29c50a6d85db7992589098c2/src/sage/arith/misc.py#L2201\n",
    "    ciphered = [power_mod(x, e, n) for x in chunks]\n",
    "    \n",
    "    formated = \"{:0\" + str(digits_n) + \"d}\"\n",
    "    \n",
    "    return \"\".join([formated.format(cn) for cn in ciphered])\n",
    "\n",
    "def RSA_Decrypt(p,q,e,m,chunk_size=None):\n",
    "    n = p*q  \n",
    "    digits_n = int(math.log(n, 10)) + 1\n",
    "    \n",
    "    if chunk_size == None:\n",
    "        chunk_size = digits_n - 1\n",
    "        \n",
    "    if chunk_size % 2 == 1:\n",
    "        chunk_size -= 1\n",
    "    \n",
    "    d = power_mod(e, -1, (p-1)*(q-1))\n",
    "    ff = len(m)/digits_n\n",
    "    dk = [power_mod(int(m[i*digits_n:(i+1)*digits_n]), d, n) for i in range(ff)]\n",
    "    \n",
    "    formated = \"{:0\" + str(chunk_size) + \"d}\"\n",
    "    chars = \"\".join([formated.format(cn) for cn in dk])\n",
    "    return \"\".join([chr(int(chars[i*2:(i+1)*2])+97) for i in range(len(chars)/2)])\n",
    "\n",
    "m = RSA_Encrypt(1597, 1087, 187, \"repliegueakellogsbo\", 7)\n",
    "RSA_Decrypt(1597, 1087, 187, m, 7)"
   ]
  },
  {
   "cell_type": "code",
   "execution_count": 28,
   "metadata": {},
   "outputs": [
    {
     "data": {
      "text/plain": [
       "'0041706422057650477700304087550041701404077060751800549092621068304595052880568101314003040020806904058780763407235100530138100018048160582600208010251031208353090810734802276004170180807235014170908104582015300399110312'"
      ]
     },
     "execution_count": 28,
     "metadata": {},
     "output_type": "execute_result"
    }
   ],
   "source": [
    "m = RSA_Encrypt(97, 113, 865, \"Era un dia de enero en el que Juanma Moreno decidio quitarle las vacaciones a los universitarios dos veces\", 4)\n",
    "m"
   ]
  },
  {
   "cell_type": "code",
   "execution_count": 31,
   "metadata": {},
   "outputs": [
    {
     "data": {
      "text/plain": [
       "'0041700020013030080000304004130041701404013040111602004009200001301200012140170401314003040020800308014160200801900017110041100018021000020000208014130041800011014180201300821004170180801900017080141800314018210040200418'"
      ]
     },
     "execution_count": 31,
     "metadata": {},
     "output_type": "execute_result"
    }
   ],
   "source": [
    "m = RSA_Encrypt(97, 109, 865, \"Era un dia de enero en el que Juanma Moreno decidio quitarle las vacaciones a los universitarios dos veces\", 4)\n",
    "m"
   ]
  },
  {
   "cell_type": "code",
   "execution_count": 29,
   "metadata": {},
   "outputs": [
    {
     "data": {
      "text/plain": [
       "'eraundiadeeneroenelquejuanmamorenodecidioquitarlelasvacacionesalosuniversitariosdosveces'"
      ]
     },
     "execution_count": 29,
     "metadata": {},
     "output_type": "execute_result"
    }
   ],
   "source": [
    "RSA_Decrypt(97, 113, 865, m , 4)"
   ]
  },
  {
   "cell_type": "code",
   "execution_count": 23,
   "metadata": {},
   "outputs": [
    {
     "data": {
      "text/plain": [
       "13"
      ]
     },
     "execution_count": 23,
     "metadata": {},
     "output_type": "execute_result"
    }
   ],
   "source": [
    "ord('n')-97"
   ]
  },
  {
   "cell_type": "code",
   "execution_count": 34,
   "metadata": {},
   "outputs": [
    {
     "data": {
      "text/plain": [
       "53"
      ]
     },
     "execution_count": 34,
     "metadata": {},
     "output_type": "execute_result"
    }
   ],
   "source": [
    "power_mod(2,59,83)"
   ]
  },
  {
   "cell_type": "code",
   "execution_count": 35,
   "metadata": {},
   "outputs": [
    {
     "data": {
      "text/plain": [
       "82"
      ]
     },
     "execution_count": 35,
     "metadata": {},
     "output_type": "execute_result"
    }
   ],
   "source": [
    "power_mod(2,41,83)"
   ]
  },
  {
   "cell_type": "code",
   "execution_count": 36,
   "metadata": {},
   "outputs": [
    {
     "data": {
      "text/plain": [
       "82"
      ]
     },
     "execution_count": 36,
     "metadata": {},
     "output_type": "execute_result"
    }
   ],
   "source": [
    "power_mod(53,41,83)"
   ]
  },
  {
   "cell_type": "code",
   "execution_count": 37,
   "metadata": {},
   "outputs": [
    {
     "data": {
      "text/plain": [
       "82"
      ]
     },
     "execution_count": 37,
     "metadata": {},
     "output_type": "execute_result"
    }
   ],
   "source": [
    "power_mod(82,59,83)"
   ]
  }
 ],
 "metadata": {
  "kernelspec": {
   "display_name": "SageMath 9.2",
   "language": "sage",
   "name": "sagemath"
  },
  "language_info": {
   "codemirror_mode": {
    "name": "ipython",
    "version": 3
   },
   "file_extension": ".py",
   "mimetype": "text/x-python",
   "name": "python",
   "nbconvert_exporter": "python",
   "pygments_lexer": "ipython3",
   "version": "3.8.5"
  }
 },
 "nbformat": 4,
 "nbformat_minor": 4
}
