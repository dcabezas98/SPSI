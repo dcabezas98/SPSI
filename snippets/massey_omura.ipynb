{
 "cells": [
  {
   "cell_type": "code",
   "execution_count": 1,
   "metadata": {},
   "outputs": [],
   "source": [
    "from string import ascii_lowercase"
   ]
  },
  {
   "cell_type": "code",
   "execution_count": 10,
   "metadata": {},
   "outputs": [],
   "source": [
    "import random\n",
    "\n",
    "def generate_keys(q):\n",
    "    \n",
    "    K = GF(q, 'a')\n",
    "    invertible_element = None\n",
    "    \n",
    "        \n",
    "    while not invertible_element:\n",
    "        e = Integer(K.random_element())\n",
    "        if gcd(e, q-1) == 1:\n",
    "            #print(gcd(e, q-1))\n",
    "            invertible_element = e\n",
    "    \n",
    "    d = power_mod(Integer(invertible_element), -1, q-1)\n",
    "    \n",
    "    return Integer(invertible_element), Integer(d)\n"
   ]
  },
  {
   "cell_type": "code",
   "execution_count": 11,
   "metadata": {},
   "outputs": [],
   "source": [
    "q = 100019\n",
    "eA, dA = generate_keys(q)\n",
    "eB, dB = generate_keys(q)"
   ]
  },
  {
   "cell_type": "code",
   "execution_count": 6,
   "metadata": {},
   "outputs": [],
   "source": [
    "def MO_step1(m, q, eA, chunk_size=None):\n",
    "    \n",
    "    digits = int(log(q,10)) + 1\n",
    "    if chunk_size == None:\n",
    "        chunk_size = int(log(q,10))\n",
    "        \n",
    "    if chunk_size % 2 == 1:\n",
    "        chunk_size -= 1\n",
    "    \n",
    "    m_encoded = \"\".join([\"{:02d}\".format(ord(x)-97) for x in m.lower() if x in ascii_lowercase]) \n",
    "    \n",
    "    m_encoded = m_encoded + ((chunk_size - (len(m_encoded)% chunk_size )) % chunk_size)/2 * '29'\n",
    "    \n",
    "    f = len(m_encoded)/chunk_size\n",
    "    chunks = [ int(m_encoded[i*chunk_size:(i+1)*chunk_size]) for i in range(f) ]\n",
    "    \n",
    "    # https://github.com/sagemath/sage/blob/222059565bc2166f29c50a6d85db7992589098c2/src/sage/arith/misc.py#L2201\n",
    "    ciphered = [power_mod(x, eA, q) for x in chunks]\n",
    "    \n",
    "    formated = \"{:0\" + str(digits) + \"d}\"\n",
    "    \n",
    "    return \"\".join([formated.format(cn) for cn in ciphered])\n",
    "\n",
    "def MO_step2(m, q, eB, chunk_size=None):\n",
    "    \n",
    "    digits_n = int(math.log(q, 10)) + 1\n",
    "    \n",
    "    if chunk_size == None:\n",
    "        chunk_size = digits_n - 1\n",
    "        \n",
    "    if chunk_size % 2 == 1:\n",
    "        chunk_size -= 1\n",
    "    \n",
    "    ff = len(m)/digits_n\n",
    "    dk = [power_mod(int(m[i*digits_n:(i+1)*digits_n]), eB, q) for i in range(ff)]\n",
    "    \n",
    "    formated = \"{:0\" + str(digits_n) + \"d}\"\n",
    "    chars = \"\".join([formated.format(cn) for cn in dk])\n",
    "    return chars\n",
    "\n",
    "def MO_step3(m, q, dA, chunk_size=None):\n",
    "    return MO_step2(m, q, dA, chunk_size)\n",
    "\n",
    "def MO_step4(m, q, dB, chunk_size=None):\n",
    "    final =  MO_step2(m, q, dB, chunk_size)\n",
    "    #print(\"final: \", final)\n",
    "    digits_n = int(math.log(q, 10)) + 1\n",
    "    \n",
    "    if chunk_size == None:\n",
    "        chunk_size = digits_n - 1\n",
    "        \n",
    "    if chunk_size % 2 == 1:\n",
    "        chunk_size -= 1\n",
    "    \n",
    "    ff = len(m)/digits_n\n",
    "    dk = [int(final[i*digits_n:(i+1)*digits_n]) for i in range(ff)]\n",
    "    \n",
    "    formated = \"{:0\" + str(chunk_size) + \"d}\"\n",
    "    chars = \"\".join([formated.format(cn) for cn in dk])\n",
    "    return \"\".join([chr(int(chars[i*2:(i+1)*2])+97) for i in range(len(chars)/2)])"
   ]
  },
  {
   "cell_type": "code",
   "execution_count": 7,
   "metadata": {
    "scrolled": true
   },
   "outputs": [
    {
     "name": "stdout",
     "output_type": "stream",
     "text": [
      "065785099718071196000001065867070777041971079318034841067041029762\n",
      "016098047170093603000001087043082380021748083477065274062642082539\n",
      "014423050453020648000001002423095501083903048644021235040109045220\n",
      "juanmaabremelafrontera\n"
     ]
    }
   ],
   "source": [
    "s1 = MO_step1(\"Juanma abreme la frontera\", q, eA); print(s1)\n",
    "s2 = MO_step2(s1, q, eB); print(s2)\n",
    "s3 = MO_step3(s2, q, dA); print(s3)\n",
    "s4 = MO_step4(s3, q, dB); print(s4)"
   ]
  }
 ],
 "metadata": {
  "kernelspec": {
   "display_name": "SageMath 9.2",
   "language": "sage",
   "name": "sagemath"
  },
  "language_info": {
   "codemirror_mode": {
    "name": "ipython",
    "version": 3
   },
   "file_extension": ".py",
   "mimetype": "text/x-python",
   "name": "python",
   "nbconvert_exporter": "python",
   "pygments_lexer": "ipython3",
   "version": "3.8.5"
  }
 },
 "nbformat": 4,
 "nbformat_minor": 4
}
