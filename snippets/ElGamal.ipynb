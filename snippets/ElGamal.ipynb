{
 "cells": [
  {
   "cell_type": "code",
   "execution_count": 1,
   "metadata": {},
   "outputs": [],
   "source": [
    "import random"
   ]
  },
  {
   "cell_type": "code",
   "execution_count": 1,
   "metadata": {},
   "outputs": [],
   "source": [
    "p = 100019"
   ]
  },
  {
   "cell_type": "code",
   "execution_count": 40,
   "metadata": {},
   "outputs": [
    {
     "data": {
      "text/plain": [
       "(100019, 54474)"
      ]
     },
     "execution_count": 40,
     "metadata": {},
     "output_type": "execute_result"
    }
   ],
   "source": [
    "k = GF(p, modulus=\"primitive\")\n",
    "g = k.random_element()\n",
    "g.order(), g"
   ]
  },
  {
   "cell_type": "code",
   "execution_count": 43,
   "metadata": {},
   "outputs": [],
   "source": [
    "a1, a2 = random.randint(0, p-1), random.randint(0, p-1)\n",
    "y1, y2 = power_mod(g, a1, p), power_mod(g, a2, p)"
   ]
  },
  {
   "cell_type": "code",
   "execution_count": 4,
   "metadata": {},
   "outputs": [],
   "source": [
    "def ElGamal_Encrypt(p,y,g,m, k=None):\n",
    "    while k == None:\n",
    "        candidate = random.randint(2, p-1)\n",
    "        if gcd(candidate, p-1) == 1:\n",
    "            k = candidate\n",
    "            \n",
    "    return power_mod(g,k,p), m*power_mod(y, k, p) % p\n",
    "\n",
    "def ElGamal_Decrypt(p,g,a,M):            \n",
    "    return power_mod(M[0], p-1-a, p)*M[1] % p"
   ]
  },
  {
   "cell_type": "code",
   "execution_count": 5,
   "metadata": {},
   "outputs": [
    {
     "name": "stdout",
     "output_type": "stream",
     "text": [
      "(723242481, 677381141)\n",
      "9\n"
     ]
    }
   ],
   "source": [
    "p = 818198699\n",
    "g = 2\n",
    "a2 = 21702\n",
    "y2 = power_mod(g, a2, p)\n",
    "m1 = ElGamal_Encrypt(p, y2, g, 9)\n",
    "print(m1)\n",
    "print(ElGamal_Decrypt(p, g, a2, m1))"
   ]
  }
 ],
 "metadata": {
  "kernelspec": {
   "display_name": "SageMath 9.2",
   "language": "sage",
   "name": "sagemath"
  },
  "language_info": {
   "codemirror_mode": {
    "name": "ipython",
    "version": 3
   },
   "file_extension": ".py",
   "mimetype": "text/x-python",
   "name": "python",
   "nbconvert_exporter": "python",
   "pygments_lexer": "ipython3",
   "version": "3.8.5"
  }
 },
 "nbformat": 4,
 "nbformat_minor": 4
}
